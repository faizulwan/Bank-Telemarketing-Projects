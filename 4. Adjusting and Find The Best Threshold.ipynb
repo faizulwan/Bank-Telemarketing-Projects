{
 "cells": [
  {
   "cell_type": "markdown",
   "metadata": {},
   "source": [
    "<a id=\"1\"></a>\n",
    "<h1 style=\"color:White; background-color:#0b6b6e; font-size:250%; text-align:center; border-radius: 10px; padding-top: 10px; padding-bottom: 10px\">Threshold</h1>"
   ]
  },
  {
   "cell_type": "markdown",
   "metadata": {},
   "source": [
    "<a id=\"1\"></a>\n",
    "<h1 style=\"color:White; background-color:#0b6b6e; font-size:250%; text-align:left; border-radius: 10px; padding-top: 10px; padding-bottom: 10px\">1. Import Library</h1>"
   ]
  },
  {
   "cell_type": "code",
   "execution_count": 16,
   "metadata": {},
   "outputs": [],
   "source": [
    "import pandas as pd\n",
    "import numpy as np\n",
    "import matplotlib.pyplot as plt\n",
    "import seaborn as sns\n",
    "\n",
    "from sklearn.model_selection import cross_val_score\n",
    "from sklearn.model_selection import StratifiedKFold\n",
    "from sklearn.metrics import precision_recall_curve\n",
    "from sklearn.metrics import plot_precision_recall_curve\n",
    "from sklearn.metrics import average_precision_score\n",
    "import matplotlib.pyplot as plt\n",
    "from sklearn.metrics import make_scorer, plot_confusion_matrix, confusion_matrix, classification_report, f1_score, precision_score, recall_score, matthews_corrcoef, roc_auc_score\n",
    "\n",
    "from sklearn.model_selection import train_test_split, GridSearchCV\n",
    "from sklearn.preprocessing import MinMaxScaler\n",
    "from sklearn.preprocessing import PolynomialFeatures\n",
    "from sklearn.feature_selection import SelectPercentile\n",
    "from sklearn.metrics import precision_recall_curve\n",
    "from sklearn.preprocessing import OneHotEncoder\n",
    "\n",
    "from sklearn.compose import ColumnTransformer\n",
    "from imblearn.pipeline import Pipeline\n",
    "\n",
    "from sklearn.linear_model import LogisticRegression\n",
    "\n",
    "import warnings\n",
    "warnings.filterwarnings(\"ignore\")"
   ]
  },
  {
   "cell_type": "code",
   "execution_count": null,
   "metadata": {},
   "outputs": [],
   "source": []
  },
  {
   "cell_type": "code",
   "execution_count": 17,
   "metadata": {},
   "outputs": [
    {
     "data": {
      "text/html": [
       "<div>\n",
       "<style scoped>\n",
       "    .dataframe tbody tr th:only-of-type {\n",
       "        vertical-align: middle;\n",
       "    }\n",
       "\n",
       "    .dataframe tbody tr th {\n",
       "        vertical-align: top;\n",
       "    }\n",
       "\n",
       "    .dataframe thead th {\n",
       "        text-align: right;\n",
       "    }\n",
       "</style>\n",
       "<table border=\"1\" class=\"dataframe\">\n",
       "  <thead>\n",
       "    <tr style=\"text-align: right;\">\n",
       "      <th></th>\n",
       "      <th>age</th>\n",
       "      <th>job</th>\n",
       "      <th>marital</th>\n",
       "      <th>education</th>\n",
       "      <th>housing</th>\n",
       "      <th>loan</th>\n",
       "      <th>month</th>\n",
       "      <th>campaign</th>\n",
       "      <th>pdays</th>\n",
       "      <th>previous</th>\n",
       "      <th>poutcome</th>\n",
       "      <th>emp.var.rate</th>\n",
       "      <th>cons.price.idx</th>\n",
       "      <th>cons.conf.idx</th>\n",
       "      <th>euribor3m</th>\n",
       "      <th>nr.employed</th>\n",
       "      <th>label</th>\n",
       "    </tr>\n",
       "  </thead>\n",
       "  <tbody>\n",
       "    <tr>\n",
       "      <th>0</th>\n",
       "      <td>56</td>\n",
       "      <td>housemaid</td>\n",
       "      <td>married</td>\n",
       "      <td>basic.4y</td>\n",
       "      <td>no</td>\n",
       "      <td>no</td>\n",
       "      <td>may</td>\n",
       "      <td>1</td>\n",
       "      <td>0</td>\n",
       "      <td>0</td>\n",
       "      <td>nonexistent</td>\n",
       "      <td>1.1</td>\n",
       "      <td>93.994</td>\n",
       "      <td>-36.4</td>\n",
       "      <td>4.857</td>\n",
       "      <td>5191.0</td>\n",
       "      <td>0</td>\n",
       "    </tr>\n",
       "    <tr>\n",
       "      <th>1</th>\n",
       "      <td>57</td>\n",
       "      <td>services</td>\n",
       "      <td>married</td>\n",
       "      <td>high.school</td>\n",
       "      <td>no</td>\n",
       "      <td>no</td>\n",
       "      <td>may</td>\n",
       "      <td>1</td>\n",
       "      <td>0</td>\n",
       "      <td>0</td>\n",
       "      <td>nonexistent</td>\n",
       "      <td>1.1</td>\n",
       "      <td>93.994</td>\n",
       "      <td>-36.4</td>\n",
       "      <td>4.857</td>\n",
       "      <td>5191.0</td>\n",
       "      <td>0</td>\n",
       "    </tr>\n",
       "    <tr>\n",
       "      <th>2</th>\n",
       "      <td>37</td>\n",
       "      <td>services</td>\n",
       "      <td>married</td>\n",
       "      <td>high.school</td>\n",
       "      <td>yes</td>\n",
       "      <td>no</td>\n",
       "      <td>may</td>\n",
       "      <td>1</td>\n",
       "      <td>0</td>\n",
       "      <td>0</td>\n",
       "      <td>nonexistent</td>\n",
       "      <td>1.1</td>\n",
       "      <td>93.994</td>\n",
       "      <td>-36.4</td>\n",
       "      <td>4.857</td>\n",
       "      <td>5191.0</td>\n",
       "      <td>0</td>\n",
       "    </tr>\n",
       "  </tbody>\n",
       "</table>\n",
       "</div>"
      ],
      "text/plain": [
       "   age        job  marital    education housing loan month  campaign  pdays  \\\n",
       "0   56  housemaid  married     basic.4y      no   no   may         1      0   \n",
       "1   57   services  married  high.school      no   no   may         1      0   \n",
       "2   37   services  married  high.school     yes   no   may         1      0   \n",
       "\n",
       "   previous     poutcome  emp.var.rate  cons.price.idx  cons.conf.idx  \\\n",
       "0         0  nonexistent           1.1          93.994          -36.4   \n",
       "1         0  nonexistent           1.1          93.994          -36.4   \n",
       "2         0  nonexistent           1.1          93.994          -36.4   \n",
       "\n",
       "   euribor3m  nr.employed  label  \n",
       "0      4.857       5191.0      0  \n",
       "1      4.857       5191.0      0  \n",
       "2      4.857       5191.0      0  "
      ]
     },
     "execution_count": 17,
     "metadata": {},
     "output_type": "execute_result"
    }
   ],
   "source": [
    "df = pd.read_csv('campaign_clean.csv').drop('Unnamed: 0', axis=1)\n",
    "df.head(3)"
   ]
  },
  {
   "cell_type": "markdown",
   "metadata": {},
   "source": [
    "## Data Splitting"
   ]
  },
  {
   "cell_type": "code",
   "execution_count": 18,
   "metadata": {},
   "outputs": [],
   "source": [
    "X = df.drop('label', axis=1)\n",
    "y = df['label']"
   ]
  },
  {
   "cell_type": "code",
   "execution_count": 19,
   "metadata": {},
   "outputs": [],
   "source": [
    "X_train, X_test, y_train, y_test = train_test_split(X,y, stratify=y, random_state=2020, test_size=.2)"
   ]
  },
  {
   "cell_type": "code",
   "execution_count": 20,
   "metadata": {},
   "outputs": [],
   "source": [
    "### Pipeline\n",
    "num_scale_trans = Pipeline(steps=[\n",
    "    ('scaler', MinMaxScaler()),\n",
    "])\n",
    "\n",
    "\n",
    "num_poly_trans = Pipeline(steps=[\n",
    "    ('poly', PolynomialFeatures(degree=3))])\n",
    "\n",
    "\n",
    "cat_trans = Pipeline(steps=[\n",
    "    ('onehot', OneHotEncoder(handle_unknown='ignore'))\n",
    "])\n",
    "\n",
    "\n",
    "\n",
    "\n",
    "### Transformer\n",
    "preprocessor_1 = ColumnTransformer([\n",
    "        ('num_scale_trans', num_scale_trans,['emp.var.rate','euribor3m','nr.employed','cons.price.idx','cons.conf.idx','age', 'campaign', 'pdays', 'previous']),\n",
    "        ('cat', cat_trans, ['marital','housing','loan', 'poutcome','job', 'education', 'month'])\n",
    "])\n",
    "     \n",
    "    \n",
    "preprocessor_2 = ColumnTransformer([\n",
    "        ('cat', cat_trans, ['marital','housing','loan', 'poutcome','job', 'education', 'month'])])\n",
    "\n",
    "\n",
    "preprocessor_1_poly = ColumnTransformer([\n",
    "        ('num_scale_trans', num_scale_trans,['emp.var.rate','euribor3m','nr.employed','cons.price.idx','cons.conf.idx','age', 'campaign', 'pdays', 'previous']),\n",
    "        ('num_poly_trans', num_poly_trans,['emp.var.rate','euribor3m','nr.employed','cons.price.idx','cons.conf.idx','age', 'campaign', 'pdays', 'previous']),\n",
    "        ('cat', cat_trans, ['marital','housing','loan', 'poutcome','job', 'education', 'month'])\n",
    "])\n",
    "     \n",
    "    \n"
   ]
  },
  {
   "cell_type": "markdown",
   "metadata": {},
   "source": [
    "<a id=\"1\"></a>\n",
    "<h1 style=\"color:White; background-color:#0b6b6e; font-size:250%; text-align:left; border-radius: 10px; padding-top: 10px; padding-bottom: 10px\">2. Model Fitting</h1>"
   ]
  },
  {
   "cell_type": "code",
   "execution_count": 21,
   "metadata": {},
   "outputs": [],
   "source": [
    "logreg_poly_select_tuned = Pipeline(steps=[('preprocessor_1_poly', preprocessor_1_poly),\n",
    "                                ('select', SelectPercentile(percentile=30)),\n",
    "                                ('logreg', LogisticRegression(solver='newton-cg', penalty='l2', max_iter=100,random_state = 2020))])"
   ]
  },
  {
   "cell_type": "code",
   "execution_count": 22,
   "metadata": {},
   "outputs": [],
   "source": [
    "metric = 'precision'\n",
    "def model_evaluation_cv(logreg_poly_select_tuned, metric):\n",
    "  skfold = StratifiedKFold(n_splits = 5)\n",
    "  model_cv = cross_val_score(logreg_poly_select_tuned, X_train, y_train, cv = skfold, scoring = metric, n_jobs=-1, verbose=1)\n",
    "  return model_cv\n",
    "\n",
    "def print_result(model_cv):\n",
    "  print('logreg_poly_select_tuned CV Precision score',model_cv)\n",
    "  print('logreg_poly_select_tuned CV Precision score mean',model_cv.mean())\n",
    "  print('logreg_poly_select_tuned CV Precision score std',model_cv.std())"
   ]
  },
  {
   "cell_type": "code",
   "execution_count": 23,
   "metadata": {},
   "outputs": [
    {
     "name": "stderr",
     "output_type": "stream",
     "text": [
      "[Parallel(n_jobs=-1)]: Using backend LokyBackend with 8 concurrent workers.\n",
      "[Parallel(n_jobs=-1)]: Done   2 out of   5 | elapsed:   14.6s remaining:   21.9s\n"
     ]
    },
    {
     "name": "stdout",
     "output_type": "stream",
     "text": [
      "logreg_poly_select_tuned CV Precision score [0.71341463 0.70512821 0.69512195 0.67171717 0.75903614]\n",
      "logreg_poly_select_tuned CV Precision score mean 0.7088836213579087\n",
      "logreg_poly_select_tuned CV Precision score std 0.02870762044202185\n"
     ]
    },
    {
     "name": "stderr",
     "output_type": "stream",
     "text": [
      "[Parallel(n_jobs=-1)]: Done   5 out of   5 | elapsed:   15.4s finished\n"
     ]
    }
   ],
   "source": [
    "logreg_poly_select_tuned_model_cv = model_evaluation_cv(logreg_poly_select_tuned, metric)\n",
    "print_result(logreg_poly_select_tuned_model_cv)"
   ]
  },
  {
   "cell_type": "code",
   "execution_count": 110,
   "metadata": {},
   "outputs": [
    {
     "data": {
      "text/plain": [
       "Pipeline(steps=[('preprocessor_1_poly',\n",
       "                 ColumnTransformer(transformers=[('num_scale_trans',\n",
       "                                                  Pipeline(steps=[('scaler',\n",
       "                                                                   MinMaxScaler())]),\n",
       "                                                  ['emp.var.rate', 'euribor3m',\n",
       "                                                   'nr.employed',\n",
       "                                                   'cons.price.idx',\n",
       "                                                   'cons.conf.idx', 'age',\n",
       "                                                   'campaign', 'pdays',\n",
       "                                                   'previous']),\n",
       "                                                 ('num_poly_trans',\n",
       "                                                  Pipeline(steps=[('poly',\n",
       "                                                                   PolynomialFeatures(degree=3))]),\n",
       "                                                  ['emp.var.rate', 'euribor3m',\n",
       "                                                   'nr.employed',\n",
       "                                                   'cons.price.idx',\n",
       "                                                   'cons.conf.idx', 'age',\n",
       "                                                   'campaign', 'pdays',\n",
       "                                                   'previous']),\n",
       "                                                 ('cat',\n",
       "                                                  Pipeline(steps=[('onehot',\n",
       "                                                                   OneHotEncoder(handle_unknown='ignore'))]),\n",
       "                                                  ['marital', 'housing', 'loan',\n",
       "                                                   'poutcome', 'job',\n",
       "                                                   'education', 'month'])])),\n",
       "                ('select', SelectPercentile(percentile=30)),\n",
       "                ('logreg',\n",
       "                 LogisticRegression(random_state=2020, solver='newton-cg'))])"
      ]
     },
     "execution_count": 110,
     "metadata": {},
     "output_type": "execute_result"
    }
   ],
   "source": [
    "logreg_poly_select_tuned.fit(X_train, y_train)"
   ]
  },
  {
   "cell_type": "markdown",
   "metadata": {},
   "source": [
    "<a id=\"1\"></a>\n",
    "<h1 style=\"color:White; background-color:#0b6b6e; font-size:250%; text-align:left; border-radius: 10px; padding-top: 10px; padding-bottom: 10px\">3. Model Evaluation</h1>"
   ]
  },
  {
   "cell_type": "code",
   "execution_count": 111,
   "metadata": {},
   "outputs": [
    {
     "name": "stdout",
     "output_type": "stream",
     "text": [
      "              precision    recall  f1-score   support\n",
      "\n",
      "           0       0.91      0.99      0.95      6797\n",
      "           1       0.71      0.18      0.29       852\n",
      "\n",
      "    accuracy                           0.90      7649\n",
      "   macro avg       0.81      0.59      0.62      7649\n",
      "weighted avg       0.88      0.90      0.87      7649\n",
      "\n"
     ]
    }
   ],
   "source": [
    "y_pred_logreg_poly_select_tuned = logreg_poly_select_tuned.predict(X_test)\n",
    "print(classification_report(y_test, y_pred_logreg_poly_select_tuned))"
   ]
  },
  {
   "cell_type": "code",
   "execution_count": 112,
   "metadata": {},
   "outputs": [
    {
     "data": {
      "text/plain": [
       "0.7090909090909091"
      ]
     },
     "execution_count": 112,
     "metadata": {},
     "output_type": "execute_result"
    }
   ],
   "source": [
    "precision_score(y_test,y_pred_logreg_poly_select_tuned)"
   ]
  },
  {
   "cell_type": "code",
   "execution_count": 113,
   "metadata": {},
   "outputs": [
    {
     "data": {
      "text/plain": [
       "0.18309859154929578"
      ]
     },
     "execution_count": 113,
     "metadata": {},
     "output_type": "execute_result"
    }
   ],
   "source": [
    "recall_score(y_test,y_pred_logreg_poly_select_tuned)"
   ]
  },
  {
   "cell_type": "code",
   "execution_count": 114,
   "metadata": {},
   "outputs": [],
   "source": [
    "df_cm = pd.DataFrame(confusion_matrix(y_test, y_pred_logreg_poly_select_tuned))"
   ]
  },
  {
   "cell_type": "code",
   "execution_count": 116,
   "metadata": {},
   "outputs": [
    {
     "data": {
      "image/png": "[encoded data removed]",
      "text/plain": [
       "<Figure size 432x288 with 2 Axes>"
      ]
     },
     "metadata": {
      "needs_background": "light"
     },
     "output_type": "display_data"
    }
   ],
   "source": [
    "sns.heatmap(df_cm, annot=True, vmin=0, vmax=7000, fmt='1')\n",
    "plt.show()"
   ]
  },
  {
   "cell_type": "markdown",
   "metadata": {},
   "source": [
    "## Precision and Recall\n",
    "- Precision is a metric that calculate the ratio between TP and FP following this formula TP/(TP+FP). Precision score is a metric that focus on false postive label, we use this to predict the negative label accurately (not assigned as positive).\n",
    "\n",
    "- Recall is a metric that calculate the ratio between TP and FN following this formula TP/(TP+FN). Recall score is a metric that focus on false negative label, we use this to predict the positive label accurately (not assigned as negative).\n"
   ]
  },
  {
   "cell_type": "markdown",
   "metadata": {},
   "source": [
    "## Metric for this case\n",
    "\n",
    "1. FP is a condition when the model predict THE CLIENTS/CUSTOMERS do subscribe the deposit (1), but actually they do not subscribe (0)\n",
    "    - High number of FP would increase the marketing budget and would spend lot of time\n",
    "    - The company's revenue will decrease due to lot of budget and time that they spend to call the False Positive Clients/Customer\n",
    "    \n",
    "    \n",
    "2. FN is a condition when the model predict THE CLIENTS/CUSTOMERS do not subscribe the deposit (0), buat actually they subscibe (1)\n",
    "    - High number of FN would make the company more missing the potential clients/customers.\n",
    "    - The company;s revenue will might decrease due to missing the potential clients/customers prediction,\n",
    "\n",
    "\n",
    "<img src=\"https://miro.medium.com/max/2102/1*fxiTNIgOyvAombPJx5KGeA.png\" alt=\"Hotel Lobby\" style=\"width:690px;height:345px;\">\n",
    " \n",
    "As I mentioned before in #1 notebook the main goal this project is making the campaign more efficient in terms of budget and time. So that in this case, we are going to use precision metric. Because we need to reduce the FP, a component that make budget and time are floating."
   ]
  },
  {
   "cell_type": "markdown",
   "metadata": {},
   "source": [
    "<a id=\"1\"></a>\n",
    "<h1 style=\"color:White; background-color:#0b6b6e; font-size:250%; text-align:left; border-radius: 10px; padding-top: 10px; padding-bottom: 10px\">4. Picking Threshold</h1>"
   ]
  },
  {
   "cell_type": "code",
   "execution_count": 117,
   "metadata": {},
   "outputs": [
    {
     "data": {
      "text/plain": [
       "<sklearn.metrics._plot.precision_recall_curve.PrecisionRecallDisplay at 0x154af010700>"
      ]
     },
     "execution_count": 117,
     "metadata": {},
     "output_type": "execute_result"
    },
    {
     "data": {
      "image/png": "[encoded data removed]",
      "text/plain": [
       "<Figure size 432x288 with 1 Axes>"
      ]
     },
     "metadata": {
      "needs_background": "light"
     },
     "output_type": "display_data"
    }
   ],
   "source": [
    "plot_precision_recall_curve(logreg_poly_select_tuned, X_test, y_test)"
   ]
  },
  {
   "cell_type": "code",
   "execution_count": 125,
   "metadata": {},
   "outputs": [],
   "source": [
    "y_proba = logreg_poly_select_tuned.predict_proba(X_test)\n",
    "y_proba = y_proba[:,1]\n",
    "prec, recall, thresh = precision_recall_curve(y_test, y_proba)"
   ]
  },
  {
   "cell_type": "code",
   "execution_count": 137,
   "metadata": {},
   "outputs": [
    {
     "data": {
      "text/html": [
       "<div>\n",
       "<style scoped>\n",
       "    .dataframe tbody tr th:only-of-type {\n",
       "        vertical-align: middle;\n",
       "    }\n",
       "\n",
       "    .dataframe tbody tr th {\n",
       "        vertical-align: top;\n",
       "    }\n",
       "\n",
       "    .dataframe thead th {\n",
       "        text-align: right;\n",
       "    }\n",
       "</style>\n",
       "<table border=\"1\" class=\"dataframe\">\n",
       "  <thead>\n",
       "    <tr style=\"text-align: right;\">\n",
       "      <th></th>\n",
       "      <th>0</th>\n",
       "    </tr>\n",
       "  </thead>\n",
       "  <tbody>\n",
       "    <tr>\n",
       "      <th>1017</th>\n",
       "      <td>0.823168</td>\n",
       "    </tr>\n",
       "    <tr>\n",
       "      <th>2322</th>\n",
       "      <td>0.815734</td>\n",
       "    </tr>\n",
       "    <tr>\n",
       "      <th>7062</th>\n",
       "      <td>0.815076</td>\n",
       "    </tr>\n",
       "    <tr>\n",
       "      <th>6497</th>\n",
       "      <td>0.806609</td>\n",
       "    </tr>\n",
       "    <tr>\n",
       "      <th>1611</th>\n",
       "      <td>0.804756</td>\n",
       "    </tr>\n",
       "    <tr>\n",
       "      <th>...</th>\n",
       "      <td>...</td>\n",
       "    </tr>\n",
       "    <tr>\n",
       "      <th>6540</th>\n",
       "      <td>0.034611</td>\n",
       "    </tr>\n",
       "    <tr>\n",
       "      <th>1134</th>\n",
       "      <td>0.034611</td>\n",
       "    </tr>\n",
       "    <tr>\n",
       "      <th>2352</th>\n",
       "      <td>0.034611</td>\n",
       "    </tr>\n",
       "    <tr>\n",
       "      <th>2739</th>\n",
       "      <td>0.034611</td>\n",
       "    </tr>\n",
       "    <tr>\n",
       "      <th>1580</th>\n",
       "      <td>0.034510</td>\n",
       "    </tr>\n",
       "  </tbody>\n",
       "</table>\n",
       "<p>7649 rows × 1 columns</p>\n",
       "</div>"
      ],
      "text/plain": [
       "             0\n",
       "1017  0.823168\n",
       "2322  0.815734\n",
       "7062  0.815076\n",
       "6497  0.806609\n",
       "1611  0.804756\n",
       "...        ...\n",
       "6540  0.034611\n",
       "1134  0.034611\n",
       "2352  0.034611\n",
       "2739  0.034611\n",
       "1580  0.034510\n",
       "\n",
       "[7649 rows x 1 columns]"
      ]
     },
     "execution_count": 137,
     "metadata": {},
     "output_type": "execute_result"
    }
   ],
   "source": [
    "# pd.DataFrame(y_proba).sort_values(by=0 ,ascending=False)"
   ]
  },
  {
   "cell_type": "code",
   "execution_count": 126,
   "metadata": {},
   "outputs": [
    {
     "data": {
      "text/html": [
       "<div>\n",
       "<style scoped>\n",
       "    .dataframe tbody tr th:only-of-type {\n",
       "        vertical-align: middle;\n",
       "    }\n",
       "\n",
       "    .dataframe tbody tr th {\n",
       "        vertical-align: top;\n",
       "    }\n",
       "\n",
       "    .dataframe thead th {\n",
       "        text-align: right;\n",
       "    }\n",
       "</style>\n",
       "<table border=\"1\" class=\"dataframe\">\n",
       "  <thead>\n",
       "    <tr style=\"text-align: right;\">\n",
       "      <th></th>\n",
       "      <th>precision</th>\n",
       "      <th>recall</th>\n",
       "      <th>threshold</th>\n",
       "    </tr>\n",
       "  </thead>\n",
       "  <tbody>\n",
       "    <tr>\n",
       "      <th>0</th>\n",
       "      <td>0.111562</td>\n",
       "      <td>1.000000</td>\n",
       "      <td>0.034824</td>\n",
       "    </tr>\n",
       "    <tr>\n",
       "      <th>1</th>\n",
       "      <td>0.111548</td>\n",
       "      <td>0.998826</td>\n",
       "      <td>0.034876</td>\n",
       "    </tr>\n",
       "    <tr>\n",
       "      <th>2</th>\n",
       "      <td>0.111563</td>\n",
       "      <td>0.998826</td>\n",
       "      <td>0.034927</td>\n",
       "    </tr>\n",
       "    <tr>\n",
       "      <th>3</th>\n",
       "      <td>0.111577</td>\n",
       "      <td>0.998826</td>\n",
       "      <td>0.034936</td>\n",
       "    </tr>\n",
       "    <tr>\n",
       "      <th>4</th>\n",
       "      <td>0.111621</td>\n",
       "      <td>0.998826</td>\n",
       "      <td>0.034978</td>\n",
       "    </tr>\n",
       "    <tr>\n",
       "      <th>...</th>\n",
       "      <td>...</td>\n",
       "      <td>...</td>\n",
       "      <td>...</td>\n",
       "    </tr>\n",
       "    <tr>\n",
       "      <th>2666</th>\n",
       "      <td>0.600000</td>\n",
       "      <td>0.003521</td>\n",
       "      <td>0.804756</td>\n",
       "    </tr>\n",
       "    <tr>\n",
       "      <th>2667</th>\n",
       "      <td>0.500000</td>\n",
       "      <td>0.002347</td>\n",
       "      <td>0.806609</td>\n",
       "    </tr>\n",
       "    <tr>\n",
       "      <th>2668</th>\n",
       "      <td>0.666667</td>\n",
       "      <td>0.002347</td>\n",
       "      <td>0.815076</td>\n",
       "    </tr>\n",
       "    <tr>\n",
       "      <th>2669</th>\n",
       "      <td>0.500000</td>\n",
       "      <td>0.001174</td>\n",
       "      <td>0.815734</td>\n",
       "    </tr>\n",
       "    <tr>\n",
       "      <th>2670</th>\n",
       "      <td>1.000000</td>\n",
       "      <td>0.001174</td>\n",
       "      <td>0.823168</td>\n",
       "    </tr>\n",
       "  </tbody>\n",
       "</table>\n",
       "<p>2671 rows × 3 columns</p>\n",
       "</div>"
      ],
      "text/plain": [
       "      precision    recall  threshold\n",
       "0      0.111562  1.000000   0.034824\n",
       "1      0.111548  0.998826   0.034876\n",
       "2      0.111563  0.998826   0.034927\n",
       "3      0.111577  0.998826   0.034936\n",
       "4      0.111621  0.998826   0.034978\n",
       "...         ...       ...        ...\n",
       "2666   0.600000  0.003521   0.804756\n",
       "2667   0.500000  0.002347   0.806609\n",
       "2668   0.666667  0.002347   0.815076\n",
       "2669   0.500000  0.001174   0.815734\n",
       "2670   1.000000  0.001174   0.823168\n",
       "\n",
       "[2671 rows x 3 columns]"
      ]
     },
     "execution_count": 126,
     "metadata": {},
     "output_type": "execute_result"
    }
   ],
   "source": [
    "pr_df = pd.DataFrame({'precision': prec[:-1], 'recall': recall[:-1], 'threshold': thresh})\n",
    "pr_df"
   ]
  },
  {
   "cell_type": "code",
   "execution_count": 127,
   "metadata": {},
   "outputs": [
    {
     "data": {
      "text/html": [
       "<div>\n",
       "<style scoped>\n",
       "    .dataframe tbody tr th:only-of-type {\n",
       "        vertical-align: middle;\n",
       "    }\n",
       "\n",
       "    .dataframe tbody tr th {\n",
       "        vertical-align: top;\n",
       "    }\n",
       "\n",
       "    .dataframe thead th {\n",
       "        text-align: right;\n",
       "    }\n",
       "</style>\n",
       "<table border=\"1\" class=\"dataframe\">\n",
       "  <thead>\n",
       "    <tr style=\"text-align: right;\">\n",
       "      <th></th>\n",
       "      <th>precision</th>\n",
       "      <th>recall</th>\n",
       "      <th>threshold</th>\n",
       "    </tr>\n",
       "  </thead>\n",
       "  <tbody>\n",
       "    <tr>\n",
       "      <th>2453</th>\n",
       "      <td>0.709091</td>\n",
       "      <td>0.183099</td>\n",
       "      <td>0.503324</td>\n",
       "    </tr>\n",
       "    <tr>\n",
       "      <th>2455</th>\n",
       "      <td>0.711009</td>\n",
       "      <td>0.181925</td>\n",
       "      <td>0.508277</td>\n",
       "    </tr>\n",
       "    <tr>\n",
       "      <th>2456</th>\n",
       "      <td>0.709677</td>\n",
       "      <td>0.180751</td>\n",
       "      <td>0.511710</td>\n",
       "    </tr>\n",
       "    <tr>\n",
       "      <th>2458</th>\n",
       "      <td>0.711628</td>\n",
       "      <td>0.179577</td>\n",
       "      <td>0.521399</td>\n",
       "    </tr>\n",
       "    <tr>\n",
       "      <th>2459</th>\n",
       "      <td>0.714953</td>\n",
       "      <td>0.179577</td>\n",
       "      <td>0.525697</td>\n",
       "    </tr>\n",
       "    <tr>\n",
       "      <th>2460</th>\n",
       "      <td>0.713615</td>\n",
       "      <td>0.178404</td>\n",
       "      <td>0.532208</td>\n",
       "    </tr>\n",
       "    <tr>\n",
       "      <th>2461</th>\n",
       "      <td>0.712264</td>\n",
       "      <td>0.177230</td>\n",
       "      <td>0.540937</td>\n",
       "    </tr>\n",
       "    <tr>\n",
       "      <th>2462</th>\n",
       "      <td>0.710900</td>\n",
       "      <td>0.176056</td>\n",
       "      <td>0.543731</td>\n",
       "    </tr>\n",
       "    <tr>\n",
       "      <th>2463</th>\n",
       "      <td>0.714286</td>\n",
       "      <td>0.176056</td>\n",
       "      <td>0.544641</td>\n",
       "    </tr>\n",
       "    <tr>\n",
       "      <th>2464</th>\n",
       "      <td>0.717703</td>\n",
       "      <td>0.176056</td>\n",
       "      <td>0.554248</td>\n",
       "    </tr>\n",
       "    <tr>\n",
       "      <th>2465</th>\n",
       "      <td>0.716346</td>\n",
       "      <td>0.174883</td>\n",
       "      <td>0.561874</td>\n",
       "    </tr>\n",
       "    <tr>\n",
       "      <th>2466</th>\n",
       "      <td>0.719807</td>\n",
       "      <td>0.174883</td>\n",
       "      <td>0.612168</td>\n",
       "    </tr>\n",
       "    <tr>\n",
       "      <th>2467</th>\n",
       "      <td>0.723301</td>\n",
       "      <td>0.174883</td>\n",
       "      <td>0.613482</td>\n",
       "    </tr>\n",
       "    <tr>\n",
       "      <th>2468</th>\n",
       "      <td>0.721951</td>\n",
       "      <td>0.173709</td>\n",
       "      <td>0.613714</td>\n",
       "    </tr>\n",
       "    <tr>\n",
       "      <th>2469</th>\n",
       "      <td>0.720588</td>\n",
       "      <td>0.172535</td>\n",
       "      <td>0.619670</td>\n",
       "    </tr>\n",
       "    <tr>\n",
       "      <th>2470</th>\n",
       "      <td>0.719212</td>\n",
       "      <td>0.171362</td>\n",
       "      <td>0.619855</td>\n",
       "    </tr>\n",
       "    <tr>\n",
       "      <th>2471</th>\n",
       "      <td>0.722772</td>\n",
       "      <td>0.171362</td>\n",
       "      <td>0.625805</td>\n",
       "    </tr>\n",
       "    <tr>\n",
       "      <th>2472</th>\n",
       "      <td>0.721393</td>\n",
       "      <td>0.170188</td>\n",
       "      <td>0.627740</td>\n",
       "    </tr>\n",
       "    <tr>\n",
       "      <th>2473</th>\n",
       "      <td>0.720000</td>\n",
       "      <td>0.169014</td>\n",
       "      <td>0.628638</td>\n",
       "    </tr>\n",
       "    <tr>\n",
       "      <th>2474</th>\n",
       "      <td>0.718593</td>\n",
       "      <td>0.167840</td>\n",
       "      <td>0.628895</td>\n",
       "    </tr>\n",
       "    <tr>\n",
       "      <th>2475</th>\n",
       "      <td>0.717172</td>\n",
       "      <td>0.166667</td>\n",
       "      <td>0.631648</td>\n",
       "    </tr>\n",
       "    <tr>\n",
       "      <th>2476</th>\n",
       "      <td>0.715736</td>\n",
       "      <td>0.165493</td>\n",
       "      <td>0.634042</td>\n",
       "    </tr>\n",
       "    <tr>\n",
       "      <th>2477</th>\n",
       "      <td>0.719388</td>\n",
       "      <td>0.165493</td>\n",
       "      <td>0.636472</td>\n",
       "    </tr>\n",
       "    <tr>\n",
       "      <th>2478</th>\n",
       "      <td>0.717949</td>\n",
       "      <td>0.164319</td>\n",
       "      <td>0.637829</td>\n",
       "    </tr>\n",
       "    <tr>\n",
       "      <th>2479</th>\n",
       "      <td>0.716495</td>\n",
       "      <td>0.163146</td>\n",
       "      <td>0.638003</td>\n",
       "    </tr>\n",
       "  </tbody>\n",
       "</table>\n",
       "</div>"
      ],
      "text/plain": [
       "      precision    recall  threshold\n",
       "2453   0.709091  0.183099   0.503324\n",
       "2455   0.711009  0.181925   0.508277\n",
       "2456   0.709677  0.180751   0.511710\n",
       "2458   0.711628  0.179577   0.521399\n",
       "2459   0.714953  0.179577   0.525697\n",
       "2460   0.713615  0.178404   0.532208\n",
       "2461   0.712264  0.177230   0.540937\n",
       "2462   0.710900  0.176056   0.543731\n",
       "2463   0.714286  0.176056   0.544641\n",
       "2464   0.717703  0.176056   0.554248\n",
       "2465   0.716346  0.174883   0.561874\n",
       "2466   0.719807  0.174883   0.612168\n",
       "2467   0.723301  0.174883   0.613482\n",
       "2468   0.721951  0.173709   0.613714\n",
       "2469   0.720588  0.172535   0.619670\n",
       "2470   0.719212  0.171362   0.619855\n",
       "2471   0.722772  0.171362   0.625805\n",
       "2472   0.721393  0.170188   0.627740\n",
       "2473   0.720000  0.169014   0.628638\n",
       "2474   0.718593  0.167840   0.628895\n",
       "2475   0.717172  0.166667   0.631648\n",
       "2476   0.715736  0.165493   0.634042\n",
       "2477   0.719388  0.165493   0.636472\n",
       "2478   0.717949  0.164319   0.637829\n",
       "2479   0.716495  0.163146   0.638003"
      ]
     },
     "execution_count": 127,
     "metadata": {},
     "output_type": "execute_result"
    }
   ],
   "source": [
    "pr_df[(pr_df['precision']>=0.7090) & (pr_df['recall']<=0.1840)].sort_values(by='recall', ascending=False).head(25)"
   ]
  },
  {
   "cell_type": "code",
   "execution_count": 128,
   "metadata": {},
   "outputs": [
    {
     "name": "stdout",
     "output_type": "stream",
     "text": [
      "Precision = + 0.014209999999999945\n",
      "Recall = - 0.008216000000000001\n"
     ]
    }
   ],
   "source": [
    "## Default\n",
    "## Prec = 0.709091\n",
    "## Rec = 0.183099\n",
    "## Thresh = 0.503324\n",
    "\n",
    "\n",
    "## New Threshold\n",
    "## Prec = 0.723301\n",
    "## Rec = 0.174883\n",
    "## Thresh = 0.613482\n",
    "\n",
    "print(\"Precision = +\", 0.723301-0.709091)\n",
    "print(\"Recall = -\", 0.183099-0.174883)"
   ]
  },
  {
   "cell_type": "code",
   "execution_count": 129,
   "metadata": {},
   "outputs": [
    {
     "data": {
      "text/plain": [
       "<matplotlib.legend.Legend at 0x154ad980190>"
      ]
     },
     "execution_count": 129,
     "metadata": {},
     "output_type": "execute_result"
    },
    {
     "data": {
      "image/png": "[encoded data removed]",
      "text/plain": [
       "<Figure size 576x576 with 1 Axes>"
      ]
     },
     "metadata": {
      "needs_background": "light"
     },
     "output_type": "display_data"
    }
   ],
   "source": [
    "plt.figure(figsize=(8, 8))\n",
    "plt.title(\"Precision-Recall Curve\")\n",
    "plt.plot(thresh, prec[:-1], \"b-\", label=\"Precision\")\n",
    "plt.plot(thresh, recall[:-1], \"r-\", label=\"Recall\")\n",
    "plt.axvline(x=0.613482, color=\"black\", linestyle=\"--\")\n",
    "plt.ylabel(\"Score\")\n",
    "plt.xlabel(\"Threshold\")\n",
    "plt.legend()"
   ]
  },
  {
   "cell_type": "markdown",
   "metadata": {},
   "source": [
    "## Conclussion\n",
    "1. We decide to use threshold at 0.613482"
   ]
  },
  {
   "cell_type": "code",
   "execution_count": null,
   "metadata": {},
   "outputs": [],
   "source": []
  },
  {
   "cell_type": "code",
   "execution_count": null,
   "metadata": {},
   "outputs": [],
   "source": []
  },
  {
   "cell_type": "code",
   "execution_count": null,
   "metadata": {},
   "outputs": [],
   "source": []
  },
  {
   "cell_type": "markdown",
   "metadata": {},
   "source": [
    "# Other Metric Evaluation"
   ]
  },
  {
   "cell_type": "code",
   "execution_count": 18,
   "metadata": {},
   "outputs": [],
   "source": [
    "from sklearn.metrics import plot_roc_curve, plot_precision_recall_curve"
   ]
  },
  {
   "cell_type": "code",
   "execution_count": 19,
   "metadata": {},
   "outputs": [
    {
     "data": {
      "text/plain": [
       "<sklearn.metrics._plot.roc_curve.RocCurveDisplay at 0x154ad86dcd0>"
      ]
     },
     "execution_count": 19,
     "metadata": {},
     "output_type": "execute_result"
    },
    {
     "data": {
      "image/png": "[encoded data removed]",
      "text/plain": [
       "<Figure size 432x288 with 1 Axes>"
      ]
     },
     "metadata": {
      "needs_background": "light"
     },
     "output_type": "display_data"
    }
   ],
   "source": [
    "plot_roc_curve(logreg_poly_select_tuned, X_test, y_test)"
   ]
  },
  {
   "cell_type": "markdown",
   "metadata": {},
   "source": [
    "<img src=\"http://algolytics.com/wp-content/uploads/2018/05/roc1_en.png\">"
   ]
  },
  {
   "cell_type": "code",
   "execution_count": null,
   "metadata": {},
   "outputs": [],
   "source": []
  }
 ],
 "metadata": {
  "kernelspec": {
   "display_name": "Python 3",
   "language": "python",
   "name": "python3"
  },
  "language_info": {
   "codemirror_mode": {
    "name": "ipython",
    "version": 3
   },
   "file_extension": ".py",
   "mimetype": "text/x-python",
   "name": "python",
   "nbconvert_exporter": "python",
   "pygments_lexer": "ipython3",
   "version": "3.8.5"
  }
 },
 "nbformat": 4,
 "nbformat_minor": 4
}
