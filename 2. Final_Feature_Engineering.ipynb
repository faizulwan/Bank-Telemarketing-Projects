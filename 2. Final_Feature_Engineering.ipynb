{
 "cells": [
  {
   "cell_type": "markdown",
   "metadata": {},
   "source": [
    "<a id=\"1\"></a>\n",
    "<h1 style=\"color:White; background-color:#0b6b6e; font-size:250%; text-align:center; border-radius: 10px; padding-top: 10px; padding-bottom: 10px\">Feature Engineering and Modelling</h1>"
   ]
  },
  {
   "cell_type": "markdown",
   "metadata": {},
   "source": [
    "## Metric for this case\n",
    "\n",
    "<img src=\"https://miro.medium.com/max/2102/1*fxiTNIgOyvAombPJx5KGeA.png\" alt=\"Hotel Lobby\" style=\"width:690px;height:345px;\">\n",
    "\n",
    "1. FP is a condition when the model predict THE CLIENTS/CUSTOMERS do subscribe the deposit (1), but actually they do not subscribe (0)\n",
    "    - High number of FP would increase the marketing budget and would spend lot of time\n",
    "    - The company's revenue will decrease due to lot of budget and time that they spend to call the False Positive Clients/Customer\n",
    "    \n",
    "    \n",
    "2. FN is a condition when the model predict THE CLIENTS/CUSTOMERS do not subscribe the deposit (0), buat actually they subscibe (1)\n",
    "    - High number of FN would make the company more missing the potential clients/customers.\n",
    "    - The company;s revenue will might decrease due to missing the potential clients/customers prediction,\n",
    "\n",
    " \n",
    "As I mentioned before in #1 notebook the main goal this project is making the campaign more efficient in terms of budget and time. So that in this case, we are going to use precision metric. Because we need to reduce the FP, a component that make budget and time are floating. So we focuss on Precision Score"
   ]
  },
  {
   "cell_type": "markdown",
   "metadata": {},
   "source": [
    "<a id=\"1\"></a>\n",
    "<h1 style=\"color:White; background-color:#0b6b6e; font-size:250%; text-align:left; border-radius: 10px; padding-top: 10px; padding-bottom: 10px\">1. Import Library</h1>"
   ]
  },
  {
   "cell_type": "code",
   "execution_count": 164,
   "metadata": {},
   "outputs": [],
   "source": [
    "import pandas as pd\n",
    "import matplotlib.pyplot as plt\n",
    "import seaborn as sns\n",
    "from scipy import stats\n",
    "import numpy as np\n",
    "\n",
    "from sklearn.preprocessing import MinMaxScaler\n",
    "from sklearn.preprocessing import StandardScaler\n",
    "from sklearn.preprocessing import RobustScaler\n",
    "from sklearn.preprocessing import PolynomialFeatures\n",
    "from sklearn.feature_selection import SelectPercentile\n",
    "from sklearn.feature_selection import RFE\n",
    "from imblearn.over_sampling import SMOTE\n",
    "from imblearn.under_sampling import RandomUnderSampler, NearMiss\n",
    "\n",
    "from imblearn.pipeline import Pipeline\n",
    "\n",
    "from sklearn.model_selection import train_test_split, cross_validate\n",
    "\n",
    "from sklearn.linear_model import LogisticRegression\n",
    "from sklearn.ensemble import RandomForestClassifier\n",
    "from sklearn.tree import DecisionTreeClassifier\n",
    "from sklearn.neighbors import KNeighborsClassifier\n",
    "from sklearn.linear_model import LinearRegression\n",
    "\n",
    "from sklearn.model_selection import StratifiedKFold\n",
    "from sklearn.model_selection import cross_val_score\n",
    "from sklearn.model_selection import GridSearchCV\n",
    "\n",
    "from sklearn.preprocessing import OneHotEncoder\n",
    "from sklearn.compose import ColumnTransformer\n",
    "import category_encoders as ce\n",
    "\n",
    "from sklearn.model_selection import learning_curve\n",
    "\n",
    "from mlxtend.plotting import plot_learning_curves\n",
    "from yellowbrick.model_selection import LearningCurve\n",
    "\n",
    "from sklearn.metrics import balanced_accuracy_score, precision_score, recall_score, f1_score, roc_auc_score, accuracy_score\n",
    "from sklearn.metrics import confusion_matrix, classification_report\n",
    "\n",
    "\n",
    "import pickle\n",
    "\n",
    "import warnings\n",
    "\n",
    "\n",
    "warnings.filterwarnings('ignore')"
   ]
  },
  {
   "cell_type": "markdown",
   "metadata": {},
   "source": [
    "<a id=\"1\"></a>\n",
    "<h1 style=\"color:White; background-color:#0b6b6e; font-size:250%; text-align:left; border-radius: 10px; padding-top: 10px; padding-bottom: 10px\">2. Preparing and Rechecking Data</h1>"
   ]
  },
  {
   "cell_type": "code",
   "execution_count": 165,
   "metadata": {},
   "outputs": [],
   "source": [
    "df = pd.read_csv('campaign_clean.csv')\n",
    "df.drop('Unnamed: 0', axis=1, inplace=True)"
   ]
  },
  {
   "cell_type": "code",
   "execution_count": 166,
   "metadata": {},
   "outputs": [
    {
     "data": {
      "text/plain": [
       "Index(['age', 'job', 'marital', 'education', 'housing', 'loan', 'month',\n",
       "       'campaign', 'pdays', 'previous', 'poutcome', 'emp.var.rate',\n",
       "       'cons.price.idx', 'cons.conf.idx', 'euribor3m', 'nr.employed', 'label'],\n",
       "      dtype='object')"
      ]
     },
     "execution_count": 166,
     "metadata": {},
     "output_type": "execute_result"
    }
   ],
   "source": [
    "df.columns"
   ]
  },
  {
   "cell_type": "code",
   "execution_count": 167,
   "metadata": {},
   "outputs": [
    {
     "data": {
      "text/html": [
       "<div>\n",
       "<style scoped>\n",
       "    .dataframe tbody tr th:only-of-type {\n",
       "        vertical-align: middle;\n",
       "    }\n",
       "\n",
       "    .dataframe tbody tr th {\n",
       "        vertical-align: top;\n",
       "    }\n",
       "\n",
       "    .dataframe thead th {\n",
       "        text-align: right;\n",
       "    }\n",
       "</style>\n",
       "<table border=\"1\" class=\"dataframe\">\n",
       "  <thead>\n",
       "    <tr style=\"text-align: right;\">\n",
       "      <th></th>\n",
       "      <th>age</th>\n",
       "      <th>job</th>\n",
       "      <th>marital</th>\n",
       "      <th>education</th>\n",
       "      <th>housing</th>\n",
       "      <th>loan</th>\n",
       "      <th>month</th>\n",
       "      <th>campaign</th>\n",
       "      <th>pdays</th>\n",
       "      <th>previous</th>\n",
       "      <th>poutcome</th>\n",
       "      <th>emp.var.rate</th>\n",
       "      <th>cons.price.idx</th>\n",
       "      <th>cons.conf.idx</th>\n",
       "      <th>euribor3m</th>\n",
       "      <th>nr.employed</th>\n",
       "      <th>label</th>\n",
       "    </tr>\n",
       "  </thead>\n",
       "  <tbody>\n",
       "    <tr>\n",
       "      <th>0</th>\n",
       "      <td>56</td>\n",
       "      <td>housemaid</td>\n",
       "      <td>married</td>\n",
       "      <td>basic.4y</td>\n",
       "      <td>no</td>\n",
       "      <td>no</td>\n",
       "      <td>may</td>\n",
       "      <td>1</td>\n",
       "      <td>0</td>\n",
       "      <td>0</td>\n",
       "      <td>nonexistent</td>\n",
       "      <td>1.1</td>\n",
       "      <td>93.994</td>\n",
       "      <td>-36.4</td>\n",
       "      <td>4.857</td>\n",
       "      <td>5191.0</td>\n",
       "      <td>0</td>\n",
       "    </tr>\n",
       "    <tr>\n",
       "      <th>1</th>\n",
       "      <td>57</td>\n",
       "      <td>services</td>\n",
       "      <td>married</td>\n",
       "      <td>high.school</td>\n",
       "      <td>no</td>\n",
       "      <td>no</td>\n",
       "      <td>may</td>\n",
       "      <td>1</td>\n",
       "      <td>0</td>\n",
       "      <td>0</td>\n",
       "      <td>nonexistent</td>\n",
       "      <td>1.1</td>\n",
       "      <td>93.994</td>\n",
       "      <td>-36.4</td>\n",
       "      <td>4.857</td>\n",
       "      <td>5191.0</td>\n",
       "      <td>0</td>\n",
       "    </tr>\n",
       "  </tbody>\n",
       "</table>\n",
       "</div>"
      ],
      "text/plain": [
       "   age        job  marital    education housing loan month  campaign  pdays  \\\n",
       "0   56  housemaid  married     basic.4y      no   no   may         1      0   \n",
       "1   57   services  married  high.school      no   no   may         1      0   \n",
       "\n",
       "   previous     poutcome  emp.var.rate  cons.price.idx  cons.conf.idx  \\\n",
       "0         0  nonexistent           1.1          93.994          -36.4   \n",
       "1         0  nonexistent           1.1          93.994          -36.4   \n",
       "\n",
       "   euribor3m  nr.employed  label  \n",
       "0      4.857       5191.0      0  \n",
       "1      4.857       5191.0      0  "
      ]
     },
     "execution_count": 167,
     "metadata": {},
     "output_type": "execute_result"
    }
   ],
   "source": [
    "df.head(2)"
   ]
  },
  {
   "cell_type": "code",
   "execution_count": 168,
   "metadata": {},
   "outputs": [
    {
     "data": {
      "text/html": [
       "<div>\n",
       "<style scoped>\n",
       "    .dataframe tbody tr th:only-of-type {\n",
       "        vertical-align: middle;\n",
       "    }\n",
       "\n",
       "    .dataframe tbody tr th {\n",
       "        vertical-align: top;\n",
       "    }\n",
       "\n",
       "    .dataframe thead th {\n",
       "        text-align: right;\n",
       "    }\n",
       "</style>\n",
       "<table border=\"1\" class=\"dataframe\">\n",
       "  <thead>\n",
       "    <tr style=\"text-align: right;\">\n",
       "      <th></th>\n",
       "      <th>job</th>\n",
       "      <th>marital</th>\n",
       "      <th>education</th>\n",
       "      <th>housing</th>\n",
       "      <th>loan</th>\n",
       "      <th>month</th>\n",
       "      <th>poutcome</th>\n",
       "    </tr>\n",
       "  </thead>\n",
       "  <tbody>\n",
       "    <tr>\n",
       "      <th>count</th>\n",
       "      <td>38245</td>\n",
       "      <td>38245</td>\n",
       "      <td>38245</td>\n",
       "      <td>38245</td>\n",
       "      <td>38245</td>\n",
       "      <td>38245</td>\n",
       "      <td>38245</td>\n",
       "    </tr>\n",
       "    <tr>\n",
       "      <th>unique</th>\n",
       "      <td>11</td>\n",
       "      <td>3</td>\n",
       "      <td>7</td>\n",
       "      <td>2</td>\n",
       "      <td>2</td>\n",
       "      <td>10</td>\n",
       "      <td>3</td>\n",
       "    </tr>\n",
       "    <tr>\n",
       "      <th>top</th>\n",
       "      <td>admin.</td>\n",
       "      <td>married</td>\n",
       "      <td>university.degree</td>\n",
       "      <td>yes</td>\n",
       "      <td>no</td>\n",
       "      <td>may</td>\n",
       "      <td>nonexistent</td>\n",
       "    </tr>\n",
       "    <tr>\n",
       "      <th>freq</th>\n",
       "      <td>9937</td>\n",
       "      <td>23183</td>\n",
       "      <td>11821</td>\n",
       "      <td>20578</td>\n",
       "      <td>32286</td>\n",
       "      <td>12794</td>\n",
       "      <td>33066</td>\n",
       "    </tr>\n",
       "  </tbody>\n",
       "</table>\n",
       "</div>"
      ],
      "text/plain": [
       "           job  marital          education housing   loan  month     poutcome\n",
       "count    38245    38245              38245   38245  38245  38245        38245\n",
       "unique      11        3                  7       2      2     10            3\n",
       "top     admin.  married  university.degree     yes     no    may  nonexistent\n",
       "freq      9937    23183              11821   20578  32286  12794        33066"
      ]
     },
     "execution_count": 168,
     "metadata": {},
     "output_type": "execute_result"
    }
   ],
   "source": [
    "df.describe(include='object')"
   ]
  },
  {
   "cell_type": "code",
   "execution_count": 169,
   "metadata": {},
   "outputs": [
    {
     "data": {
      "text/html": [
       "<div>\n",
       "<style scoped>\n",
       "    .dataframe tbody tr th:only-of-type {\n",
       "        vertical-align: middle;\n",
       "    }\n",
       "\n",
       "    .dataframe tbody tr th {\n",
       "        vertical-align: top;\n",
       "    }\n",
       "\n",
       "    .dataframe thead th {\n",
       "        text-align: right;\n",
       "    }\n",
       "</style>\n",
       "<table border=\"1\" class=\"dataframe\">\n",
       "  <thead>\n",
       "    <tr style=\"text-align: right;\">\n",
       "      <th></th>\n",
       "      <th>age</th>\n",
       "      <th>campaign</th>\n",
       "      <th>pdays</th>\n",
       "      <th>previous</th>\n",
       "      <th>emp.var.rate</th>\n",
       "      <th>cons.price.idx</th>\n",
       "      <th>cons.conf.idx</th>\n",
       "      <th>euribor3m</th>\n",
       "      <th>nr.employed</th>\n",
       "      <th>label</th>\n",
       "    </tr>\n",
       "  </thead>\n",
       "  <tbody>\n",
       "    <tr>\n",
       "      <th>count</th>\n",
       "      <td>38245.000000</td>\n",
       "      <td>38245.000000</td>\n",
       "      <td>38245.000000</td>\n",
       "      <td>38245.000000</td>\n",
       "      <td>38245.000000</td>\n",
       "      <td>38245.000000</td>\n",
       "      <td>38245.000000</td>\n",
       "      <td>38245.000000</td>\n",
       "      <td>38245.000000</td>\n",
       "      <td>38245.000000</td>\n",
       "    </tr>\n",
       "    <tr>\n",
       "      <th>mean</th>\n",
       "      <td>39.860871</td>\n",
       "      <td>2.566662</td>\n",
       "      <td>0.035717</td>\n",
       "      <td>0.170009</td>\n",
       "      <td>0.082861</td>\n",
       "      <td>93.570313</td>\n",
       "      <td>-40.541164</td>\n",
       "      <td>3.623298</td>\n",
       "      <td>5167.432566</td>\n",
       "      <td>0.111335</td>\n",
       "    </tr>\n",
       "    <tr>\n",
       "      <th>std</th>\n",
       "      <td>10.289488</td>\n",
       "      <td>2.767473</td>\n",
       "      <td>0.185586</td>\n",
       "      <td>0.487169</td>\n",
       "      <td>1.565945</td>\n",
       "      <td>0.576367</td>\n",
       "      <td>4.623200</td>\n",
       "      <td>1.730226</td>\n",
       "      <td>71.760333</td>\n",
       "      <td>0.314550</td>\n",
       "    </tr>\n",
       "    <tr>\n",
       "      <th>min</th>\n",
       "      <td>17.000000</td>\n",
       "      <td>1.000000</td>\n",
       "      <td>0.000000</td>\n",
       "      <td>0.000000</td>\n",
       "      <td>-3.400000</td>\n",
       "      <td>92.201000</td>\n",
       "      <td>-50.800000</td>\n",
       "      <td>0.634000</td>\n",
       "      <td>4963.600000</td>\n",
       "      <td>0.000000</td>\n",
       "    </tr>\n",
       "    <tr>\n",
       "      <th>25%</th>\n",
       "      <td>32.000000</td>\n",
       "      <td>1.000000</td>\n",
       "      <td>0.000000</td>\n",
       "      <td>0.000000</td>\n",
       "      <td>-1.800000</td>\n",
       "      <td>93.075000</td>\n",
       "      <td>-42.700000</td>\n",
       "      <td>1.344000</td>\n",
       "      <td>5099.100000</td>\n",
       "      <td>0.000000</td>\n",
       "    </tr>\n",
       "    <tr>\n",
       "      <th>50%</th>\n",
       "      <td>38.000000</td>\n",
       "      <td>2.000000</td>\n",
       "      <td>0.000000</td>\n",
       "      <td>0.000000</td>\n",
       "      <td>1.100000</td>\n",
       "      <td>93.444000</td>\n",
       "      <td>-41.800000</td>\n",
       "      <td>4.857000</td>\n",
       "      <td>5191.000000</td>\n",
       "      <td>0.000000</td>\n",
       "    </tr>\n",
       "    <tr>\n",
       "      <th>75%</th>\n",
       "      <td>47.000000</td>\n",
       "      <td>3.000000</td>\n",
       "      <td>0.000000</td>\n",
       "      <td>0.000000</td>\n",
       "      <td>1.400000</td>\n",
       "      <td>93.994000</td>\n",
       "      <td>-36.400000</td>\n",
       "      <td>4.961000</td>\n",
       "      <td>5228.100000</td>\n",
       "      <td>0.000000</td>\n",
       "    </tr>\n",
       "    <tr>\n",
       "      <th>max</th>\n",
       "      <td>98.000000</td>\n",
       "      <td>43.000000</td>\n",
       "      <td>1.000000</td>\n",
       "      <td>7.000000</td>\n",
       "      <td>1.400000</td>\n",
       "      <td>94.767000</td>\n",
       "      <td>-26.900000</td>\n",
       "      <td>5.045000</td>\n",
       "      <td>5228.100000</td>\n",
       "      <td>1.000000</td>\n",
       "    </tr>\n",
       "  </tbody>\n",
       "</table>\n",
       "</div>"
      ],
      "text/plain": [
       "                age      campaign         pdays      previous  emp.var.rate  \\\n",
       "count  38245.000000  38245.000000  38245.000000  38245.000000  38245.000000   \n",
       "mean      39.860871      2.566662      0.035717      0.170009      0.082861   \n",
       "std       10.289488      2.767473      0.185586      0.487169      1.565945   \n",
       "min       17.000000      1.000000      0.000000      0.000000     -3.400000   \n",
       "25%       32.000000      1.000000      0.000000      0.000000     -1.800000   \n",
       "50%       38.000000      2.000000      0.000000      0.000000      1.100000   \n",
       "75%       47.000000      3.000000      0.000000      0.000000      1.400000   \n",
       "max       98.000000     43.000000      1.000000      7.000000      1.400000   \n",
       "\n",
       "       cons.price.idx  cons.conf.idx     euribor3m   nr.employed         label  \n",
       "count    38245.000000   38245.000000  38245.000000  38245.000000  38245.000000  \n",
       "mean        93.570313     -40.541164      3.623298   5167.432566      0.111335  \n",
       "std          0.576367       4.623200      1.730226     71.760333      0.314550  \n",
       "min         92.201000     -50.800000      0.634000   4963.600000      0.000000  \n",
       "25%         93.075000     -42.700000      1.344000   5099.100000      0.000000  \n",
       "50%         93.444000     -41.800000      4.857000   5191.000000      0.000000  \n",
       "75%         93.994000     -36.400000      4.961000   5228.100000      0.000000  \n",
       "max         94.767000     -26.900000      5.045000   5228.100000      1.000000  "
      ]
     },
     "execution_count": 169,
     "metadata": {},
     "output_type": "execute_result"
    }
   ],
   "source": [
    "df.describe()"
   ]
  },
  {
   "cell_type": "markdown",
   "metadata": {},
   "source": [
    "## Dataset Splitting"
   ]
  },
  {
   "cell_type": "code",
   "execution_count": 170,
   "metadata": {},
   "outputs": [],
   "source": [
    "X = df.drop('label', axis=1)\n",
    "y = df['label']"
   ]
  },
  {
   "cell_type": "code",
   "execution_count": 171,
   "metadata": {},
   "outputs": [
    {
     "data": {
      "text/plain": [
       "age                77\n",
       "job                11\n",
       "marital             3\n",
       "education           7\n",
       "housing             2\n",
       "loan                2\n",
       "month              10\n",
       "campaign           41\n",
       "pdays               2\n",
       "previous            8\n",
       "poutcome            3\n",
       "emp.var.rate       10\n",
       "cons.price.idx     26\n",
       "cons.conf.idx      26\n",
       "euribor3m         314\n",
       "nr.employed        11\n",
       "label               2\n",
       "dtype: int64"
      ]
     },
     "execution_count": 171,
     "metadata": {},
     "output_type": "execute_result"
    }
   ],
   "source": [
    "df.nunique()"
   ]
  },
  {
   "cell_type": "code",
   "execution_count": 172,
   "metadata": {},
   "outputs": [],
   "source": [
    "X_train, X_test, y_train, y_test = train_test_split(X,y, stratify=y, random_state=2020, test_size=.2)"
   ]
  },
  {
   "cell_type": "code",
   "execution_count": 173,
   "metadata": {},
   "outputs": [],
   "source": [
    "num_trans = Pipeline(steps=[\n",
    "    ('scaler', MinMaxScaler())])\n",
    "\n",
    "cat_trans = Pipeline(steps=[\n",
    "    ('onehot', OneHotEncoder(handle_unknown='ignore'))\n",
    "])\n",
    "\n",
    "preprocessor_1 = ColumnTransformer(\n",
    "    transformers=[\n",
    "        ('num', num_trans,['emp.var.rate','euribor3m','nr.employed','cons.price.idx','cons.conf.idx','age', 'campaign', 'pdays', 'previous']),\n",
    "        ('cat', cat_trans, ['marital','housing','loan', 'poutcome','job', 'education', 'month'])\n",
    "    ])\n",
    "     \n",
    "preprocessor_2 = ColumnTransformer(\n",
    "    transformers=[\n",
    "         ('cat', cat_trans, ['marital','housing','loan', 'poutcome','job', 'education', 'month'])])"
   ]
  },
  {
   "cell_type": "markdown",
   "metadata": {},
   "source": [
    "<a id=\"1\"></a>\n",
    "<h1 style=\"color:White; background-color:#0b6b6e; font-size:250%; text-align:left; border-radius: 10px; padding-top: 10px; padding-bottom: 10px\">3. Default Model</h1>"
   ]
  },
  {
   "cell_type": "code",
   "execution_count": 174,
   "metadata": {},
   "outputs": [],
   "source": [
    "logreg = Pipeline(steps=[('preprocessor_1', preprocessor_1),\n",
    "                      ('logreg', LogisticRegression(random_state = 2020))])\n",
    "\n",
    "knn = Pipeline(steps=[('preprocessor_1', preprocessor_1),\n",
    "                      ('knn', KNeighborsClassifier())])\n",
    "\n",
    "ranfor = Pipeline(steps=[('preprocessor_2', preprocessor_2),\n",
    "                      ('ranfor', RandomForestClassifier(random_state = 2020))])\n",
    "\n",
    "dtree = Pipeline(steps=[('preprocessor_2', preprocessor_2),\n",
    "                      ('dtree', DecisionTreeClassifier(random_state = 2020))])"
   ]
  },
  {
   "cell_type": "markdown",
   "metadata": {},
   "source": [
    "### Logistic Regression"
   ]
  },
  {
   "cell_type": "code",
   "execution_count": 175,
   "metadata": {},
   "outputs": [],
   "source": [
    "metric = 'precision'\n",
    "def model_evaluation_cv(logreg, metric):\n",
    "  skfold = StratifiedKFold(n_splits = 5)\n",
    "  model_cv = cross_val_score(logreg, X_train, y_train, cv = skfold, scoring = metric, n_jobs=-1, verbose=1)\n",
    "  return model_cv\n",
    "\n",
    "def print_result(model_cv):\n",
    "  print('Logreg CV Precision score',model_cv)\n",
    "  print('Logreg CV Precision score mean',model_cv.mean())\n",
    "  print('Logreg CV Precision score std',model_cv.std())"
   ]
  },
  {
   "cell_type": "code",
   "execution_count": 176,
   "metadata": {},
   "outputs": [
    {
     "name": "stderr",
     "output_type": "stream",
     "text": [
      "[Parallel(n_jobs=-1)]: Using backend LokyBackend with 8 concurrent workers.\n",
      "[Parallel(n_jobs=-1)]: Done   2 out of   5 | elapsed:    1.0s remaining:    1.6s\n",
      "[Parallel(n_jobs=-1)]: Done   5 out of   5 | elapsed:    1.1s finished\n"
     ]
    },
    {
     "name": "stdout",
     "output_type": "stream",
     "text": [
      "Logreg CV Precision score [0.67821782 0.62612613 0.62173913 0.6        0.72596154]\n",
      "Logreg CV Precision score mean 0.650408923360925\n",
      "Logreg CV Precision score std 0.04568195114556049\n"
     ]
    }
   ],
   "source": [
    "logreg_model_cv = model_evaluation_cv(logreg, metric)\n",
    "print_result(logreg_model_cv)"
   ]
  },
  {
   "cell_type": "code",
   "execution_count": 177,
   "metadata": {},
   "outputs": [
    {
     "data": {
      "text/plain": [
       "Pipeline(steps=[('preprocessor_1',\n",
       "                 ColumnTransformer(transformers=[('num',\n",
       "                                                  Pipeline(steps=[('scaler',\n",
       "                                                                   MinMaxScaler())]),\n",
       "                                                  ['emp.var.rate', 'euribor3m',\n",
       "                                                   'nr.employed',\n",
       "                                                   'cons.price.idx',\n",
       "                                                   'cons.conf.idx', 'age',\n",
       "                                                   'campaign', 'pdays',\n",
       "                                                   'previous']),\n",
       "                                                 ('cat',\n",
       "                                                  Pipeline(steps=[('onehot',\n",
       "                                                                   OneHotEncoder(handle_unknown='ignore'))]),\n",
       "                                                  ['marital', 'housing', 'loan',\n",
       "                                                   'poutcome', 'job',\n",
       "                                                   'education', 'month'])])),\n",
       "                ('logreg', LogisticRegression(random_state=2020))])"
      ]
     },
     "execution_count": 177,
     "metadata": {},
     "output_type": "execute_result"
    }
   ],
   "source": [
    "logreg.fit(X_train, y_train)"
   ]
  },
  {
   "cell_type": "code",
   "execution_count": 178,
   "metadata": {},
   "outputs": [
    {
     "name": "stdout",
     "output_type": "stream",
     "text": [
      "              precision    recall  f1-score   support\n",
      "\n",
      "           0       0.91      0.98      0.95      6797\n",
      "           1       0.63      0.22      0.33       852\n",
      "\n",
      "    accuracy                           0.90      7649\n",
      "   macro avg       0.77      0.60      0.64      7649\n",
      "weighted avg       0.88      0.90      0.88      7649\n",
      "\n"
     ]
    }
   ],
   "source": [
    "y_pred_logreg = logreg.predict(X_test)\n",
    "print(classification_report(y_test, y_pred_logreg))"
   ]
  },
  {
   "cell_type": "markdown",
   "metadata": {},
   "source": [
    "### KNearest Neighbors"
   ]
  },
  {
   "cell_type": "code",
   "execution_count": 179,
   "metadata": {},
   "outputs": [],
   "source": [
    "metric = 'precision'\n",
    "def model_evaluation_cv(knn, metric):\n",
    "  skfold = StratifiedKFold(n_splits = 5)\n",
    "  model_cv = cross_val_score(knn, X_train, y_train, cv = skfold, scoring = metric, n_jobs=-1, verbose=1)\n",
    "  return model_cv\n",
    "\n",
    "def print_result(model_cv):\n",
    "  print('KNN CV Precision score',model_cv)\n",
    "  print('KNN CV Precision score mean',model_cv.mean())\n",
    "  print('KNN CV Precision score std',model_cv.std())"
   ]
  },
  {
   "cell_type": "code",
   "execution_count": 180,
   "metadata": {},
   "outputs": [
    {
     "name": "stderr",
     "output_type": "stream",
     "text": [
      "[Parallel(n_jobs=-1)]: Using backend LokyBackend with 8 concurrent workers.\n",
      "[Parallel(n_jobs=-1)]: Done   2 out of   5 | elapsed:    9.3s remaining:   13.9s\n"
     ]
    },
    {
     "name": "stdout",
     "output_type": "stream",
     "text": [
      "KNN CV Precision score [0.54827586 0.47352025 0.54304636 0.50271739 0.53291536]\n",
      "KNN CV Precision score mean 0.5200950441423917\n",
      "KNN CV Precision score std 0.028129970283778016\n"
     ]
    },
    {
     "name": "stderr",
     "output_type": "stream",
     "text": [
      "[Parallel(n_jobs=-1)]: Done   5 out of   5 | elapsed:    9.7s finished\n"
     ]
    }
   ],
   "source": [
    "knn_model_cv = model_evaluation_cv(knn, metric)\n",
    "print_result(knn_model_cv)"
   ]
  },
  {
   "cell_type": "code",
   "execution_count": 181,
   "metadata": {},
   "outputs": [
    {
     "data": {
      "text/plain": [
       "Pipeline(steps=[('preprocessor_1',\n",
       "                 ColumnTransformer(transformers=[('num',\n",
       "                                                  Pipeline(steps=[('scaler',\n",
       "                                                                   MinMaxScaler())]),\n",
       "                                                  ['emp.var.rate', 'euribor3m',\n",
       "                                                   'nr.employed',\n",
       "                                                   'cons.price.idx',\n",
       "                                                   'cons.conf.idx', 'age',\n",
       "                                                   'campaign', 'pdays',\n",
       "                                                   'previous']),\n",
       "                                                 ('cat',\n",
       "                                                  Pipeline(steps=[('onehot',\n",
       "                                                                   OneHotEncoder(handle_unknown='ignore'))]),\n",
       "                                                  ['marital', 'housing', 'loan',\n",
       "                                                   'poutcome', 'job',\n",
       "                                                   'education', 'month'])])),\n",
       "                ('knn', KNeighborsClassifier())])"
      ]
     },
     "execution_count": 181,
     "metadata": {},
     "output_type": "execute_result"
    }
   ],
   "source": [
    "knn.fit(X_train, y_train)"
   ]
  },
  {
   "cell_type": "code",
   "execution_count": 182,
   "metadata": {},
   "outputs": [
    {
     "name": "stdout",
     "output_type": "stream",
     "text": [
      "              precision    recall  f1-score   support\n",
      "\n",
      "           0       0.91      0.97      0.94      6797\n",
      "           1       0.54      0.27      0.36       852\n",
      "\n",
      "    accuracy                           0.89      7649\n",
      "   macro avg       0.73      0.62      0.65      7649\n",
      "weighted avg       0.87      0.89      0.88      7649\n",
      "\n"
     ]
    }
   ],
   "source": [
    "y_pred_knn = knn.predict(X_test)\n",
    "print(classification_report(y_test, y_pred_knn))"
   ]
  },
  {
   "cell_type": "markdown",
   "metadata": {},
   "source": [
    "### Random Forest"
   ]
  },
  {
   "cell_type": "code",
   "execution_count": 183,
   "metadata": {},
   "outputs": [],
   "source": [
    "metric = 'precision'\n",
    "def model_evaluation_cv(ranfor, metric):\n",
    "  skfold = StratifiedKFold(n_splits = 5)\n",
    "  model_cv = cross_val_score(ranfor, X_train, y_train, cv = skfold, scoring = metric, n_jobs=-1, verbose=1)\n",
    "  return model_cv\n",
    "\n",
    "def print_result(model_cv):\n",
    "  print('Ranfor CV Precision score',model_cv)\n",
    "  print('Ranfor CV Precision score mean',model_cv.mean())\n",
    "  print('Ranfor CV Precision score std',model_cv.std())"
   ]
  },
  {
   "cell_type": "code",
   "execution_count": 184,
   "metadata": {},
   "outputs": [
    {
     "name": "stderr",
     "output_type": "stream",
     "text": [
      "[Parallel(n_jobs=-1)]: Using backend LokyBackend with 8 concurrent workers.\n",
      "[Parallel(n_jobs=-1)]: Done   2 out of   5 | elapsed:   26.6s remaining:   40.0s\n"
     ]
    },
    {
     "name": "stdout",
     "output_type": "stream",
     "text": [
      "Ranfor CV Precision score [0.51764706 0.51916376 0.51102941 0.47315436 0.56390977]\n",
      "Ranfor CV Precision score mean 0.5169808741013269\n",
      "Ranfor CV Precision score std 0.028857281657793495\n"
     ]
    },
    {
     "name": "stderr",
     "output_type": "stream",
     "text": [
      "[Parallel(n_jobs=-1)]: Done   5 out of   5 | elapsed:   27.1s finished\n"
     ]
    }
   ],
   "source": [
    "ranfor_model_cv = model_evaluation_cv(ranfor, metric)\n",
    "print_result(ranfor_model_cv)"
   ]
  },
  {
   "cell_type": "code",
   "execution_count": 185,
   "metadata": {},
   "outputs": [
    {
     "data": {
      "text/plain": [
       "Pipeline(steps=[('preprocessor_2',\n",
       "                 ColumnTransformer(transformers=[('cat',\n",
       "                                                  Pipeline(steps=[('onehot',\n",
       "                                                                   OneHotEncoder(handle_unknown='ignore'))]),\n",
       "                                                  ['marital', 'housing', 'loan',\n",
       "                                                   'poutcome', 'job',\n",
       "                                                   'education', 'month'])])),\n",
       "                ('ranfor', RandomForestClassifier(random_state=2020))])"
      ]
     },
     "execution_count": 185,
     "metadata": {},
     "output_type": "execute_result"
    }
   ],
   "source": [
    "ranfor.fit(X_train, y_train)"
   ]
  },
  {
   "cell_type": "code",
   "execution_count": 186,
   "metadata": {},
   "outputs": [
    {
     "name": "stdout",
     "output_type": "stream",
     "text": [
      "              precision    recall  f1-score   support\n",
      "\n",
      "           0       0.91      0.97      0.94      6797\n",
      "           1       0.50      0.21      0.29       852\n",
      "\n",
      "    accuracy                           0.89      7649\n",
      "   macro avg       0.71      0.59      0.62      7649\n",
      "weighted avg       0.86      0.89      0.87      7649\n",
      "\n"
     ]
    }
   ],
   "source": [
    "y_pred_ranfor = ranfor.predict(X_test)\n",
    "print(classification_report(y_test, y_pred_ranfor))"
   ]
  },
  {
   "cell_type": "markdown",
   "metadata": {},
   "source": [
    "### Decision Tree"
   ]
  },
  {
   "cell_type": "code",
   "execution_count": 187,
   "metadata": {},
   "outputs": [],
   "source": [
    "metric = 'precision'\n",
    "def model_evaluation_cv(dtree, metric):\n",
    "  skfold = StratifiedKFold(n_splits = 5)\n",
    "  model_cv = cross_val_score(dtree, X_train, y_train, cv = skfold, scoring = metric, n_jobs=-1, verbose=1)\n",
    "  return model_cv\n",
    "\n",
    "def print_result(model_cv):\n",
    "  print('DTree CV Precision score',model_cv)\n",
    "  print('DTree CV Precision score mean',model_cv.mean())\n",
    "  print('DTree CV Precision score std',model_cv.std())"
   ]
  },
  {
   "cell_type": "code",
   "execution_count": 188,
   "metadata": {},
   "outputs": [
    {
     "name": "stderr",
     "output_type": "stream",
     "text": [
      "[Parallel(n_jobs=-1)]: Using backend LokyBackend with 8 concurrent workers.\n"
     ]
    },
    {
     "name": "stdout",
     "output_type": "stream",
     "text": [
      "DTree CV Precision score [0.46969697 0.45555556 0.48708487 0.44557823 0.50187266]\n",
      "DTree CV Precision score mean 0.47195765731395617\n",
      "DTree CV Precision score std 0.020463399979226225\n"
     ]
    },
    {
     "name": "stderr",
     "output_type": "stream",
     "text": [
      "[Parallel(n_jobs=-1)]: Done   2 out of   5 | elapsed:    0.7s remaining:    1.1s\n",
      "[Parallel(n_jobs=-1)]: Done   5 out of   5 | elapsed:    0.7s finished\n"
     ]
    }
   ],
   "source": [
    "dtree_model_cv = model_evaluation_cv(dtree, metric)\n",
    "print_result(dtree_model_cv)"
   ]
  },
  {
   "cell_type": "code",
   "execution_count": 189,
   "metadata": {},
   "outputs": [
    {
     "data": {
      "text/plain": [
       "Pipeline(steps=[('preprocessor_2',\n",
       "                 ColumnTransformer(transformers=[('cat',\n",
       "                                                  Pipeline(steps=[('onehot',\n",
       "                                                                   OneHotEncoder(handle_unknown='ignore'))]),\n",
       "                                                  ['marital', 'housing', 'loan',\n",
       "                                                   'poutcome', 'job',\n",
       "                                                   'education', 'month'])])),\n",
       "                ('dtree', DecisionTreeClassifier(random_state=2020))])"
      ]
     },
     "execution_count": 189,
     "metadata": {},
     "output_type": "execute_result"
    }
   ],
   "source": [
    "dtree.fit(X_train, y_train)"
   ]
  },
  {
   "cell_type": "code",
   "execution_count": 190,
   "metadata": {},
   "outputs": [
    {
     "name": "stdout",
     "output_type": "stream",
     "text": [
      "              precision    recall  f1-score   support\n",
      "\n",
      "           0       0.91      0.97      0.94      6797\n",
      "           1       0.48      0.19      0.27       852\n",
      "\n",
      "    accuracy                           0.89      7649\n",
      "   macro avg       0.69      0.58      0.60      7649\n",
      "weighted avg       0.86      0.89      0.86      7649\n",
      "\n"
     ]
    }
   ],
   "source": [
    "y_pred_dtree = dtree.predict(X_test)\n",
    "print(classification_report(y_test, y_pred_dtree))"
   ]
  },
  {
   "cell_type": "code",
   "execution_count": 191,
   "metadata": {},
   "outputs": [
    {
     "name": "stdout",
     "output_type": "stream",
     "text": [
      "Cross Val Precision Score\n"
     ]
    },
    {
     "data": {
      "text/html": [
       "<div>\n",
       "<style scoped>\n",
       "    .dataframe tbody tr th:only-of-type {\n",
       "        vertical-align: middle;\n",
       "    }\n",
       "\n",
       "    .dataframe tbody tr th {\n",
       "        vertical-align: top;\n",
       "    }\n",
       "\n",
       "    .dataframe thead th {\n",
       "        text-align: right;\n",
       "    }\n",
       "</style>\n",
       "<table border=\"1\" class=\"dataframe\">\n",
       "  <thead>\n",
       "    <tr style=\"text-align: right;\">\n",
       "      <th></th>\n",
       "      <th>Logistic Regression</th>\n",
       "      <th>KNN</th>\n",
       "      <th>Random Forest</th>\n",
       "      <th>Decision Tree</th>\n",
       "    </tr>\n",
       "  </thead>\n",
       "  <tbody>\n",
       "    <tr>\n",
       "      <th>0</th>\n",
       "      <td>0.678218</td>\n",
       "      <td>0.548276</td>\n",
       "      <td>0.517647</td>\n",
       "      <td>0.469697</td>\n",
       "    </tr>\n",
       "    <tr>\n",
       "      <th>1</th>\n",
       "      <td>0.626126</td>\n",
       "      <td>0.473520</td>\n",
       "      <td>0.519164</td>\n",
       "      <td>0.455556</td>\n",
       "    </tr>\n",
       "    <tr>\n",
       "      <th>2</th>\n",
       "      <td>0.621739</td>\n",
       "      <td>0.543046</td>\n",
       "      <td>0.511029</td>\n",
       "      <td>0.487085</td>\n",
       "    </tr>\n",
       "    <tr>\n",
       "      <th>3</th>\n",
       "      <td>0.600000</td>\n",
       "      <td>0.502717</td>\n",
       "      <td>0.473154</td>\n",
       "      <td>0.445578</td>\n",
       "    </tr>\n",
       "    <tr>\n",
       "      <th>4</th>\n",
       "      <td>0.725962</td>\n",
       "      <td>0.532915</td>\n",
       "      <td>0.563910</td>\n",
       "      <td>0.501873</td>\n",
       "    </tr>\n",
       "  </tbody>\n",
       "</table>\n",
       "</div>"
      ],
      "text/plain": [
       "   Logistic Regression       KNN  Random Forest  Decision Tree\n",
       "0             0.678218  0.548276       0.517647       0.469697\n",
       "1             0.626126  0.473520       0.519164       0.455556\n",
       "2             0.621739  0.543046       0.511029       0.487085\n",
       "3             0.600000  0.502717       0.473154       0.445578\n",
       "4             0.725962  0.532915       0.563910       0.501873"
      ]
     },
     "execution_count": 191,
     "metadata": {},
     "output_type": "execute_result"
    }
   ],
   "source": [
    "cv_df = pd.DataFrame(data=[logreg_model_cv, knn_model_cv, ranfor_model_cv, dtree_model_cv], index = ['Logistic Regression', 'KNN', 'Random Forest', 'Decision Tree'])\n",
    "cv_df = cv_df.transpose()\n",
    "print(\"Cross Val Precision Score\")\n",
    "cv_df"
   ]
  },
  {
   "cell_type": "code",
   "execution_count": 192,
   "metadata": {},
   "outputs": [
    {
     "name": "stdout",
     "output_type": "stream",
     "text": [
      "Cross Val Precision Score\n"
     ]
    },
    {
     "data": {
      "text/html": [
       "<div>\n",
       "<style scoped>\n",
       "    .dataframe tbody tr th:only-of-type {\n",
       "        vertical-align: middle;\n",
       "    }\n",
       "\n",
       "    .dataframe tbody tr th {\n",
       "        vertical-align: top;\n",
       "    }\n",
       "\n",
       "    .dataframe thead th {\n",
       "        text-align: right;\n",
       "    }\n",
       "</style>\n",
       "<table border=\"1\" class=\"dataframe\">\n",
       "  <thead>\n",
       "    <tr style=\"text-align: right;\">\n",
       "      <th></th>\n",
       "      <th>mean</th>\n",
       "      <th>std</th>\n",
       "    </tr>\n",
       "  </thead>\n",
       "  <tbody>\n",
       "    <tr>\n",
       "      <th>Logistic Regression</th>\n",
       "      <td>0.650409</td>\n",
       "      <td>0.051074</td>\n",
       "    </tr>\n",
       "    <tr>\n",
       "      <th>KNN</th>\n",
       "      <td>0.520095</td>\n",
       "      <td>0.031450</td>\n",
       "    </tr>\n",
       "    <tr>\n",
       "      <th>Random Forest</th>\n",
       "      <td>0.516981</td>\n",
       "      <td>0.032263</td>\n",
       "    </tr>\n",
       "    <tr>\n",
       "      <th>Decision Tree</th>\n",
       "      <td>0.471958</td>\n",
       "      <td>0.022879</td>\n",
       "    </tr>\n",
       "  </tbody>\n",
       "</table>\n",
       "</div>"
      ],
      "text/plain": [
       "                         mean       std\n",
       "Logistic Regression  0.650409  0.051074\n",
       "KNN                  0.520095  0.031450\n",
       "Random Forest        0.516981  0.032263\n",
       "Decision Tree        0.471958  0.022879"
      ]
     },
     "execution_count": 192,
     "metadata": {},
     "output_type": "execute_result"
    }
   ],
   "source": [
    "print(\"Cross Val Precision Score\")\n",
    "cv_df_t = cv_df.describe().loc[['mean','std']].transpose()\n",
    "cv_df_t"
   ]
  },
  {
   "cell_type": "code",
   "execution_count": null,
   "metadata": {},
   "outputs": [],
   "source": []
  },
  {
   "cell_type": "code",
   "execution_count": 193,
   "metadata": {},
   "outputs": [
    {
     "data": {
      "image/png": "[encoded data removed]",
      "text/plain": [
       "<Figure size 1008x360 with 1 Axes>"
      ]
     },
     "metadata": {},
     "output_type": "display_data"
    }
   ],
   "source": [
    "# multiple line plots\n",
    "plt.figure(figsize=(14,5))\n",
    "plt.plot( cv_df['Logistic Regression'], marker='o', markerfacecolor='blue', markersize=8, color='blue', linewidth=2)\n",
    "plt.plot( cv_df['KNN'], marker='o', markerfacecolor='red', markersize=8, color='red', linewidth=2)\n",
    "plt.plot( cv_df['Random Forest'], marker='o', markerfacecolor='black', markersize=8, color='black', linewidth=2)\n",
    "plt.plot( cv_df['Decision Tree'], marker='o', markerfacecolor='green', markersize=8, color='green', linewidth=2)\n",
    "# show legend\n",
    "plt.title('Cross Val Precision Score', size=20)\n",
    "plt.legend(['Logistic Regression', 'KNN', 'Random Forest', 'Decision Tree'])\n",
    "plt.ylim(0,1)\n",
    "# show graph\n",
    "plt.show()"
   ]
  },
  {
   "cell_type": "code",
   "execution_count": 194,
   "metadata": {},
   "outputs": [],
   "source": [
    "metric_default = pd.DataFrame(index = ['Logistic Regression','KNN', 'Random Forest','Decision Tree']) \n",
    "f1 = []\n",
    "prec = []\n",
    "recall = []\n",
    "acc = []"
   ]
  },
  {
   "cell_type": "code",
   "execution_count": 195,
   "metadata": {},
   "outputs": [],
   "source": [
    "def evaluationMetrics(y_test, y_pred):\n",
    "    f1.append(f1_score(y_test,y_pred))\n",
    "    prec.append(precision_score(y_test, y_pred))\n",
    "    recall.append(recall_score(y_test, y_pred))\n",
    "    acc.append(accuracy_score(y_test, y_pred))"
   ]
  },
  {
   "cell_type": "code",
   "execution_count": 196,
   "metadata": {},
   "outputs": [],
   "source": [
    "evaluationMetrics(y_test, y_pred_logreg)\n",
    "evaluationMetrics(y_test, y_pred_knn)\n",
    "evaluationMetrics(y_test, y_pred_ranfor)\n",
    "evaluationMetrics(y_test, y_pred_dtree)"
   ]
  },
  {
   "cell_type": "code",
   "execution_count": 197,
   "metadata": {},
   "outputs": [],
   "source": [
    "metric_default['F1-Score'] = f1\n",
    "metric_default['Recall'] = recall\n",
    "metric_default['Precision'] = prec\n",
    "metric_default['Accuracy'] = acc"
   ]
  },
  {
   "cell_type": "code",
   "execution_count": 198,
   "metadata": {},
   "outputs": [
    {
     "data": {
      "text/html": [
       "<div>\n",
       "<style scoped>\n",
       "    .dataframe tbody tr th:only-of-type {\n",
       "        vertical-align: middle;\n",
       "    }\n",
       "\n",
       "    .dataframe tbody tr th {\n",
       "        vertical-align: top;\n",
       "    }\n",
       "\n",
       "    .dataframe thead th {\n",
       "        text-align: right;\n",
       "    }\n",
       "</style>\n",
       "<table border=\"1\" class=\"dataframe\">\n",
       "  <thead>\n",
       "    <tr style=\"text-align: right;\">\n",
       "      <th></th>\n",
       "      <th>F1-Score</th>\n",
       "      <th>Recall</th>\n",
       "      <th>Precision</th>\n",
       "      <th>Accuracy</th>\n",
       "    </tr>\n",
       "  </thead>\n",
       "  <tbody>\n",
       "    <tr>\n",
       "      <th>Logistic Regression</th>\n",
       "      <td>0.326389</td>\n",
       "      <td>0.220657</td>\n",
       "      <td>0.626667</td>\n",
       "      <td>0.898549</td>\n",
       "    </tr>\n",
       "    <tr>\n",
       "      <th>KNN</th>\n",
       "      <td>0.356358</td>\n",
       "      <td>0.266432</td>\n",
       "      <td>0.537915</td>\n",
       "      <td>0.892796</td>\n",
       "    </tr>\n",
       "    <tr>\n",
       "      <th>Random Forest</th>\n",
       "      <td>0.294020</td>\n",
       "      <td>0.207746</td>\n",
       "      <td>0.502841</td>\n",
       "      <td>0.888874</td>\n",
       "    </tr>\n",
       "    <tr>\n",
       "      <th>Decision Tree</th>\n",
       "      <td>0.271584</td>\n",
       "      <td>0.190141</td>\n",
       "      <td>0.475073</td>\n",
       "      <td>0.886390</td>\n",
       "    </tr>\n",
       "  </tbody>\n",
       "</table>\n",
       "</div>"
      ],
      "text/plain": [
       "                     F1-Score    Recall  Precision  Accuracy\n",
       "Logistic Regression  0.326389  0.220657   0.626667  0.898549\n",
       "KNN                  0.356358  0.266432   0.537915  0.892796\n",
       "Random Forest        0.294020  0.207746   0.502841  0.888874\n",
       "Decision Tree        0.271584  0.190141   0.475073  0.886390"
      ]
     },
     "execution_count": 198,
     "metadata": {},
     "output_type": "execute_result"
    }
   ],
   "source": [
    "metric_default"
   ]
  },
  {
   "cell_type": "markdown",
   "metadata": {},
   "source": [
    "## Insights\n",
    "1. Based on those analysis, we can conclude that Logistic Regression has highest precision score relatively."
   ]
  },
  {
   "cell_type": "markdown",
   "metadata": {},
   "source": [
    "# "
   ]
  },
  {
   "cell_type": "markdown",
   "metadata": {},
   "source": [
    "<a id=\"1\"></a>\n",
    "<h1 style=\"color:White; background-color:#0b6b6e; font-size:250%; text-align:left; border-radius: 10px; padding-top: 10px; padding-bottom: 10px\">4. Polynomial Model</h1>"
   ]
  },
  {
   "cell_type": "code",
   "execution_count": 199,
   "metadata": {},
   "outputs": [],
   "source": [
    "num_scale_trans = Pipeline(steps=[\n",
    "    ('scaler', MinMaxScaler()),\n",
    "])\n",
    "\n",
    "num_poly_trans = Pipeline(steps=[\n",
    "    ('poly', PolynomialFeatures(degree=3))])\n",
    "\n",
    "cat_trans = Pipeline(steps=[\n",
    "    ('onehot', OneHotEncoder(handle_unknown='ignore'))\n",
    "])\n",
    "\n",
    "preprocessor_1_poly = ColumnTransformer([\n",
    "        ('num_scale_trans', num_scale_trans,['emp.var.rate','euribor3m','nr.employed','cons.price.idx','cons.conf.idx','age', 'campaign', 'pdays', 'previous']),\n",
    "        ('num_poly_trans', num_poly_trans,['emp.var.rate','euribor3m','nr.employed','cons.price.idx','cons.conf.idx','age', 'campaign', 'pdays', 'previous']),\n",
    "        ('cat', cat_trans, ['marital','housing','loan', 'poutcome','job', 'education', 'month'])\n",
    "])\n",
    "     \n",
    "preprocessor_2_poly = ColumnTransformer([\n",
    "        ('cat', cat_trans, ['marital','housing','loan', 'poutcome','job', 'education', 'month'])])"
   ]
  },
  {
   "cell_type": "code",
   "execution_count": 200,
   "metadata": {},
   "outputs": [],
   "source": [
    "logreg_poly = Pipeline(steps=[('preprocessor_1_poly', preprocessor_1_poly),\n",
    "                      ('logreg', LogisticRegression(random_state = 2020))])\n",
    "\n",
    "knn_poly = Pipeline(steps=[('preprocessor_1_poly', preprocessor_1_poly),\n",
    "                      ('knn', KNeighborsClassifier())])\n",
    "\n",
    "ranfor_poly = Pipeline(steps=[('preprocessor_1_poly', preprocessor_1_poly),\n",
    "                      ('ranfor', RandomForestClassifier(random_state = 2020))])\n",
    "\n",
    "dtree_poly = Pipeline(steps=[('preprocessor_1_poly', preprocessor_1_poly),\n",
    "                      ('dtree', DecisionTreeClassifier(random_state = 2020))])"
   ]
  },
  {
   "cell_type": "markdown",
   "metadata": {},
   "source": [
    "### Logistic Regression Polynomial"
   ]
  },
  {
   "cell_type": "code",
   "execution_count": 201,
   "metadata": {},
   "outputs": [],
   "source": [
    "metric = 'precision'\n",
    "def model_evaluation_cv(logreg_poly, metric):\n",
    "  skfold = StratifiedKFold(n_splits = 5)\n",
    "  model_cv = cross_val_score(logreg_poly, X_train, y_train, cv = skfold, scoring = metric, n_jobs=-1, verbose=1)\n",
    "  return model_cv\n",
    "\n",
    "def print_result(model_cv):\n",
    "  print('Logreg CV Precision score',model_cv)\n",
    "  print('Logreg CV Precision score mean',model_cv.mean())\n",
    "  print('Logreg CV Precision score std',model_cv.std())"
   ]
  },
  {
   "cell_type": "code",
   "execution_count": 202,
   "metadata": {},
   "outputs": [
    {
     "name": "stderr",
     "output_type": "stream",
     "text": [
      "[Parallel(n_jobs=-1)]: Using backend LokyBackend with 8 concurrent workers.\n"
     ]
    },
    {
     "name": "stdout",
     "output_type": "stream",
     "text": [
      "Logreg CV Precision score [0.64705882 0.57142857 0.60264901 0.62921348 0.67164179]\n",
      "Logreg CV Precision score mean 0.6243983351542687\n",
      "Logreg CV Precision score std 0.03477774193014702\n"
     ]
    },
    {
     "name": "stderr",
     "output_type": "stream",
     "text": [
      "[Parallel(n_jobs=-1)]: Done   2 out of   5 | elapsed:    3.7s remaining:    5.6s\n",
      "[Parallel(n_jobs=-1)]: Done   5 out of   5 | elapsed:    3.8s finished\n"
     ]
    }
   ],
   "source": [
    "logreg_poly_model_cv = model_evaluation_cv(logreg_poly, metric)\n",
    "print_result(logreg_poly_model_cv)"
   ]
  },
  {
   "cell_type": "code",
   "execution_count": 203,
   "metadata": {},
   "outputs": [
    {
     "data": {
      "text/plain": [
       "Pipeline(steps=[('preprocessor_1_poly',\n",
       "                 ColumnTransformer(transformers=[('num_scale_trans',\n",
       "                                                  Pipeline(steps=[('scaler',\n",
       "                                                                   MinMaxScaler())]),\n",
       "                                                  ['emp.var.rate', 'euribor3m',\n",
       "                                                   'nr.employed',\n",
       "                                                   'cons.price.idx',\n",
       "                                                   'cons.conf.idx', 'age',\n",
       "                                                   'campaign', 'pdays',\n",
       "                                                   'previous']),\n",
       "                                                 ('num_poly_trans',\n",
       "                                                  Pipeline(steps=[('poly',\n",
       "                                                                   PolynomialFeatures(degree=3))]),\n",
       "                                                  ['emp.var.rate', 'euribor3m',\n",
       "                                                   'nr.employed',\n",
       "                                                   'cons.price.idx',\n",
       "                                                   'cons.conf.idx', 'age',\n",
       "                                                   'campaign', 'pdays',\n",
       "                                                   'previous']),\n",
       "                                                 ('cat',\n",
       "                                                  Pipeline(steps=[('onehot',\n",
       "                                                                   OneHotEncoder(handle_unknown='ignore'))]),\n",
       "                                                  ['marital', 'housing', 'loan',\n",
       "                                                   'poutcome', 'job',\n",
       "                                                   'education', 'month'])])),\n",
       "                ('logreg', LogisticRegression(random_state=2020))])"
      ]
     },
     "execution_count": 203,
     "metadata": {},
     "output_type": "execute_result"
    }
   ],
   "source": [
    "logreg_poly.fit(X_train, y_train)"
   ]
  },
  {
   "cell_type": "code",
   "execution_count": 204,
   "metadata": {},
   "outputs": [
    {
     "name": "stdout",
     "output_type": "stream",
     "text": [
      "              precision    recall  f1-score   support\n",
      "\n",
      "           0       0.90      0.99      0.94      6797\n",
      "           1       0.68      0.09      0.16       852\n",
      "\n",
      "    accuracy                           0.89      7649\n",
      "   macro avg       0.79      0.54      0.55      7649\n",
      "weighted avg       0.87      0.89      0.86      7649\n",
      "\n"
     ]
    }
   ],
   "source": [
    "y_pred_logreg_poly = logreg_poly.predict(X_test)\n",
    "print(classification_report(y_test, y_pred_logreg_poly))"
   ]
  },
  {
   "cell_type": "markdown",
   "metadata": {},
   "source": [
    "### KNearest Neighbors"
   ]
  },
  {
   "cell_type": "code",
   "execution_count": 205,
   "metadata": {},
   "outputs": [],
   "source": [
    "metric = 'precision'\n",
    "def model_evaluation_cv(knn_poly, metric):\n",
    "  skfold = StratifiedKFold(n_splits = 5)\n",
    "  model_cv = cross_val_score(knn_poly, X_train, y_train, cv = skfold, scoring = metric, n_jobs=-1, verbose=1)\n",
    "  return model_cv\n",
    "\n",
    "def print_result(model_cv):\n",
    "  print('KNN Poly CV Precision score',model_cv)\n",
    "  print('KNN Poly CV Precision score mean',model_cv.mean())\n",
    "  print('KNN Poly CV Precision score std',model_cv.std())"
   ]
  },
  {
   "cell_type": "code",
   "execution_count": 206,
   "metadata": {},
   "outputs": [
    {
     "name": "stderr",
     "output_type": "stream",
     "text": [
      "[Parallel(n_jobs=-1)]: Using backend LokyBackend with 8 concurrent workers.\n",
      "[Parallel(n_jobs=-1)]: Done   2 out of   5 | elapsed:   13.7s remaining:   20.6s\n"
     ]
    },
    {
     "name": "stdout",
     "output_type": "stream",
     "text": [
      "KNN Poly CV Precision score [0.49848943 0.47647059 0.5        0.46802326 0.50581395]\n",
      "KNN Poly CV Precision score mean 0.48975944470389854\n",
      "KNN Poly CV Precision score std 0.014750487530245082\n"
     ]
    },
    {
     "name": "stderr",
     "output_type": "stream",
     "text": [
      "[Parallel(n_jobs=-1)]: Done   5 out of   5 | elapsed:   14.4s finished\n"
     ]
    }
   ],
   "source": [
    "knn_poly_model_cv = model_evaluation_cv(knn_poly, metric)\n",
    "print_result(knn_poly_model_cv)"
   ]
  },
  {
   "cell_type": "code",
   "execution_count": 207,
   "metadata": {},
   "outputs": [
    {
     "data": {
      "text/plain": [
       "Pipeline(steps=[('preprocessor_1_poly',\n",
       "                 ColumnTransformer(transformers=[('num_scale_trans',\n",
       "                                                  Pipeline(steps=[('scaler',\n",
       "                                                                   MinMaxScaler())]),\n",
       "                                                  ['emp.var.rate', 'euribor3m',\n",
       "                                                   'nr.employed',\n",
       "                                                   'cons.price.idx',\n",
       "                                                   'cons.conf.idx', 'age',\n",
       "                                                   'campaign', 'pdays',\n",
       "                                                   'previous']),\n",
       "                                                 ('num_poly_trans',\n",
       "                                                  Pipeline(steps=[('poly',\n",
       "                                                                   PolynomialFeatures(degree=3))]),\n",
       "                                                  ['emp.var.rate', 'euribor3m',\n",
       "                                                   'nr.employed',\n",
       "                                                   'cons.price.idx',\n",
       "                                                   'cons.conf.idx', 'age',\n",
       "                                                   'campaign', 'pdays',\n",
       "                                                   'previous']),\n",
       "                                                 ('cat',\n",
       "                                                  Pipeline(steps=[('onehot',\n",
       "                                                                   OneHotEncoder(handle_unknown='ignore'))]),\n",
       "                                                  ['marital', 'housing', 'loan',\n",
       "                                                   'poutcome', 'job',\n",
       "                                                   'education', 'month'])])),\n",
       "                ('knn', KNeighborsClassifier())])"
      ]
     },
     "execution_count": 207,
     "metadata": {},
     "output_type": "execute_result"
    }
   ],
   "source": [
    "knn_poly.fit(X_train, y_train)"
   ]
  },
  {
   "cell_type": "code",
   "execution_count": 208,
   "metadata": {},
   "outputs": [
    {
     "name": "stdout",
     "output_type": "stream",
     "text": [
      "              precision    recall  f1-score   support\n",
      "\n",
      "           0       0.91      0.97      0.94      6797\n",
      "           1       0.52      0.26      0.35       852\n",
      "\n",
      "    accuracy                           0.89      7649\n",
      "   macro avg       0.71      0.62      0.64      7649\n",
      "weighted avg       0.87      0.89      0.87      7649\n",
      "\n"
     ]
    }
   ],
   "source": [
    "y_pred_knn_poly = knn_poly.predict(X_test)\n",
    "print(classification_report(y_test, y_pred_knn_poly))"
   ]
  },
  {
   "cell_type": "markdown",
   "metadata": {},
   "source": [
    "### Random Forest"
   ]
  },
  {
   "cell_type": "code",
   "execution_count": 209,
   "metadata": {},
   "outputs": [],
   "source": [
    "metric = 'precision'\n",
    "def model_evaluation_cv(ranfor_poly, metric):\n",
    "  skfold = StratifiedKFold(n_splits = 5)\n",
    "  model_cv = cross_val_score(ranfor_poly, X_train, y_train, cv = skfold, scoring = metric, n_jobs=-1, verbose=1)\n",
    "  return model_cv\n",
    "\n",
    "def print_result(model_cv):\n",
    "  print('Ranfor Poly CV Precision score',model_cv)\n",
    "  print('Ranfor Poly CV Precision score mean',model_cv.mean())\n",
    "  print('Ranfor Poly CV Precision score std',model_cv.std())"
   ]
  },
  {
   "cell_type": "code",
   "execution_count": 210,
   "metadata": {},
   "outputs": [
    {
     "name": "stderr",
     "output_type": "stream",
     "text": [
      "[Parallel(n_jobs=-1)]: Using backend LokyBackend with 8 concurrent workers.\n",
      "[Parallel(n_jobs=-1)]: Done   2 out of   5 | elapsed:   21.7s remaining:   32.6s\n"
     ]
    },
    {
     "name": "stdout",
     "output_type": "stream",
     "text": [
      "Ranfor Poly CV Precision score [0.50520833 0.4187643  0.50724638 0.4562212  0.44880174]\n",
      "Ranfor Poly CV Precision score mean 0.46724839065609924\n",
      "Ranfor Poly CV Precision score std 0.034215145122412485\n"
     ]
    },
    {
     "name": "stderr",
     "output_type": "stream",
     "text": [
      "[Parallel(n_jobs=-1)]: Done   5 out of   5 | elapsed:   23.1s finished\n"
     ]
    }
   ],
   "source": [
    "ranfor_poly_model_cv = model_evaluation_cv(ranfor_poly, metric)\n",
    "print_result(ranfor_poly_model_cv)"
   ]
  },
  {
   "cell_type": "code",
   "execution_count": 211,
   "metadata": {},
   "outputs": [
    {
     "data": {
      "text/plain": [
       "Pipeline(steps=[('preprocessor_1_poly',\n",
       "                 ColumnTransformer(transformers=[('num_scale_trans',\n",
       "                                                  Pipeline(steps=[('scaler',\n",
       "                                                                   MinMaxScaler())]),\n",
       "                                                  ['emp.var.rate', 'euribor3m',\n",
       "                                                   'nr.employed',\n",
       "                                                   'cons.price.idx',\n",
       "                                                   'cons.conf.idx', 'age',\n",
       "                                                   'campaign', 'pdays',\n",
       "                                                   'previous']),\n",
       "                                                 ('num_poly_trans',\n",
       "                                                  Pipeline(steps=[('poly',\n",
       "                                                                   PolynomialFeatures(degree=3))]),\n",
       "                                                  ['emp.var.rate', 'euribor3m',\n",
       "                                                   'nr.employed',\n",
       "                                                   'cons.price.idx',\n",
       "                                                   'cons.conf.idx', 'age',\n",
       "                                                   'campaign', 'pdays',\n",
       "                                                   'previous']),\n",
       "                                                 ('cat',\n",
       "                                                  Pipeline(steps=[('onehot',\n",
       "                                                                   OneHotEncoder(handle_unknown='ignore'))]),\n",
       "                                                  ['marital', 'housing', 'loan',\n",
       "                                                   'poutcome', 'job',\n",
       "                                                   'education', 'month'])])),\n",
       "                ('ranfor', RandomForestClassifier(random_state=2020))])"
      ]
     },
     "execution_count": 211,
     "metadata": {},
     "output_type": "execute_result"
    }
   ],
   "source": [
    "ranfor_poly.fit(X_train, y_train)"
   ]
  },
  {
   "cell_type": "code",
   "execution_count": 212,
   "metadata": {},
   "outputs": [
    {
     "name": "stdout",
     "output_type": "stream",
     "text": [
      "              precision    recall  f1-score   support\n",
      "\n",
      "           0       0.92      0.96      0.94      6797\n",
      "           1       0.47      0.30      0.36       852\n",
      "\n",
      "    accuracy                           0.88      7649\n",
      "   macro avg       0.69      0.63      0.65      7649\n",
      "weighted avg       0.87      0.88      0.87      7649\n",
      "\n"
     ]
    }
   ],
   "source": [
    "y_pred_ranfor_poly = ranfor_poly.predict(X_test)\n",
    "print(classification_report(y_test, y_pred_ranfor_poly))"
   ]
  },
  {
   "cell_type": "markdown",
   "metadata": {},
   "source": [
    "### Decision Tree"
   ]
  },
  {
   "cell_type": "code",
   "execution_count": 213,
   "metadata": {},
   "outputs": [],
   "source": [
    "metric = 'precision'\n",
    "def model_evaluation_cv(dtree_poly, metric):\n",
    "  skfold = StratifiedKFold(n_splits = 5)\n",
    "  model_cv = cross_val_score(dtree_poly, X_train, y_train, cv = skfold, scoring = metric)\n",
    "  return model_cv\n",
    "\n",
    "def print_result(model_cv):\n",
    "  print('DTree Poly CV Precision score',model_cv)\n",
    "  print('DTree Poly CV Precision score mean',model_cv.mean())\n",
    "  print('DTree Poly CV Precision score std',model_cv.std())"
   ]
  },
  {
   "cell_type": "code",
   "execution_count": 214,
   "metadata": {},
   "outputs": [
    {
     "name": "stdout",
     "output_type": "stream",
     "text": [
      "DTree Poly CV Precision score [0.29737609 0.29071332 0.29801325 0.2957359  0.29058663]\n",
      "DTree Poly CV Precision score mean 0.29448503878752563\n",
      "DTree Poly CV Precision score std 0.003218524824002314\n"
     ]
    }
   ],
   "source": [
    "dtree_poly_model_cv = model_evaluation_cv(dtree_poly, metric)\n",
    "print_result(dtree_poly_model_cv)"
   ]
  },
  {
   "cell_type": "code",
   "execution_count": 215,
   "metadata": {},
   "outputs": [
    {
     "data": {
      "text/plain": [
       "Pipeline(steps=[('preprocessor_1_poly',\n",
       "                 ColumnTransformer(transformers=[('num_scale_trans',\n",
       "                                                  Pipeline(steps=[('scaler',\n",
       "                                                                   MinMaxScaler())]),\n",
       "                                                  ['emp.var.rate', 'euribor3m',\n",
       "                                                   'nr.employed',\n",
       "                                                   'cons.price.idx',\n",
       "                                                   'cons.conf.idx', 'age',\n",
       "                                                   'campaign', 'pdays',\n",
       "                                                   'previous']),\n",
       "                                                 ('num_poly_trans',\n",
       "                                                  Pipeline(steps=[('poly',\n",
       "                                                                   PolynomialFeatures(degree=3))]),\n",
       "                                                  ['emp.var.rate', 'euribor3m',\n",
       "                                                   'nr.employed',\n",
       "                                                   'cons.price.idx',\n",
       "                                                   'cons.conf.idx', 'age',\n",
       "                                                   'campaign', 'pdays',\n",
       "                                                   'previous']),\n",
       "                                                 ('cat',\n",
       "                                                  Pipeline(steps=[('onehot',\n",
       "                                                                   OneHotEncoder(handle_unknown='ignore'))]),\n",
       "                                                  ['marital', 'housing', 'loan',\n",
       "                                                   'poutcome', 'job',\n",
       "                                                   'education', 'month'])])),\n",
       "                ('dtree', DecisionTreeClassifier(random_state=2020))])"
      ]
     },
     "execution_count": 215,
     "metadata": {},
     "output_type": "execute_result"
    }
   ],
   "source": [
    "dtree_poly.fit(X_train, y_train)"
   ]
  },
  {
   "cell_type": "code",
   "execution_count": 216,
   "metadata": {},
   "outputs": [
    {
     "name": "stdout",
     "output_type": "stream",
     "text": [
      "              precision    recall  f1-score   support\n",
      "\n",
      "           0       0.92      0.91      0.91      6797\n",
      "           1       0.32      0.33      0.32       852\n",
      "\n",
      "    accuracy                           0.85      7649\n",
      "   macro avg       0.62      0.62      0.62      7649\n",
      "weighted avg       0.85      0.85      0.85      7649\n",
      "\n"
     ]
    }
   ],
   "source": [
    "y_pred_dtree_poly = dtree_poly.predict(X_test)\n",
    "print(classification_report(y_test, y_pred_dtree_poly))"
   ]
  },
  {
   "cell_type": "code",
   "execution_count": 217,
   "metadata": {},
   "outputs": [
    {
     "name": "stdout",
     "output_type": "stream",
     "text": [
      "Poly Cross Val Precision Score\n"
     ]
    },
    {
     "data": {
      "text/html": [
       "<div>\n",
       "<style scoped>\n",
       "    .dataframe tbody tr th:only-of-type {\n",
       "        vertical-align: middle;\n",
       "    }\n",
       "\n",
       "    .dataframe tbody tr th {\n",
       "        vertical-align: top;\n",
       "    }\n",
       "\n",
       "    .dataframe thead th {\n",
       "        text-align: right;\n",
       "    }\n",
       "</style>\n",
       "<table border=\"1\" class=\"dataframe\">\n",
       "  <thead>\n",
       "    <tr style=\"text-align: right;\">\n",
       "      <th></th>\n",
       "      <th>Poly Logistic Regression</th>\n",
       "      <th>Poly KNN</th>\n",
       "      <th>Poly Random Forest</th>\n",
       "      <th>Poly Decision Tree</th>\n",
       "    </tr>\n",
       "  </thead>\n",
       "  <tbody>\n",
       "    <tr>\n",
       "      <th>0</th>\n",
       "      <td>0.647059</td>\n",
       "      <td>0.498489</td>\n",
       "      <td>0.505208</td>\n",
       "      <td>0.297376</td>\n",
       "    </tr>\n",
       "    <tr>\n",
       "      <th>1</th>\n",
       "      <td>0.571429</td>\n",
       "      <td>0.476471</td>\n",
       "      <td>0.418764</td>\n",
       "      <td>0.290713</td>\n",
       "    </tr>\n",
       "    <tr>\n",
       "      <th>2</th>\n",
       "      <td>0.602649</td>\n",
       "      <td>0.500000</td>\n",
       "      <td>0.507246</td>\n",
       "      <td>0.298013</td>\n",
       "    </tr>\n",
       "    <tr>\n",
       "      <th>3</th>\n",
       "      <td>0.629213</td>\n",
       "      <td>0.468023</td>\n",
       "      <td>0.456221</td>\n",
       "      <td>0.295736</td>\n",
       "    </tr>\n",
       "    <tr>\n",
       "      <th>4</th>\n",
       "      <td>0.671642</td>\n",
       "      <td>0.505814</td>\n",
       "      <td>0.448802</td>\n",
       "      <td>0.290587</td>\n",
       "    </tr>\n",
       "  </tbody>\n",
       "</table>\n",
       "</div>"
      ],
      "text/plain": [
       "   Poly Logistic Regression  Poly KNN  Poly Random Forest  Poly Decision Tree\n",
       "0                  0.647059  0.498489            0.505208            0.297376\n",
       "1                  0.571429  0.476471            0.418764            0.290713\n",
       "2                  0.602649  0.500000            0.507246            0.298013\n",
       "3                  0.629213  0.468023            0.456221            0.295736\n",
       "4                  0.671642  0.505814            0.448802            0.290587"
      ]
     },
     "execution_count": 217,
     "metadata": {},
     "output_type": "execute_result"
    }
   ],
   "source": [
    "poly_cv_df = pd.DataFrame(data=[logreg_poly_model_cv, knn_poly_model_cv, ranfor_poly_model_cv, dtree_poly_model_cv], index = ['Poly Logistic Regression', 'Poly KNN', 'Poly Random Forest', 'Poly Decision Tree'])\n",
    "poly_cv_df = poly_cv_df.transpose()\n",
    "print(\"Poly Cross Val Precision Score\")\n",
    "poly_cv_df"
   ]
  },
  {
   "cell_type": "code",
   "execution_count": 218,
   "metadata": {},
   "outputs": [
    {
     "name": "stdout",
     "output_type": "stream",
     "text": [
      "Cross Val Precision Score\n"
     ]
    },
    {
     "data": {
      "text/html": [
       "<div>\n",
       "<style scoped>\n",
       "    .dataframe tbody tr th:only-of-type {\n",
       "        vertical-align: middle;\n",
       "    }\n",
       "\n",
       "    .dataframe tbody tr th {\n",
       "        vertical-align: top;\n",
       "    }\n",
       "\n",
       "    .dataframe thead th {\n",
       "        text-align: right;\n",
       "    }\n",
       "</style>\n",
       "<table border=\"1\" class=\"dataframe\">\n",
       "  <thead>\n",
       "    <tr style=\"text-align: right;\">\n",
       "      <th></th>\n",
       "      <th>mean</th>\n",
       "      <th>std</th>\n",
       "    </tr>\n",
       "  </thead>\n",
       "  <tbody>\n",
       "    <tr>\n",
       "      <th>Poly Logistic Regression</th>\n",
       "      <td>0.624398</td>\n",
       "      <td>0.038883</td>\n",
       "    </tr>\n",
       "    <tr>\n",
       "      <th>Poly KNN</th>\n",
       "      <td>0.489759</td>\n",
       "      <td>0.016492</td>\n",
       "    </tr>\n",
       "    <tr>\n",
       "      <th>Poly Random Forest</th>\n",
       "      <td>0.467248</td>\n",
       "      <td>0.038254</td>\n",
       "    </tr>\n",
       "    <tr>\n",
       "      <th>Poly Decision Tree</th>\n",
       "      <td>0.294485</td>\n",
       "      <td>0.003598</td>\n",
       "    </tr>\n",
       "  </tbody>\n",
       "</table>\n",
       "</div>"
      ],
      "text/plain": [
       "                              mean       std\n",
       "Poly Logistic Regression  0.624398  0.038883\n",
       "Poly KNN                  0.489759  0.016492\n",
       "Poly Random Forest        0.467248  0.038254\n",
       "Poly Decision Tree        0.294485  0.003598"
      ]
     },
     "execution_count": 218,
     "metadata": {},
     "output_type": "execute_result"
    }
   ],
   "source": [
    "print(\"Cross Val Precision Score\")\n",
    "poly_cv_df_t = poly_cv_df.describe().loc[['mean','std']].transpose()\n",
    "poly_cv_df_t"
   ]
  },
  {
   "cell_type": "code",
   "execution_count": 219,
   "metadata": {},
   "outputs": [
    {
     "data": {
      "image/png": "[encoded data removed]",
      "text/plain": [
       "<Figure size 1008x360 with 1 Axes>"
      ]
     },
     "metadata": {},
     "output_type": "display_data"
    }
   ],
   "source": [
    "# multiple line plots\n",
    "plt.figure(figsize=(14,5))\n",
    "plt.plot( poly_cv_df['Poly Logistic Regression'], marker='o', markerfacecolor='blue', markersize=8, color='blue', linewidth=2)\n",
    "plt.plot( poly_cv_df['Poly KNN'], marker='o', markerfacecolor='red', markersize=8, color='red', linewidth=2)\n",
    "plt.plot( poly_cv_df['Poly Random Forest'], marker='o', markerfacecolor='black', markersize=8, color='black', linewidth=2)\n",
    "plt.plot( poly_cv_df['Poly Decision Tree'], marker='o', markerfacecolor='green', markersize=8, color='green', linewidth=2)\n",
    "# show legend\n",
    "plt.title('Poly Cross Val Precision Score', size=20)\n",
    "plt.legend(['Poly Logistic Regression', 'Poly KNN', 'Poly Random Forest', 'Poly Decision Tree'])\n",
    "plt.ylim(0,1)\n",
    "# show graph\n",
    "plt.show()"
   ]
  },
  {
   "cell_type": "code",
   "execution_count": 220,
   "metadata": {},
   "outputs": [],
   "source": [
    "metric_poly = pd.DataFrame(index = ['Poly Logistic Regression','Poly KNN', 'Poly Random Forest','Poly Decision Tree']) \n",
    "f1 = []\n",
    "prec = []\n",
    "recall = []\n",
    "acc = []"
   ]
  },
  {
   "cell_type": "code",
   "execution_count": 221,
   "metadata": {},
   "outputs": [],
   "source": [
    "def evaluationMetrics(y_test, y_pred_poly):\n",
    "    f1.append(f1_score(y_test,y_pred_poly))\n",
    "    prec.append(precision_score(y_test, y_pred_poly))\n",
    "    recall.append(recall_score(y_test, y_pred_poly))\n",
    "    acc.append(accuracy_score(y_test, y_pred_poly))"
   ]
  },
  {
   "cell_type": "code",
   "execution_count": 222,
   "metadata": {},
   "outputs": [],
   "source": [
    "evaluationMetrics(y_test, y_pred_logreg_poly)\n",
    "evaluationMetrics(y_test, y_pred_knn_poly)\n",
    "evaluationMetrics(y_test, y_pred_ranfor_poly)\n",
    "evaluationMetrics(y_test, y_pred_dtree_poly)"
   ]
  },
  {
   "cell_type": "code",
   "execution_count": 223,
   "metadata": {},
   "outputs": [],
   "source": [
    "metric_poly['F1-Score'] = f1\n",
    "metric_poly['Recall'] = recall\n",
    "metric_poly['Precision'] = prec\n",
    "metric_poly['Accuracy'] = acc"
   ]
  },
  {
   "cell_type": "code",
   "execution_count": 224,
   "metadata": {},
   "outputs": [
    {
     "data": {
      "text/html": [
       "<div>\n",
       "<style scoped>\n",
       "    .dataframe tbody tr th:only-of-type {\n",
       "        vertical-align: middle;\n",
       "    }\n",
       "\n",
       "    .dataframe tbody tr th {\n",
       "        vertical-align: top;\n",
       "    }\n",
       "\n",
       "    .dataframe thead th {\n",
       "        text-align: right;\n",
       "    }\n",
       "</style>\n",
       "<table border=\"1\" class=\"dataframe\">\n",
       "  <thead>\n",
       "    <tr style=\"text-align: right;\">\n",
       "      <th></th>\n",
       "      <th>F1-Score</th>\n",
       "      <th>Recall</th>\n",
       "      <th>Precision</th>\n",
       "      <th>Accuracy</th>\n",
       "    </tr>\n",
       "  </thead>\n",
       "  <tbody>\n",
       "    <tr>\n",
       "      <th>Poly Logistic Regression</th>\n",
       "      <td>0.164948</td>\n",
       "      <td>0.093897</td>\n",
       "      <td>0.677966</td>\n",
       "      <td>0.894104</td>\n",
       "    </tr>\n",
       "    <tr>\n",
       "      <th>Poly KNN</th>\n",
       "      <td>0.347082</td>\n",
       "      <td>0.261737</td>\n",
       "      <td>0.515012</td>\n",
       "      <td>0.890312</td>\n",
       "    </tr>\n",
       "    <tr>\n",
       "      <th>Poly Random Forest</th>\n",
       "      <td>0.364029</td>\n",
       "      <td>0.296948</td>\n",
       "      <td>0.470260</td>\n",
       "      <td>0.884429</td>\n",
       "    </tr>\n",
       "    <tr>\n",
       "      <th>Poly Decision Tree</th>\n",
       "      <td>0.323032</td>\n",
       "      <td>0.325117</td>\n",
       "      <td>0.320973</td>\n",
       "      <td>0.848215</td>\n",
       "    </tr>\n",
       "  </tbody>\n",
       "</table>\n",
       "</div>"
      ],
      "text/plain": [
       "                          F1-Score    Recall  Precision  Accuracy\n",
       "Poly Logistic Regression  0.164948  0.093897   0.677966  0.894104\n",
       "Poly KNN                  0.347082  0.261737   0.515012  0.890312\n",
       "Poly Random Forest        0.364029  0.296948   0.470260  0.884429\n",
       "Poly Decision Tree        0.323032  0.325117   0.320973  0.848215"
      ]
     },
     "execution_count": 224,
     "metadata": {},
     "output_type": "execute_result"
    }
   ],
   "source": [
    "metric_poly"
   ]
  },
  {
   "cell_type": "markdown",
   "metadata": {},
   "source": [
    "## Insights\n",
    "1. Polynomial increase the precision score for Logistic Regression and KNN\n",
    "2. Polynomial decrease the precision score for Random Forest and Decision Tree"
   ]
  },
  {
   "cell_type": "markdown",
   "metadata": {},
   "source": [
    "# "
   ]
  },
  {
   "cell_type": "markdown",
   "metadata": {},
   "source": [
    "<a id=\"1\"></a>\n",
    "<h1 style=\"color:White; background-color:#0b6b6e; font-size:250%; text-align:left; border-radius: 10px; padding-top: 10px; padding-bottom: 10px\">5. Resampling Model (SMOTE)</h1>"
   ]
  },
  {
   "cell_type": "markdown",
   "metadata": {},
   "source": [
    "## Resampling Model Evaluation"
   ]
  },
  {
   "cell_type": "markdown",
   "metadata": {},
   "source": [
    "1. We have an issue with data imbalanced\n",
    "2. We use SMOTE, RUS, and Nearmiss method to overcome the imbalance data\n",
    "3. Synthetic Minority Oversampling Technique (SMOTE) , duplicating examples in the minority class, although these examples don’t add any new information to the model. Instead, new examples can be synthesized from the existing examples"
   ]
  },
  {
   "cell_type": "markdown",
   "metadata": {},
   "source": [
    "## SMOTE"
   ]
  },
  {
   "cell_type": "code",
   "execution_count": 225,
   "metadata": {},
   "outputs": [],
   "source": [
    "smote = SMOTE()"
   ]
  },
  {
   "cell_type": "code",
   "execution_count": 226,
   "metadata": {},
   "outputs": [],
   "source": [
    "logreg_smote = Pipeline(steps=[('preprocessor_1', preprocessor_1),\n",
    "                               ('balancing', smote),\n",
    "                               ('logreg', LogisticRegression(random_state = 2020))])\n",
    "\n",
    "knn_smote = Pipeline(steps=[('preprocessor_1', preprocessor_1),\n",
    "                               ('balancing', smote),\n",
    "                               ('knn', KNeighborsClassifier())])\n",
    "\n",
    "ranfor_smote = Pipeline(steps=[('preprocessor_2', preprocessor_2),\n",
    "                               ('balancing', smote),\n",
    "                               ('ranfor', RandomForestClassifier(random_state = 2020))])\n",
    "\n",
    "dtree_smote = Pipeline(steps=[('preprocessor_2', preprocessor_2),\n",
    "                              ('balancing', smote),\n",
    "                              ('dtree', DecisionTreeClassifier(random_state = 2020))])"
   ]
  },
  {
   "cell_type": "markdown",
   "metadata": {},
   "source": [
    "### Logistic Regression"
   ]
  },
  {
   "cell_type": "code",
   "execution_count": 227,
   "metadata": {},
   "outputs": [],
   "source": [
    "metric = 'precision'\n",
    "def model_evaluation_cv(logreg_smote, metric):\n",
    "  skfold = StratifiedKFold(n_splits = 5)\n",
    "  model_cv = cross_val_score(logreg_smote, X_train, y_train, cv = skfold, scoring = metric, n_jobs=-1, verbose=1)\n",
    "  return model_cv\n",
    "\n",
    "def print_result(model_cv):\n",
    "  print('Logreg SMOTE CV Precision score',model_cv)\n",
    "  print('Logreg SMOTE CV Precision score mean',model_cv.mean())\n",
    "  print('Logreg SMOTE CV Precision score std',model_cv.std())"
   ]
  },
  {
   "cell_type": "code",
   "execution_count": 228,
   "metadata": {},
   "outputs": [
    {
     "name": "stderr",
     "output_type": "stream",
     "text": [
      "[Parallel(n_jobs=-1)]: Using backend LokyBackend with 8 concurrent workers.\n",
      "[Parallel(n_jobs=-1)]: Done   2 out of   5 | elapsed:    1.9s remaining:    2.8s\n",
      "[Parallel(n_jobs=-1)]: Done   5 out of   5 | elapsed:    2.0s finished\n"
     ]
    },
    {
     "name": "stdout",
     "output_type": "stream",
     "text": [
      "Logreg SMOTE CV Precision score [0.3376729  0.31848552 0.33626902 0.30035842 0.33711262]\n",
      "Logreg SMOTE CV Precision score mean 0.3259796978328196\n",
      "Logreg SMOTE CV Precision score std 0.014691191497496528\n"
     ]
    }
   ],
   "source": [
    "logreg_smote_model_cv = model_evaluation_cv(logreg_smote, metric)\n",
    "print_result(logreg_smote_model_cv)"
   ]
  },
  {
   "cell_type": "code",
   "execution_count": 229,
   "metadata": {},
   "outputs": [
    {
     "data": {
      "text/plain": [
       "Pipeline(steps=[('preprocessor_1',\n",
       "                 ColumnTransformer(transformers=[('num',\n",
       "                                                  Pipeline(steps=[('scaler',\n",
       "                                                                   MinMaxScaler())]),\n",
       "                                                  ['emp.var.rate', 'euribor3m',\n",
       "                                                   'nr.employed',\n",
       "                                                   'cons.price.idx',\n",
       "                                                   'cons.conf.idx', 'age',\n",
       "                                                   'campaign', 'pdays',\n",
       "                                                   'previous']),\n",
       "                                                 ('cat',\n",
       "                                                  Pipeline(steps=[('onehot',\n",
       "                                                                   OneHotEncoder(handle_unknown='ignore'))]),\n",
       "                                                  ['marital', 'housing', 'loan',\n",
       "                                                   'poutcome', 'job',\n",
       "                                                   'education', 'month'])])),\n",
       "                ('balancing', SMOTE()),\n",
       "                ('logreg', LogisticRegression(random_state=2020))])"
      ]
     },
     "execution_count": 229,
     "metadata": {},
     "output_type": "execute_result"
    }
   ],
   "source": [
    "logreg_smote.fit(X_train, y_train)"
   ]
  },
  {
   "cell_type": "code",
   "execution_count": 230,
   "metadata": {},
   "outputs": [
    {
     "name": "stdout",
     "output_type": "stream",
     "text": [
      "              precision    recall  f1-score   support\n",
      "\n",
      "           0       0.95      0.85      0.90      6797\n",
      "           1       0.35      0.64      0.45       852\n",
      "\n",
      "    accuracy                           0.83      7649\n",
      "   macro avg       0.65      0.75      0.68      7649\n",
      "weighted avg       0.88      0.83      0.85      7649\n",
      "\n"
     ]
    }
   ],
   "source": [
    "y_pred_logreg_smote = logreg_smote.predict(X_test)\n",
    "print(classification_report(y_test, y_pred_logreg_smote))"
   ]
  },
  {
   "cell_type": "markdown",
   "metadata": {},
   "source": [
    "### KNN"
   ]
  },
  {
   "cell_type": "code",
   "execution_count": 231,
   "metadata": {},
   "outputs": [],
   "source": [
    "metric = 'precision'\n",
    "def model_evaluation_cv(knn_smote, metric):\n",
    "  skfold = StratifiedKFold(n_splits = 5)\n",
    "  model_cv = cross_val_score(knn_smote, X_train, y_train, cv = skfold, scoring = metric, n_jobs=-1, verbose=1)\n",
    "  return model_cv\n",
    "\n",
    "def print_result(model_cv):\n",
    "  print('KNN SMOTE CV Precision score',model_cv)\n",
    "  print('KNN SMOTE CV Precision score mean',model_cv.mean())\n",
    "  print('KNN SMOTE CV Precision score std',model_cv.std())"
   ]
  },
  {
   "cell_type": "code",
   "execution_count": 232,
   "metadata": {},
   "outputs": [
    {
     "name": "stderr",
     "output_type": "stream",
     "text": [
      "[Parallel(n_jobs=-1)]: Using backend LokyBackend with 8 concurrent workers.\n",
      "[Parallel(n_jobs=-1)]: Done   2 out of   5 | elapsed:   15.6s remaining:   23.5s\n"
     ]
    },
    {
     "name": "stdout",
     "output_type": "stream",
     "text": [
      "KNN SMOTE CV Precision score [0.25052338 0.24552957 0.251235   0.24656638 0.2452334 ]\n",
      "KNN SMOTE CV Precision score mean 0.24781754739698392\n",
      "KNN SMOTE CV Precision score std 0.0025486695152911317\n"
     ]
    },
    {
     "name": "stderr",
     "output_type": "stream",
     "text": [
      "[Parallel(n_jobs=-1)]: Done   5 out of   5 | elapsed:   16.1s finished\n"
     ]
    }
   ],
   "source": [
    "knn_smote_model_cv = model_evaluation_cv(knn_smote, metric)\n",
    "print_result(knn_smote_model_cv)"
   ]
  },
  {
   "cell_type": "code",
   "execution_count": 233,
   "metadata": {},
   "outputs": [
    {
     "data": {
      "text/plain": [
       "Pipeline(steps=[('preprocessor_1',\n",
       "                 ColumnTransformer(transformers=[('num',\n",
       "                                                  Pipeline(steps=[('scaler',\n",
       "                                                                   MinMaxScaler())]),\n",
       "                                                  ['emp.var.rate', 'euribor3m',\n",
       "                                                   'nr.employed',\n",
       "                                                   'cons.price.idx',\n",
       "                                                   'cons.conf.idx', 'age',\n",
       "                                                   'campaign', 'pdays',\n",
       "                                                   'previous']),\n",
       "                                                 ('cat',\n",
       "                                                  Pipeline(steps=[('onehot',\n",
       "                                                                   OneHotEncoder(handle_unknown='ignore'))]),\n",
       "                                                  ['marital', 'housing', 'loan',\n",
       "                                                   'poutcome', 'job',\n",
       "                                                   'education', 'month'])])),\n",
       "                ('balancing', SMOTE()), ('knn', KNeighborsClassifier())])"
      ]
     },
     "execution_count": 233,
     "metadata": {},
     "output_type": "execute_result"
    }
   ],
   "source": [
    "knn_smote.fit(X_train, y_train)"
   ]
  },
  {
   "cell_type": "code",
   "execution_count": 234,
   "metadata": {},
   "outputs": [
    {
     "name": "stdout",
     "output_type": "stream",
     "text": [
      "              precision    recall  f1-score   support\n",
      "\n",
      "           0       0.94      0.80      0.86      6797\n",
      "           1       0.26      0.56      0.36       852\n",
      "\n",
      "    accuracy                           0.77      7649\n",
      "   macro avg       0.60      0.68      0.61      7649\n",
      "weighted avg       0.86      0.77      0.81      7649\n",
      "\n"
     ]
    }
   ],
   "source": [
    "y_pred_knn_smote = knn_smote.predict(X_test)\n",
    "print(classification_report(y_test, y_pred_knn_smote))"
   ]
  },
  {
   "cell_type": "markdown",
   "metadata": {},
   "source": [
    "### Random Forest"
   ]
  },
  {
   "cell_type": "code",
   "execution_count": 235,
   "metadata": {},
   "outputs": [],
   "source": [
    "metric = 'precision'\n",
    "def model_evaluation_cv(ranfor_smote, metric):\n",
    "  skfold = StratifiedKFold(n_splits = 5)\n",
    "  model_cv = cross_val_score(ranfor_smote, X_train, y_train, cv = skfold, scoring = metric, n_jobs=-1, verbose=1)\n",
    "  return model_cv\n",
    "\n",
    "def print_result(model_cv):\n",
    "  print('Ranfor SMOTE CV Precision score',model_cv)\n",
    "  print('Ranfor SMOTE CV Precision score mean',model_cv.mean())\n",
    "  print('Ranfor SMOTE CV Precision score std',model_cv.std())"
   ]
  },
  {
   "cell_type": "code",
   "execution_count": 236,
   "metadata": {},
   "outputs": [
    {
     "name": "stderr",
     "output_type": "stream",
     "text": [
      "[Parallel(n_jobs=-1)]: Using backend LokyBackend with 8 concurrent workers.\n",
      "[Parallel(n_jobs=-1)]: Done   2 out of   5 | elapsed:  1.1min remaining:  1.6min\n"
     ]
    },
    {
     "name": "stdout",
     "output_type": "stream",
     "text": [
      "Ranfor SMOTE CV Precision score [0.28851541 0.27403846 0.28920308 0.30131004 0.32711621]\n",
      "Ranfor SMOTE CV Precision score mean 0.29603664170810956\n",
      "Ranfor SMOTE CV Precision score std 0.01778164724249782\n"
     ]
    },
    {
     "name": "stderr",
     "output_type": "stream",
     "text": [
      "[Parallel(n_jobs=-1)]: Done   5 out of   5 | elapsed:  1.1min finished\n"
     ]
    }
   ],
   "source": [
    "ranfor_smote_model_cv = model_evaluation_cv(ranfor_smote, metric)\n",
    "print_result(ranfor_smote_model_cv)"
   ]
  },
  {
   "cell_type": "code",
   "execution_count": 237,
   "metadata": {},
   "outputs": [
    {
     "data": {
      "text/plain": [
       "Pipeline(steps=[('preprocessor_2',\n",
       "                 ColumnTransformer(transformers=[('cat',\n",
       "                                                  Pipeline(steps=[('onehot',\n",
       "                                                                   OneHotEncoder(handle_unknown='ignore'))]),\n",
       "                                                  ['marital', 'housing', 'loan',\n",
       "                                                   'poutcome', 'job',\n",
       "                                                   'education', 'month'])])),\n",
       "                ('balancing', SMOTE()),\n",
       "                ('ranfor', RandomForestClassifier(random_state=2020))])"
      ]
     },
     "execution_count": 237,
     "metadata": {},
     "output_type": "execute_result"
    }
   ],
   "source": [
    "ranfor_smote.fit(X_train, y_train)"
   ]
  },
  {
   "cell_type": "code",
   "execution_count": 238,
   "metadata": {},
   "outputs": [
    {
     "name": "stdout",
     "output_type": "stream",
     "text": [
      "              precision    recall  f1-score   support\n",
      "\n",
      "           0       0.92      0.91      0.91      6797\n",
      "           1       0.33      0.34      0.33       852\n",
      "\n",
      "    accuracy                           0.85      7649\n",
      "   macro avg       0.62      0.62      0.62      7649\n",
      "weighted avg       0.85      0.85      0.85      7649\n",
      "\n"
     ]
    }
   ],
   "source": [
    "y_pred_ranfor_smote = ranfor_smote.predict(X_test)\n",
    "print(classification_report(y_test, y_pred_ranfor_smote))"
   ]
  },
  {
   "cell_type": "markdown",
   "metadata": {},
   "source": [
    "### Decision Tree"
   ]
  },
  {
   "cell_type": "code",
   "execution_count": 239,
   "metadata": {},
   "outputs": [],
   "source": [
    "metric = 'precision'\n",
    "def model_evaluation_cv(dtree_smote, metric):\n",
    "  skfold = StratifiedKFold(n_splits = 5)\n",
    "  model_cv = cross_val_score(dtree_smote, X_train, y_train, cv = skfold, scoring = metric, n_jobs=-1, verbose=1)\n",
    "  return model_cv\n",
    "\n",
    "def print_result(model_cv):\n",
    "  print('DTree SMOTE CV Precision score',model_cv)\n",
    "  print('DTree SMOTE CV Precision score mean',model_cv.mean())\n",
    "  print('DTree SMOTE CV Precision score std',model_cv.std())"
   ]
  },
  {
   "cell_type": "code",
   "execution_count": 240,
   "metadata": {},
   "outputs": [
    {
     "name": "stderr",
     "output_type": "stream",
     "text": [
      "[Parallel(n_jobs=-1)]: Using backend LokyBackend with 8 concurrent workers.\n",
      "[Parallel(n_jobs=-1)]: Done   2 out of   5 | elapsed:    2.3s remaining:    3.5s\n",
      "[Parallel(n_jobs=-1)]: Done   5 out of   5 | elapsed:    2.5s finished\n"
     ]
    },
    {
     "name": "stdout",
     "output_type": "stream",
     "text": [
      "DTree SMOTE CV Precision score [0.29583975 0.26459144 0.3171521  0.27424242 0.28216374]\n",
      "DTree SMOTE CV Precision score mean 0.2867978927295883\n",
      "DTree SMOTE CV Precision score std 0.018305054235916222\n"
     ]
    }
   ],
   "source": [
    "dtree_smote_model_cv = model_evaluation_cv(dtree_smote, metric)\n",
    "print_result(dtree_smote_model_cv)"
   ]
  },
  {
   "cell_type": "code",
   "execution_count": 241,
   "metadata": {},
   "outputs": [
    {
     "data": {
      "text/plain": [
       "Pipeline(steps=[('preprocessor_2',\n",
       "                 ColumnTransformer(transformers=[('cat',\n",
       "                                                  Pipeline(steps=[('onehot',\n",
       "                                                                   OneHotEncoder(handle_unknown='ignore'))]),\n",
       "                                                  ['marital', 'housing', 'loan',\n",
       "                                                   'poutcome', 'job',\n",
       "                                                   'education', 'month'])])),\n",
       "                ('balancing', SMOTE()),\n",
       "                ('dtree', DecisionTreeClassifier(random_state=2020))])"
      ]
     },
     "execution_count": 241,
     "metadata": {},
     "output_type": "execute_result"
    }
   ],
   "source": [
    "dtree_smote.fit(X_train, y_train)"
   ]
  },
  {
   "cell_type": "code",
   "execution_count": 242,
   "metadata": {},
   "outputs": [
    {
     "name": "stdout",
     "output_type": "stream",
     "text": [
      "              precision    recall  f1-score   support\n",
      "\n",
      "           0       0.91      0.91      0.91      6797\n",
      "           1       0.28      0.29      0.28       852\n",
      "\n",
      "    accuracy                           0.84      7649\n",
      "   macro avg       0.59      0.60      0.59      7649\n",
      "weighted avg       0.84      0.84      0.84      7649\n",
      "\n"
     ]
    }
   ],
   "source": [
    "y_pred_dtree_smote = dtree_smote.predict(X_test)\n",
    "print(classification_report(y_test, y_pred_dtree_smote))"
   ]
  },
  {
   "cell_type": "code",
   "execution_count": null,
   "metadata": {},
   "outputs": [],
   "source": []
  },
  {
   "cell_type": "code",
   "execution_count": 246,
   "metadata": {},
   "outputs": [
    {
     "name": "stdout",
     "output_type": "stream",
     "text": [
      "SMOTE Cross Val Precision Score\n"
     ]
    },
    {
     "data": {
      "text/html": [
       "<div>\n",
       "<style scoped>\n",
       "    .dataframe tbody tr th:only-of-type {\n",
       "        vertical-align: middle;\n",
       "    }\n",
       "\n",
       "    .dataframe tbody tr th {\n",
       "        vertical-align: top;\n",
       "    }\n",
       "\n",
       "    .dataframe thead th {\n",
       "        text-align: right;\n",
       "    }\n",
       "</style>\n",
       "<table border=\"1\" class=\"dataframe\">\n",
       "  <thead>\n",
       "    <tr style=\"text-align: right;\">\n",
       "      <th></th>\n",
       "      <th>SMOTE Logistic Regression</th>\n",
       "      <th>SMOTE KNN</th>\n",
       "      <th>SMOTE Random Forest</th>\n",
       "      <th>SMOTE Decision Tree</th>\n",
       "    </tr>\n",
       "  </thead>\n",
       "  <tbody>\n",
       "    <tr>\n",
       "      <th>0</th>\n",
       "      <td>0.337673</td>\n",
       "      <td>0.250523</td>\n",
       "      <td>0.288515</td>\n",
       "      <td>0.295840</td>\n",
       "    </tr>\n",
       "    <tr>\n",
       "      <th>1</th>\n",
       "      <td>0.318486</td>\n",
       "      <td>0.245530</td>\n",
       "      <td>0.274038</td>\n",
       "      <td>0.264591</td>\n",
       "    </tr>\n",
       "    <tr>\n",
       "      <th>2</th>\n",
       "      <td>0.336269</td>\n",
       "      <td>0.251235</td>\n",
       "      <td>0.289203</td>\n",
       "      <td>0.317152</td>\n",
       "    </tr>\n",
       "    <tr>\n",
       "      <th>3</th>\n",
       "      <td>0.300358</td>\n",
       "      <td>0.246566</td>\n",
       "      <td>0.301310</td>\n",
       "      <td>0.274242</td>\n",
       "    </tr>\n",
       "    <tr>\n",
       "      <th>4</th>\n",
       "      <td>0.337113</td>\n",
       "      <td>0.245233</td>\n",
       "      <td>0.327116</td>\n",
       "      <td>0.282164</td>\n",
       "    </tr>\n",
       "  </tbody>\n",
       "</table>\n",
       "</div>"
      ],
      "text/plain": [
       "   SMOTE Logistic Regression  SMOTE KNN  SMOTE Random Forest  \\\n",
       "0                   0.337673   0.250523             0.288515   \n",
       "1                   0.318486   0.245530             0.274038   \n",
       "2                   0.336269   0.251235             0.289203   \n",
       "3                   0.300358   0.246566             0.301310   \n",
       "4                   0.337113   0.245233             0.327116   \n",
       "\n",
       "   SMOTE Decision Tree  \n",
       "0             0.295840  \n",
       "1             0.264591  \n",
       "2             0.317152  \n",
       "3             0.274242  \n",
       "4             0.282164  "
      ]
     },
     "execution_count": 246,
     "metadata": {},
     "output_type": "execute_result"
    }
   ],
   "source": [
    "cv_smote_df = pd.DataFrame(data=[logreg_smote_model_cv, knn_smote_model_cv, ranfor_smote_model_cv, dtree_smote_model_cv], index = ['SMOTE Logistic Regression', 'SMOTE KNN', 'SMOTE Random Forest', 'SMOTE Decision Tree'])\n",
    "cv_smote_df = cv_smote_df.transpose()\n",
    "print(\"SMOTE Cross Val Precision Score\")\n",
    "cv_smote_df"
   ]
  },
  {
   "cell_type": "code",
   "execution_count": 244,
   "metadata": {},
   "outputs": [
    {
     "name": "stdout",
     "output_type": "stream",
     "text": [
      "SMOTE Cross Val Precision Score\n"
     ]
    },
    {
     "data": {
      "text/html": [
       "<div>\n",
       "<style scoped>\n",
       "    .dataframe tbody tr th:only-of-type {\n",
       "        vertical-align: middle;\n",
       "    }\n",
       "\n",
       "    .dataframe tbody tr th {\n",
       "        vertical-align: top;\n",
       "    }\n",
       "\n",
       "    .dataframe thead th {\n",
       "        text-align: right;\n",
       "    }\n",
       "</style>\n",
       "<table border=\"1\" class=\"dataframe\">\n",
       "  <thead>\n",
       "    <tr style=\"text-align: right;\">\n",
       "      <th></th>\n",
       "      <th>mean</th>\n",
       "      <th>std</th>\n",
       "    </tr>\n",
       "  </thead>\n",
       "  <tbody>\n",
       "    <tr>\n",
       "      <th>SMOTE Logistic Regression</th>\n",
       "      <td>0.325980</td>\n",
       "      <td>0.016425</td>\n",
       "    </tr>\n",
       "    <tr>\n",
       "      <th>SMOTE KNN</th>\n",
       "      <td>0.247818</td>\n",
       "      <td>0.002849</td>\n",
       "    </tr>\n",
       "    <tr>\n",
       "      <th>SMOTE Random Forest</th>\n",
       "      <td>0.296037</td>\n",
       "      <td>0.019880</td>\n",
       "    </tr>\n",
       "    <tr>\n",
       "      <th>SMOTE Decision Tree</th>\n",
       "      <td>0.286798</td>\n",
       "      <td>0.020466</td>\n",
       "    </tr>\n",
       "  </tbody>\n",
       "</table>\n",
       "</div>"
      ],
      "text/plain": [
       "                               mean       std\n",
       "SMOTE Logistic Regression  0.325980  0.016425\n",
       "SMOTE KNN                  0.247818  0.002849\n",
       "SMOTE Random Forest        0.296037  0.019880\n",
       "SMOTE Decision Tree        0.286798  0.020466"
      ]
     },
     "execution_count": 244,
     "metadata": {},
     "output_type": "execute_result"
    }
   ],
   "source": [
    "print(\"SMOTE Cross Val Precision Score\")\n",
    "cv_smote_df_t = cv_smote_df.describe().loc[['mean','std']].transpose()\n",
    "cv_smote_df_t"
   ]
  },
  {
   "cell_type": "code",
   "execution_count": 248,
   "metadata": {},
   "outputs": [
    {
     "data": {
      "image/png": "[encoded data removed]",
      "text/plain": [
       "<Figure size 1008x360 with 1 Axes>"
      ]
     },
     "metadata": {},
     "output_type": "display_data"
    }
   ],
   "source": [
    "# multiple line plots\n",
    "plt.figure(figsize=(14,5))\n",
    "plt.plot( cv_smote_df['SMOTE Logistic Regression'], marker='o', markerfacecolor='blue', markersize=8, color='blue', linewidth=2)\n",
    "plt.plot( cv_smote_df['SMOTE KNN'], marker='o', markerfacecolor='red', markersize=8, color='red', linewidth=2)\n",
    "plt.plot( cv_smote_df['SMOTE Random Forest'], marker='o', markerfacecolor='black', markersize=8, color='black', linewidth=2)\n",
    "plt.plot( cv_smote_df['SMOTE Decision Tree'], marker='o', markerfacecolor='green', markersize=8, color='green', linewidth=2)\n",
    "# show legend\n",
    "plt.title('SMOTE Cross Val Precision Score', size=20)\n",
    "plt.legend(['Logistic Regression', 'KNN', 'Random Forest', 'Decision Tree'])\n",
    "plt.ylim(0,1)\n",
    "# show graph\n",
    "plt.show()"
   ]
  },
  {
   "cell_type": "code",
   "execution_count": 249,
   "metadata": {},
   "outputs": [],
   "source": [
    "metric_smote = pd.DataFrame(index = ['SMOTE Logistic Regression', 'SMOTE KNN',\n",
    "                                             'SMOTE Random Forest',\n",
    "                                             'SMOTE Decision Tree']) \n",
    "f1 = []\n",
    "prec = []\n",
    "recall = []\n",
    "acc = []"
   ]
  },
  {
   "cell_type": "code",
   "execution_count": 250,
   "metadata": {},
   "outputs": [],
   "source": [
    "def evaluationMetrics(y_test, y_pred):\n",
    "    f1.append(f1_score(y_test,y_pred))\n",
    "    prec.append(precision_score(y_test, y_pred))\n",
    "    recall.append(recall_score(y_test, y_pred))\n",
    "    acc.append(accuracy_score(y_test, y_pred))"
   ]
  },
  {
   "cell_type": "code",
   "execution_count": 251,
   "metadata": {},
   "outputs": [],
   "source": [
    "evaluationMetrics(y_test, y_pred_logreg_smote)\n",
    "evaluationMetrics(y_test, y_pred_knn_smote)\n",
    "evaluationMetrics(y_test, y_pred_ranfor_smote)\n",
    "evaluationMetrics(y_test, y_pred_dtree_smote)"
   ]
  },
  {
   "cell_type": "code",
   "execution_count": 252,
   "metadata": {},
   "outputs": [],
   "source": [
    "metric_smote['F1-Score'] = f1\n",
    "metric_smote['Recall'] = recall\n",
    "metric_smote['Precision'] = prec\n",
    "metric_smote['Accuracy'] = acc"
   ]
  },
  {
   "cell_type": "code",
   "execution_count": 253,
   "metadata": {},
   "outputs": [
    {
     "data": {
      "text/html": [
       "<div>\n",
       "<style scoped>\n",
       "    .dataframe tbody tr th:only-of-type {\n",
       "        vertical-align: middle;\n",
       "    }\n",
       "\n",
       "    .dataframe tbody tr th {\n",
       "        vertical-align: top;\n",
       "    }\n",
       "\n",
       "    .dataframe thead th {\n",
       "        text-align: right;\n",
       "    }\n",
       "</style>\n",
       "<table border=\"1\" class=\"dataframe\">\n",
       "  <thead>\n",
       "    <tr style=\"text-align: right;\">\n",
       "      <th></th>\n",
       "      <th>F1-Score</th>\n",
       "      <th>Recall</th>\n",
       "      <th>Precision</th>\n",
       "      <th>Accuracy</th>\n",
       "    </tr>\n",
       "  </thead>\n",
       "  <tbody>\n",
       "    <tr>\n",
       "      <th>SMOTE Logistic Regression</th>\n",
       "      <td>0.452579</td>\n",
       "      <td>0.638498</td>\n",
       "      <td>0.350515</td>\n",
       "      <td>0.827951</td>\n",
       "    </tr>\n",
       "    <tr>\n",
       "      <th>SMOTE KNN</th>\n",
       "      <td>0.357143</td>\n",
       "      <td>0.563380</td>\n",
       "      <td>0.261438</td>\n",
       "      <td>0.774088</td>\n",
       "    </tr>\n",
       "    <tr>\n",
       "      <th>SMOTE Random Forest</th>\n",
       "      <td>0.330636</td>\n",
       "      <td>0.335681</td>\n",
       "      <td>0.325740</td>\n",
       "      <td>0.848608</td>\n",
       "    </tr>\n",
       "    <tr>\n",
       "      <th>SMOTE Decision Tree</th>\n",
       "      <td>0.281933</td>\n",
       "      <td>0.287559</td>\n",
       "      <td>0.276524</td>\n",
       "      <td>0.836841</td>\n",
       "    </tr>\n",
       "  </tbody>\n",
       "</table>\n",
       "</div>"
      ],
      "text/plain": [
       "                           F1-Score    Recall  Precision  Accuracy\n",
       "SMOTE Logistic Regression  0.452579  0.638498   0.350515  0.827951\n",
       "SMOTE KNN                  0.357143  0.563380   0.261438  0.774088\n",
       "SMOTE Random Forest        0.330636  0.335681   0.325740  0.848608\n",
       "SMOTE Decision Tree        0.281933  0.287559   0.276524  0.836841"
      ]
     },
     "execution_count": 253,
     "metadata": {},
     "output_type": "execute_result"
    }
   ],
   "source": [
    "metric_smote"
   ]
  },
  {
   "cell_type": "markdown",
   "metadata": {},
   "source": [
    "# "
   ]
  },
  {
   "cell_type": "markdown",
   "metadata": {},
   "source": [
    "<a id=\"1\"></a>\n",
    "<h1 style=\"color:White; background-color:#0b6b6e; font-size:250%; text-align:left; border-radius: 10px; padding-top: 10px; padding-bottom: 10px\">6. Resampling Model (RUS)</h1>"
   ]
  },
  {
   "cell_type": "code",
   "execution_count": 254,
   "metadata": {},
   "outputs": [],
   "source": [
    "rus = RandomUnderSampler()"
   ]
  },
  {
   "cell_type": "code",
   "execution_count": 255,
   "metadata": {},
   "outputs": [],
   "source": [
    "logreg_rus = Pipeline(steps=[('preprocessor_1_poly', preprocessor_1),\n",
    "                               ('balancing', rus),\n",
    "                               ('logreg', LogisticRegression(random_state = 2020))])\n",
    "\n",
    "knn_rus = Pipeline(steps=[('preprocessor_1_poly', preprocessor_1),\n",
    "                               ('balancing', rus),\n",
    "                               ('knn', KNeighborsClassifier())])\n",
    "\n",
    "ranfor_rus = Pipeline(steps=[('preprocessor_2', preprocessor_2),\n",
    "                               ('balancing', rus),\n",
    "                               ('ranfor', RandomForestClassifier(random_state = 2020))])\n",
    "\n",
    "dtree_rus = Pipeline(steps=[('preprocessor_2', preprocessor_2),\n",
    "                              ('balancing', rus),\n",
    "                              ('dtree', DecisionTreeClassifier(random_state = 2020))])"
   ]
  },
  {
   "cell_type": "markdown",
   "metadata": {},
   "source": [
    "### Logistic Regression"
   ]
  },
  {
   "cell_type": "code",
   "execution_count": 256,
   "metadata": {},
   "outputs": [],
   "source": [
    "metric = 'precision'\n",
    "def model_evaluation_cv(logreg_rus, metric):\n",
    "  skfold = StratifiedKFold(n_splits = 5)\n",
    "  model_cv = cross_val_score(logreg_rus, X_train, y_train, cv = skfold, scoring = metric, n_jobs=-1, verbose=1)\n",
    "  return model_cv\n",
    "\n",
    "def print_result(model_cv):\n",
    "  print('Logreg RUS CV Precision score',model_cv)\n",
    "  print('Logreg RUS CV Precision score mean',model_cv.mean())\n",
    "  print('Logreg RUS CV Precision score std',model_cv.std())"
   ]
  },
  {
   "cell_type": "code",
   "execution_count": 257,
   "metadata": {},
   "outputs": [
    {
     "name": "stderr",
     "output_type": "stream",
     "text": [
      "[Parallel(n_jobs=-1)]: Using backend LokyBackend with 8 concurrent workers.\n"
     ]
    },
    {
     "name": "stdout",
     "output_type": "stream",
     "text": [
      "Logreg RUS CV Precision score [0.34223706 0.33568627 0.33877551 0.31264194 0.35760518]\n",
      "Logreg RUS CV Precision score mean 0.3373891924805686\n",
      "Logreg RUS CV Precision score std 0.014487486471761532\n"
     ]
    },
    {
     "name": "stderr",
     "output_type": "stream",
     "text": [
      "[Parallel(n_jobs=-1)]: Done   2 out of   5 | elapsed:    4.5s remaining:    6.8s\n",
      "[Parallel(n_jobs=-1)]: Done   5 out of   5 | elapsed:    4.6s finished\n"
     ]
    }
   ],
   "source": [
    "logreg_rus_model_cv = model_evaluation_cv(logreg_rus, metric)\n",
    "print_result(logreg_rus_model_cv)"
   ]
  },
  {
   "cell_type": "code",
   "execution_count": 258,
   "metadata": {},
   "outputs": [
    {
     "data": {
      "text/plain": [
       "Pipeline(steps=[('preprocessor_1_poly',\n",
       "                 ColumnTransformer(transformers=[('num',\n",
       "                                                  Pipeline(steps=[('scaler',\n",
       "                                                                   MinMaxScaler())]),\n",
       "                                                  ['emp.var.rate', 'euribor3m',\n",
       "                                                   'nr.employed',\n",
       "                                                   'cons.price.idx',\n",
       "                                                   'cons.conf.idx', 'age',\n",
       "                                                   'campaign', 'pdays',\n",
       "                                                   'previous']),\n",
       "                                                 ('cat',\n",
       "                                                  Pipeline(steps=[('onehot',\n",
       "                                                                   OneHotEncoder(handle_unknown='ignore'))]),\n",
       "                                                  ['marital', 'housing', 'loan',\n",
       "                                                   'poutcome', 'job',\n",
       "                                                   'education', 'month'])])),\n",
       "                ('balancing', RandomUnderSampler()),\n",
       "                ('logreg', LogisticRegression(random_state=2020))])"
      ]
     },
     "execution_count": 258,
     "metadata": {},
     "output_type": "execute_result"
    }
   ],
   "source": [
    "logreg_rus.fit(X_train, y_train)"
   ]
  },
  {
   "cell_type": "code",
   "execution_count": 259,
   "metadata": {},
   "outputs": [
    {
     "name": "stdout",
     "output_type": "stream",
     "text": [
      "              precision    recall  f1-score   support\n",
      "\n",
      "           0       0.95      0.86      0.90      6797\n",
      "           1       0.36      0.63      0.45       852\n",
      "\n",
      "    accuracy                           0.83      7649\n",
      "   macro avg       0.65      0.74      0.68      7649\n",
      "weighted avg       0.88      0.83      0.85      7649\n",
      "\n"
     ]
    }
   ],
   "source": [
    "y_pred_logreg_rus = logreg_rus.predict(X_test)\n",
    "print(classification_report(y_test, y_pred_logreg_rus))"
   ]
  },
  {
   "cell_type": "markdown",
   "metadata": {},
   "source": [
    "### KNN"
   ]
  },
  {
   "cell_type": "code",
   "execution_count": 260,
   "metadata": {},
   "outputs": [],
   "source": [
    "metric = 'precision'\n",
    "def model_evaluation_cv(knn_rus_smote, metric):\n",
    "  skfold = StratifiedKFold(n_splits = 5)\n",
    "  model_cv = cross_val_score(knn_rus, X_train, y_train, cv = skfold, scoring = metric, n_jobs=-1, verbose=1)\n",
    "  return model_cv\n",
    "\n",
    "def print_result(model_cv):\n",
    "  print('KNN RUS CV Precision score',model_cv)\n",
    "  print('KNN RUS CV Precision score mean',model_cv.mean())\n",
    "  print('KNN RUS CV Precision score std',model_cv.std())"
   ]
  },
  {
   "cell_type": "code",
   "execution_count": 261,
   "metadata": {},
   "outputs": [
    {
     "name": "stderr",
     "output_type": "stream",
     "text": [
      "[Parallel(n_jobs=-1)]: Using backend LokyBackend with 8 concurrent workers.\n",
      "[Parallel(n_jobs=-1)]: Done   2 out of   5 | elapsed:    1.8s remaining:    2.8s\n"
     ]
    },
    {
     "name": "stdout",
     "output_type": "stream",
     "text": [
      "KNN RUS CV Precision score [0.23149606 0.22093023 0.22702991 0.23237885 0.22942387]\n",
      "KNN RUS CV Precision score mean 0.22825178660369758\n",
      "KNN RUS CV Precision score std 0.0040995102215007784\n"
     ]
    },
    {
     "name": "stderr",
     "output_type": "stream",
     "text": [
      "[Parallel(n_jobs=-1)]: Done   5 out of   5 | elapsed:    4.3s finished\n"
     ]
    }
   ],
   "source": [
    "knn_rus_model_cv = model_evaluation_cv(knn_rus, metric)\n",
    "print_result(knn_rus_model_cv)"
   ]
  },
  {
   "cell_type": "code",
   "execution_count": 262,
   "metadata": {},
   "outputs": [
    {
     "data": {
      "text/plain": [
       "Pipeline(steps=[('preprocessor_1_poly',\n",
       "                 ColumnTransformer(transformers=[('num',\n",
       "                                                  Pipeline(steps=[('scaler',\n",
       "                                                                   MinMaxScaler())]),\n",
       "                                                  ['emp.var.rate', 'euribor3m',\n",
       "                                                   'nr.employed',\n",
       "                                                   'cons.price.idx',\n",
       "                                                   'cons.conf.idx', 'age',\n",
       "                                                   'campaign', 'pdays',\n",
       "                                                   'previous']),\n",
       "                                                 ('cat',\n",
       "                                                  Pipeline(steps=[('onehot',\n",
       "                                                                   OneHotEncoder(handle_unknown='ignore'))]),\n",
       "                                                  ['marital', 'housing', 'loan',\n",
       "                                                   'poutcome', 'job',\n",
       "                                                   'education', 'month'])])),\n",
       "                ('balancing', RandomUnderSampler()),\n",
       "                ('knn', KNeighborsClassifier())])"
      ]
     },
     "execution_count": 262,
     "metadata": {},
     "output_type": "execute_result"
    }
   ],
   "source": [
    "knn_rus.fit(X_train, y_train)"
   ]
  },
  {
   "cell_type": "code",
   "execution_count": 263,
   "metadata": {},
   "outputs": [
    {
     "name": "stdout",
     "output_type": "stream",
     "text": [
      "              precision    recall  f1-score   support\n",
      "\n",
      "           0       0.94      0.72      0.82      6797\n",
      "           1       0.23      0.66      0.34       852\n",
      "\n",
      "    accuracy                           0.71      7649\n",
      "   macro avg       0.59      0.69      0.58      7649\n",
      "weighted avg       0.86      0.71      0.76      7649\n",
      "\n"
     ]
    }
   ],
   "source": [
    "y_pred_knn_rus = knn_rus.predict(X_test)\n",
    "print(classification_report(y_test, y_pred_knn_rus))"
   ]
  },
  {
   "cell_type": "markdown",
   "metadata": {},
   "source": [
    "### Random Forest"
   ]
  },
  {
   "cell_type": "code",
   "execution_count": 264,
   "metadata": {},
   "outputs": [],
   "source": [
    "metric = 'precision'\n",
    "def model_evaluation_cv(ranfor_rus, metric):\n",
    "  skfold = StratifiedKFold(n_splits = 5)\n",
    "  model_cv = cross_val_score(ranfor_rus, X_train, y_train, cv = skfold, scoring = metric, n_jobs=-1, verbose=1)\n",
    "  return model_cv\n",
    "\n",
    "def print_result(model_cv):\n",
    "  print('Ranfor RUS CV Precision score',model_cv)\n",
    "  print('Ranfor RUS CV Precision score mean',model_cv.mean())\n",
    "  print('Ranfor RUS CV Precision score std',model_cv.std())"
   ]
  },
  {
   "cell_type": "code",
   "execution_count": 265,
   "metadata": {},
   "outputs": [
    {
     "name": "stderr",
     "output_type": "stream",
     "text": [
      "[Parallel(n_jobs=-1)]: Using backend LokyBackend with 8 concurrent workers.\n"
     ]
    },
    {
     "name": "stdout",
     "output_type": "stream",
     "text": [
      "Ranfor RUS CV Precision score [0.1942446  0.19031477 0.20242302 0.20183955 0.21123717]\n",
      "Ranfor RUS CV Precision score mean 0.20001182247993907\n",
      "Ranfor RUS CV Precision score std 0.00724508792918025\n"
     ]
    },
    {
     "name": "stderr",
     "output_type": "stream",
     "text": [
      "[Parallel(n_jobs=-1)]: Done   2 out of   5 | elapsed:    5.9s remaining:    8.9s\n",
      "[Parallel(n_jobs=-1)]: Done   5 out of   5 | elapsed:    6.0s finished\n"
     ]
    }
   ],
   "source": [
    "ranfor_rus_model_cv = model_evaluation_cv(ranfor_rus, metric)\n",
    "print_result(ranfor_rus_model_cv)"
   ]
  },
  {
   "cell_type": "code",
   "execution_count": 266,
   "metadata": {},
   "outputs": [
    {
     "data": {
      "text/plain": [
       "Pipeline(steps=[('preprocessor_2',\n",
       "                 ColumnTransformer(transformers=[('cat',\n",
       "                                                  Pipeline(steps=[('onehot',\n",
       "                                                                   OneHotEncoder(handle_unknown='ignore'))]),\n",
       "                                                  ['marital', 'housing', 'loan',\n",
       "                                                   'poutcome', 'job',\n",
       "                                                   'education', 'month'])])),\n",
       "                ('balancing', RandomUnderSampler()),\n",
       "                ('ranfor', RandomForestClassifier(random_state=2020))])"
      ]
     },
     "execution_count": 266,
     "metadata": {},
     "output_type": "execute_result"
    }
   ],
   "source": [
    "ranfor_rus.fit(X_train, y_train)"
   ]
  },
  {
   "cell_type": "code",
   "execution_count": 267,
   "metadata": {},
   "outputs": [
    {
     "name": "stdout",
     "output_type": "stream",
     "text": [
      "              precision    recall  f1-score   support\n",
      "\n",
      "           0       0.93      0.75      0.83      6797\n",
      "           1       0.22      0.57      0.32       852\n",
      "\n",
      "    accuracy                           0.73      7649\n",
      "   macro avg       0.58      0.66      0.57      7649\n",
      "weighted avg       0.85      0.73      0.77      7649\n",
      "\n"
     ]
    }
   ],
   "source": [
    "y_pred_ranfor_rus = ranfor_rus.predict(X_test)\n",
    "print(classification_report(y_test, y_pred_ranfor_rus))"
   ]
  },
  {
   "cell_type": "markdown",
   "metadata": {},
   "source": [
    "### Decision Tree"
   ]
  },
  {
   "cell_type": "code",
   "execution_count": 268,
   "metadata": {},
   "outputs": [],
   "source": [
    "metric = 'precision'\n",
    "def model_evaluation_cv(dtree_rus, metric):\n",
    "  skfold = StratifiedKFold(n_splits = 5)\n",
    "  model_cv = cross_val_score(dtree_rus, X_train, y_train, cv = skfold, scoring = metric, n_jobs=-1, verbose=1)\n",
    "  return model_cv\n",
    "\n",
    "def print_result(model_cv):\n",
    "  print('DTree RUS CV Precision score',model_cv)\n",
    "  print('DTree RUS CV Precision score mean',model_cv.mean())\n",
    "  print('DTree RUS CV Precision score std',model_cv.std())"
   ]
  },
  {
   "cell_type": "code",
   "execution_count": 269,
   "metadata": {},
   "outputs": [
    {
     "name": "stderr",
     "output_type": "stream",
     "text": [
      "[Parallel(n_jobs=-1)]: Using backend LokyBackend with 8 concurrent workers.\n"
     ]
    },
    {
     "name": "stdout",
     "output_type": "stream",
     "text": [
      "DTree RUS CV Precision score [0.21643164 0.19037433 0.1946956  0.19822485 0.21587664]\n",
      "DTree RUS CV Precision score mean 0.2031206124664196\n",
      "DTree RUS CV Precision score std 0.010929928165751734\n"
     ]
    },
    {
     "name": "stderr",
     "output_type": "stream",
     "text": [
      "[Parallel(n_jobs=-1)]: Done   2 out of   5 | elapsed:    0.2s remaining:    0.4s\n",
      "[Parallel(n_jobs=-1)]: Done   5 out of   5 | elapsed:    0.3s finished\n"
     ]
    }
   ],
   "source": [
    "dtree_rus_model_cv = model_evaluation_cv(dtree_rus, metric)\n",
    "print_result(dtree_rus_model_cv)"
   ]
  },
  {
   "cell_type": "code",
   "execution_count": 270,
   "metadata": {},
   "outputs": [
    {
     "data": {
      "text/plain": [
       "Pipeline(steps=[('preprocessor_2',\n",
       "                 ColumnTransformer(transformers=[('cat',\n",
       "                                                  Pipeline(steps=[('onehot',\n",
       "                                                                   OneHotEncoder(handle_unknown='ignore'))]),\n",
       "                                                  ['marital', 'housing', 'loan',\n",
       "                                                   'poutcome', 'job',\n",
       "                                                   'education', 'month'])])),\n",
       "                ('balancing', RandomUnderSampler()),\n",
       "                ('dtree', DecisionTreeClassifier(random_state=2020))])"
      ]
     },
     "execution_count": 270,
     "metadata": {},
     "output_type": "execute_result"
    }
   ],
   "source": [
    "dtree_rus.fit(X_train, y_train)"
   ]
  },
  {
   "cell_type": "code",
   "execution_count": 271,
   "metadata": {},
   "outputs": [
    {
     "name": "stdout",
     "output_type": "stream",
     "text": [
      "              precision    recall  f1-score   support\n",
      "\n",
      "           0       0.92      0.77      0.84      6797\n",
      "           1       0.21      0.50      0.30       852\n",
      "\n",
      "    accuracy                           0.74      7649\n",
      "   macro avg       0.57      0.63      0.57      7649\n",
      "weighted avg       0.85      0.74      0.78      7649\n",
      "\n"
     ]
    }
   ],
   "source": [
    "y_pred_dtree_rus = dtree_rus.predict(X_test)\n",
    "print(classification_report(y_test, y_pred_dtree_rus))"
   ]
  },
  {
   "cell_type": "code",
   "execution_count": null,
   "metadata": {},
   "outputs": [],
   "source": []
  },
  {
   "cell_type": "code",
   "execution_count": 272,
   "metadata": {},
   "outputs": [
    {
     "name": "stdout",
     "output_type": "stream",
     "text": [
      "RUS Cross Val Precision Score\n"
     ]
    },
    {
     "data": {
      "text/html": [
       "<div>\n",
       "<style scoped>\n",
       "    .dataframe tbody tr th:only-of-type {\n",
       "        vertical-align: middle;\n",
       "    }\n",
       "\n",
       "    .dataframe tbody tr th {\n",
       "        vertical-align: top;\n",
       "    }\n",
       "\n",
       "    .dataframe thead th {\n",
       "        text-align: right;\n",
       "    }\n",
       "</style>\n",
       "<table border=\"1\" class=\"dataframe\">\n",
       "  <thead>\n",
       "    <tr style=\"text-align: right;\">\n",
       "      <th></th>\n",
       "      <th>RUS Logistic Regression</th>\n",
       "      <th>RUS KNN</th>\n",
       "      <th>RUS Random Forest</th>\n",
       "      <th>RUS Decision Tree</th>\n",
       "    </tr>\n",
       "  </thead>\n",
       "  <tbody>\n",
       "    <tr>\n",
       "      <th>0</th>\n",
       "      <td>0.342237</td>\n",
       "      <td>0.231496</td>\n",
       "      <td>0.194245</td>\n",
       "      <td>0.216432</td>\n",
       "    </tr>\n",
       "    <tr>\n",
       "      <th>1</th>\n",
       "      <td>0.335686</td>\n",
       "      <td>0.220930</td>\n",
       "      <td>0.190315</td>\n",
       "      <td>0.190374</td>\n",
       "    </tr>\n",
       "    <tr>\n",
       "      <th>2</th>\n",
       "      <td>0.338776</td>\n",
       "      <td>0.227030</td>\n",
       "      <td>0.202423</td>\n",
       "      <td>0.194696</td>\n",
       "    </tr>\n",
       "    <tr>\n",
       "      <th>3</th>\n",
       "      <td>0.312642</td>\n",
       "      <td>0.232379</td>\n",
       "      <td>0.201840</td>\n",
       "      <td>0.198225</td>\n",
       "    </tr>\n",
       "    <tr>\n",
       "      <th>4</th>\n",
       "      <td>0.357605</td>\n",
       "      <td>0.229424</td>\n",
       "      <td>0.211237</td>\n",
       "      <td>0.215877</td>\n",
       "    </tr>\n",
       "  </tbody>\n",
       "</table>\n",
       "</div>"
      ],
      "text/plain": [
       "   RUS Logistic Regression   RUS KNN  RUS Random Forest  RUS Decision Tree\n",
       "0                 0.342237  0.231496           0.194245           0.216432\n",
       "1                 0.335686  0.220930           0.190315           0.190374\n",
       "2                 0.338776  0.227030           0.202423           0.194696\n",
       "3                 0.312642  0.232379           0.201840           0.198225\n",
       "4                 0.357605  0.229424           0.211237           0.215877"
      ]
     },
     "execution_count": 272,
     "metadata": {},
     "output_type": "execute_result"
    }
   ],
   "source": [
    "cv_rus_df = pd.DataFrame(data=[logreg_rus_model_cv, knn_rus_model_cv, ranfor_rus_model_cv, dtree_rus_model_cv], index = ['RUS Logistic Regression', 'RUS KNN', 'RUS Random Forest', 'RUS Decision Tree'])\n",
    "cv_rus_df = cv_rus_df.transpose()\n",
    "print(\"RUS Cross Val Precision Score\")\n",
    "cv_rus_df"
   ]
  },
  {
   "cell_type": "code",
   "execution_count": 273,
   "metadata": {},
   "outputs": [
    {
     "name": "stdout",
     "output_type": "stream",
     "text": [
      "RUS Cross Val Precision Score\n"
     ]
    },
    {
     "data": {
      "text/html": [
       "<div>\n",
       "<style scoped>\n",
       "    .dataframe tbody tr th:only-of-type {\n",
       "        vertical-align: middle;\n",
       "    }\n",
       "\n",
       "    .dataframe tbody tr th {\n",
       "        vertical-align: top;\n",
       "    }\n",
       "\n",
       "    .dataframe thead th {\n",
       "        text-align: right;\n",
       "    }\n",
       "</style>\n",
       "<table border=\"1\" class=\"dataframe\">\n",
       "  <thead>\n",
       "    <tr style=\"text-align: right;\">\n",
       "      <th></th>\n",
       "      <th>mean</th>\n",
       "      <th>std</th>\n",
       "    </tr>\n",
       "  </thead>\n",
       "  <tbody>\n",
       "    <tr>\n",
       "      <th>RUS Logistic Regression</th>\n",
       "      <td>0.337389</td>\n",
       "      <td>0.016198</td>\n",
       "    </tr>\n",
       "    <tr>\n",
       "      <th>RUS KNN</th>\n",
       "      <td>0.228252</td>\n",
       "      <td>0.004583</td>\n",
       "    </tr>\n",
       "    <tr>\n",
       "      <th>RUS Random Forest</th>\n",
       "      <td>0.200012</td>\n",
       "      <td>0.008100</td>\n",
       "    </tr>\n",
       "    <tr>\n",
       "      <th>RUS Decision Tree</th>\n",
       "      <td>0.203121</td>\n",
       "      <td>0.012220</td>\n",
       "    </tr>\n",
       "  </tbody>\n",
       "</table>\n",
       "</div>"
      ],
      "text/plain": [
       "                             mean       std\n",
       "RUS Logistic Regression  0.337389  0.016198\n",
       "RUS KNN                  0.228252  0.004583\n",
       "RUS Random Forest        0.200012  0.008100\n",
       "RUS Decision Tree        0.203121  0.012220"
      ]
     },
     "execution_count": 273,
     "metadata": {},
     "output_type": "execute_result"
    }
   ],
   "source": [
    "print(\"RUS Cross Val Precision Score\")\n",
    "cv_rus_df_t = cv_rus_df.describe().loc[['mean','std']].transpose()\n",
    "cv_rus_df_t"
   ]
  },
  {
   "cell_type": "code",
   "execution_count": 274,
   "metadata": {},
   "outputs": [
    {
     "data": {
      "image/png": "[encoded data removed]",
      "text/plain": [
       "<Figure size 1008x360 with 1 Axes>"
      ]
     },
     "metadata": {},
     "output_type": "display_data"
    }
   ],
   "source": [
    "# multiple line plots\n",
    "plt.figure(figsize=(14,5))\n",
    "plt.plot( cv_rus_df['RUS Logistic Regression'], marker='o', markerfacecolor='blue', markersize=8, color='blue', linewidth=2)\n",
    "plt.plot( cv_rus_df['RUS KNN'], marker='o', markerfacecolor='red', markersize=8, color='red', linewidth=2)\n",
    "plt.plot( cv_rus_df['RUS Random Forest'], marker='o', markerfacecolor='black', markersize=8, color='black', linewidth=2)\n",
    "plt.plot( cv_rus_df['RUS Decision Tree'], marker='o', markerfacecolor='green', markersize=8, color='green', linewidth=2)\n",
    "# show legend\n",
    "plt.title('RUS Cross Val Precision Score', size=20)\n",
    "plt.legend(['RUS Logistic Regression', 'RUS KNN', 'RUS Random Forest', 'RUS Decision Tree'])\n",
    "plt.ylim(0,1)\n",
    "# show graph\n",
    "plt.show()"
   ]
  },
  {
   "cell_type": "code",
   "execution_count": 275,
   "metadata": {},
   "outputs": [],
   "source": [
    "metric_rus = pd.DataFrame(index = ['RUS Logistic Regression', 'RUS KNN',\n",
    "                                             'RUS Random Forest',\n",
    "                                             'RUS Decision Tree']) \n",
    "f1 = []\n",
    "prec = []\n",
    "recall = []\n",
    "acc = []"
   ]
  },
  {
   "cell_type": "code",
   "execution_count": 276,
   "metadata": {},
   "outputs": [],
   "source": [
    "def evaluationMetrics(y_test, y_pred):\n",
    "    f1.append(f1_score(y_test,y_pred))\n",
    "    prec.append(precision_score(y_test, y_pred))\n",
    "    recall.append(recall_score(y_test, y_pred))\n",
    "    acc.append(accuracy_score(y_test, y_pred))"
   ]
  },
  {
   "cell_type": "code",
   "execution_count": 277,
   "metadata": {},
   "outputs": [],
   "source": [
    "evaluationMetrics(y_test, y_pred_logreg_rus)\n",
    "evaluationMetrics(y_test, y_pred_knn_rus)\n",
    "evaluationMetrics(y_test, y_pred_ranfor_rus)\n",
    "evaluationMetrics(y_test, y_pred_dtree_rus)"
   ]
  },
  {
   "cell_type": "code",
   "execution_count": 278,
   "metadata": {},
   "outputs": [],
   "source": [
    "metric_rus['F1-Score'] = f1\n",
    "metric_rus['Recall'] = recall\n",
    "metric_rus['Precision'] = prec\n",
    "metric_rus['Accuracy'] = acc"
   ]
  },
  {
   "cell_type": "code",
   "execution_count": 279,
   "metadata": {},
   "outputs": [
    {
     "data": {
      "text/html": [
       "<div>\n",
       "<style scoped>\n",
       "    .dataframe tbody tr th:only-of-type {\n",
       "        vertical-align: middle;\n",
       "    }\n",
       "\n",
       "    .dataframe tbody tr th {\n",
       "        vertical-align: top;\n",
       "    }\n",
       "\n",
       "    .dataframe thead th {\n",
       "        text-align: right;\n",
       "    }\n",
       "</style>\n",
       "<table border=\"1\" class=\"dataframe\">\n",
       "  <thead>\n",
       "    <tr style=\"text-align: right;\">\n",
       "      <th></th>\n",
       "      <th>F1-Score</th>\n",
       "      <th>Recall</th>\n",
       "      <th>Precision</th>\n",
       "      <th>Accuracy</th>\n",
       "    </tr>\n",
       "  </thead>\n",
       "  <tbody>\n",
       "    <tr>\n",
       "      <th>RUS Logistic Regression</th>\n",
       "      <td>0.454855</td>\n",
       "      <td>0.626761</td>\n",
       "      <td>0.356952</td>\n",
       "      <td>0.832658</td>\n",
       "    </tr>\n",
       "    <tr>\n",
       "      <th>RUS KNN</th>\n",
       "      <td>0.338350</td>\n",
       "      <td>0.659624</td>\n",
       "      <td>0.227530</td>\n",
       "      <td>0.712642</td>\n",
       "    </tr>\n",
       "    <tr>\n",
       "      <th>RUS Random Forest</th>\n",
       "      <td>0.318405</td>\n",
       "      <td>0.571596</td>\n",
       "      <td>0.220662</td>\n",
       "      <td>0.727415</td>\n",
       "    </tr>\n",
       "    <tr>\n",
       "      <th>RUS Decision Tree</th>\n",
       "      <td>0.298819</td>\n",
       "      <td>0.504695</td>\n",
       "      <td>0.212241</td>\n",
       "      <td>0.736175</td>\n",
       "    </tr>\n",
       "  </tbody>\n",
       "</table>\n",
       "</div>"
      ],
      "text/plain": [
       "                         F1-Score    Recall  Precision  Accuracy\n",
       "RUS Logistic Regression  0.454855  0.626761   0.356952  0.832658\n",
       "RUS KNN                  0.338350  0.659624   0.227530  0.712642\n",
       "RUS Random Forest        0.318405  0.571596   0.220662  0.727415\n",
       "RUS Decision Tree        0.298819  0.504695   0.212241  0.736175"
      ]
     },
     "execution_count": 279,
     "metadata": {},
     "output_type": "execute_result"
    }
   ],
   "source": [
    "metric_rus"
   ]
  },
  {
   "cell_type": "markdown",
   "metadata": {},
   "source": [
    "### Insights\n",
    "1. After 2 differents resampling method we get a decreasing precision score, eventough we have an imbalanced dataset\n",
    "2. Resampling method doesn't work in increasing the precision score in this data\n",
    "3. There are several possibility why resampling doesn't work in this imbalanced data:\n",
    "    a) Our data has properly classified, so that resampling will dissipate the class"
   ]
  },
  {
   "cell_type": "markdown",
   "metadata": {},
   "source": [
    "# "
   ]
  },
  {
   "cell_type": "markdown",
   "metadata": {},
   "source": [
    "<a id=\"1\"></a>\n",
    "<h1 style=\"color:White; background-color:#0b6b6e; font-size:250%; text-align:left; border-radius: 10px; padding-top: 10px; padding-bottom: 10px\">7. Feature Selection Model</h1>"
   ]
  },
  {
   "cell_type": "markdown",
   "metadata": {},
   "source": [
    "## Feature Selection : Select Percentile"
   ]
  },
  {
   "cell_type": "code",
   "execution_count": 280,
   "metadata": {},
   "outputs": [],
   "source": [
    "logreg_select = Pipeline(steps=[('preprocessor_1_select', preprocessor_1),\n",
    "                                ('select', SelectPercentile(percentile=30)),\n",
    "                                ('logreg', LogisticRegression(random_state = 2020))])\n",
    "\n",
    "knn_select = Pipeline(steps=[('preprocessor_1_select', preprocessor_1),\n",
    "                             ('select', SelectPercentile(percentile=30)),\n",
    "                             ('knn', KNeighborsClassifier())])\n",
    "\n",
    "ranfor_select = Pipeline(steps=[('preprocessor_2_select', preprocessor_2),\n",
    "                                ('select', SelectPercentile(percentile=30)),\n",
    "                                ('ranfor', RandomForestClassifier(random_state = 2020))])\n",
    "\n",
    "dtree_select = Pipeline(steps=[('preprocessor_2_select', preprocessor_2),\n",
    "                               ('select', SelectPercentile(percentile=30)),\n",
    "                               ('dtree', DecisionTreeClassifier(random_state = 2020))])"
   ]
  },
  {
   "cell_type": "markdown",
   "metadata": {},
   "source": [
    "### Logistic Regression"
   ]
  },
  {
   "cell_type": "code",
   "execution_count": 281,
   "metadata": {},
   "outputs": [],
   "source": [
    "metric = 'precision'\n",
    "def model_evaluation_cv(logreg_select, metric):\n",
    "  skfold = StratifiedKFold(n_splits = 5)\n",
    "  model_cv = cross_val_score(logreg_select, X_train, y_train, cv = skfold, scoring = metric, n_jobs=-1, verbose=1)\n",
    "  return model_cv\n",
    "\n",
    "def print_result(model_cv):\n",
    "  print('Logreg Select CV Precision score',model_cv)\n",
    "  print('Logreg Select CV Precision score mean',model_cv.mean())\n",
    "  print('Logreg Select CV Precision score std',model_cv.std())"
   ]
  },
  {
   "cell_type": "code",
   "execution_count": 282,
   "metadata": {},
   "outputs": [
    {
     "name": "stderr",
     "output_type": "stream",
     "text": [
      "[Parallel(n_jobs=-1)]: Using backend LokyBackend with 8 concurrent workers.\n"
     ]
    },
    {
     "name": "stdout",
     "output_type": "stream",
     "text": [
      "Logreg Select CV Precision score [0.68556701 0.63636364 0.63157895 0.60504202 0.74489796]\n",
      "Logreg Select CV Precision score mean 0.6606899140063464\n",
      "Logreg Select CV Precision score std 0.04948892687932651\n"
     ]
    },
    {
     "name": "stderr",
     "output_type": "stream",
     "text": [
      "[Parallel(n_jobs=-1)]: Done   2 out of   5 | elapsed:    0.5s remaining:    0.8s\n",
      "[Parallel(n_jobs=-1)]: Done   5 out of   5 | elapsed:    0.6s finished\n"
     ]
    }
   ],
   "source": [
    "logreg_select_model_cv = model_evaluation_cv(logreg_select, metric)\n",
    "print_result(logreg_select_model_cv)"
   ]
  },
  {
   "cell_type": "code",
   "execution_count": 283,
   "metadata": {},
   "outputs": [
    {
     "data": {
      "text/plain": [
       "Pipeline(steps=[('preprocessor_1_select',\n",
       "                 ColumnTransformer(transformers=[('num',\n",
       "                                                  Pipeline(steps=[('scaler',\n",
       "                                                                   MinMaxScaler())]),\n",
       "                                                  ['emp.var.rate', 'euribor3m',\n",
       "                                                   'nr.employed',\n",
       "                                                   'cons.price.idx',\n",
       "                                                   'cons.conf.idx', 'age',\n",
       "                                                   'campaign', 'pdays',\n",
       "                                                   'previous']),\n",
       "                                                 ('cat',\n",
       "                                                  Pipeline(steps=[('onehot',\n",
       "                                                                   OneHotEncoder(handle_unknown='ignore'))]),\n",
       "                                                  ['marital', 'housing', 'loan',\n",
       "                                                   'poutcome', 'job',\n",
       "                                                   'education', 'month'])])),\n",
       "                ('select', SelectPercentile(percentile=30)),\n",
       "                ('logreg', LogisticRegression(random_state=2020))])"
      ]
     },
     "execution_count": 283,
     "metadata": {},
     "output_type": "execute_result"
    }
   ],
   "source": [
    "logreg_select.fit(X_train, y_train)"
   ]
  },
  {
   "cell_type": "code",
   "execution_count": 284,
   "metadata": {},
   "outputs": [
    {
     "name": "stdout",
     "output_type": "stream",
     "text": [
      "              precision    recall  f1-score   support\n",
      "\n",
      "           0       0.91      0.98      0.95      6797\n",
      "           1       0.64      0.21      0.32       852\n",
      "\n",
      "    accuracy                           0.90      7649\n",
      "   macro avg       0.78      0.60      0.63      7649\n",
      "weighted avg       0.88      0.90      0.88      7649\n",
      "\n"
     ]
    }
   ],
   "source": [
    "y_pred_logreg_select = logreg_select.predict(X_test)\n",
    "print(classification_report(y_test, y_pred_logreg_select))"
   ]
  },
  {
   "cell_type": "markdown",
   "metadata": {},
   "source": [
    "### KNN"
   ]
  },
  {
   "cell_type": "code",
   "execution_count": 285,
   "metadata": {},
   "outputs": [],
   "source": [
    "metric = 'precision'\n",
    "def model_evaluation_cv(knn_select, metric):\n",
    "  skfold = StratifiedKFold(n_splits = 5)\n",
    "  model_cv = cross_val_score(knn_select, X_train, y_train, cv = skfold, scoring = metric, n_jobs=-1, verbose=1)\n",
    "  return model_cv\n",
    "\n",
    "def print_result(model_cv):\n",
    "  print('KNN Select CV Precision score',model_cv)\n",
    "  print('KNN Select CV Precision score mean',model_cv.mean())\n",
    "  print('KNN Select CV Precision score std',model_cv.std())"
   ]
  },
  {
   "cell_type": "code",
   "execution_count": 286,
   "metadata": {},
   "outputs": [
    {
     "name": "stderr",
     "output_type": "stream",
     "text": [
      "[Parallel(n_jobs=-1)]: Using backend LokyBackend with 8 concurrent workers.\n",
      "[Parallel(n_jobs=-1)]: Done   2 out of   5 | elapsed:    4.0s remaining:    6.1s\n",
      "[Parallel(n_jobs=-1)]: Done   5 out of   5 | elapsed:    4.2s finished\n"
     ]
    },
    {
     "name": "stdout",
     "output_type": "stream",
     "text": [
      "KNN Select CV Precision score [0.54415954 0.52941176 0.5751634  0.50773994 0.58769231]\n",
      "KNN Select CV Precision score mean 0.548833390666208\n",
      "KNN Select CV Precision score std 0.02929505417863949\n"
     ]
    }
   ],
   "source": [
    "knn_select_model_cv = model_evaluation_cv(knn_select, metric)\n",
    "print_result(knn_select_model_cv)"
   ]
  },
  {
   "cell_type": "code",
   "execution_count": 287,
   "metadata": {},
   "outputs": [
    {
     "data": {
      "text/plain": [
       "Pipeline(steps=[('preprocessor_1_select',\n",
       "                 ColumnTransformer(transformers=[('num',\n",
       "                                                  Pipeline(steps=[('scaler',\n",
       "                                                                   MinMaxScaler())]),\n",
       "                                                  ['emp.var.rate', 'euribor3m',\n",
       "                                                   'nr.employed',\n",
       "                                                   'cons.price.idx',\n",
       "                                                   'cons.conf.idx', 'age',\n",
       "                                                   'campaign', 'pdays',\n",
       "                                                   'previous']),\n",
       "                                                 ('cat',\n",
       "                                                  Pipeline(steps=[('onehot',\n",
       "                                                                   OneHotEncoder(handle_unknown='ignore'))]),\n",
       "                                                  ['marital', 'housing', 'loan',\n",
       "                                                   'poutcome', 'job',\n",
       "                                                   'education', 'month'])])),\n",
       "                ('select', SelectPercentile(percentile=30)),\n",
       "                ('knn', KNeighborsClassifier())])"
      ]
     },
     "execution_count": 287,
     "metadata": {},
     "output_type": "execute_result"
    }
   ],
   "source": [
    "knn_select.fit(X_train, y_train)"
   ]
  },
  {
   "cell_type": "code",
   "execution_count": 288,
   "metadata": {},
   "outputs": [
    {
     "name": "stdout",
     "output_type": "stream",
     "text": [
      "              precision    recall  f1-score   support\n",
      "\n",
      "           0       0.91      0.97      0.94      6797\n",
      "           1       0.53      0.28      0.36       852\n",
      "\n",
      "    accuracy                           0.89      7649\n",
      "   macro avg       0.72      0.62      0.65      7649\n",
      "weighted avg       0.87      0.89      0.88      7649\n",
      "\n"
     ]
    }
   ],
   "source": [
    "y_pred_knn_select = knn_select.predict(X_test)\n",
    "print(classification_report(y_test, y_pred_knn_select))"
   ]
  },
  {
   "cell_type": "markdown",
   "metadata": {},
   "source": [
    "### Random Forest"
   ]
  },
  {
   "cell_type": "code",
   "execution_count": 289,
   "metadata": {},
   "outputs": [],
   "source": [
    "metric = 'precision'\n",
    "def model_evaluation_cv(ranfor_select, metric):\n",
    "  skfold = StratifiedKFold(n_splits = 5)\n",
    "  model_cv = cross_val_score(ranfor_select, X_train, y_train, cv = skfold, scoring = metric, n_jobs=-1, verbose=1)\n",
    "  return model_cv\n",
    "\n",
    "def print_result(model_cv):\n",
    "  print('Ranfor Select CV Precision score',model_cv)\n",
    "  print('Ranfor Select CV Precision score mean',model_cv.mean())\n",
    "  print('Ranfor Select CV Precision score std',model_cv.std())"
   ]
  },
  {
   "cell_type": "code",
   "execution_count": 290,
   "metadata": {},
   "outputs": [
    {
     "name": "stderr",
     "output_type": "stream",
     "text": [
      "[Parallel(n_jobs=-1)]: Using backend LokyBackend with 8 concurrent workers.\n",
      "[Parallel(n_jobs=-1)]: Done   2 out of   5 | elapsed:    2.7s remaining:    4.1s\n"
     ]
    },
    {
     "name": "stdout",
     "output_type": "stream",
     "text": [
      "Ranfor Select CV Precision score [0.63297872 0.56846473 0.61306533 0.57322176 0.62978723]\n",
      "Ranfor Select CV Precision score mean 0.6035035543385213\n",
      "Ranfor Select CV Precision score std 0.02755268161490921\n"
     ]
    },
    {
     "name": "stderr",
     "output_type": "stream",
     "text": [
      "[Parallel(n_jobs=-1)]: Done   5 out of   5 | elapsed:    2.9s finished\n"
     ]
    }
   ],
   "source": [
    "ranfor_select_model_cv = model_evaluation_cv(ranfor_select, metric)\n",
    "print_result(ranfor_select_model_cv)"
   ]
  },
  {
   "cell_type": "code",
   "execution_count": 291,
   "metadata": {},
   "outputs": [
    {
     "data": {
      "text/plain": [
       "Pipeline(steps=[('preprocessor_2_select',\n",
       "                 ColumnTransformer(transformers=[('cat',\n",
       "                                                  Pipeline(steps=[('onehot',\n",
       "                                                                   OneHotEncoder(handle_unknown='ignore'))]),\n",
       "                                                  ['marital', 'housing', 'loan',\n",
       "                                                   'poutcome', 'job',\n",
       "                                                   'education', 'month'])])),\n",
       "                ('select', SelectPercentile(percentile=30)),\n",
       "                ('ranfor', RandomForestClassifier(random_state=2020))])"
      ]
     },
     "execution_count": 291,
     "metadata": {},
     "output_type": "execute_result"
    }
   ],
   "source": [
    "ranfor_select.fit(X_train, y_train)"
   ]
  },
  {
   "cell_type": "code",
   "execution_count": 292,
   "metadata": {},
   "outputs": [
    {
     "name": "stdout",
     "output_type": "stream",
     "text": [
      "              precision    recall  f1-score   support\n",
      "\n",
      "           0       0.91      0.98      0.95      6797\n",
      "           1       0.64      0.24      0.34       852\n",
      "\n",
      "    accuracy                           0.90      7649\n",
      "   macro avg       0.77      0.61      0.64      7649\n",
      "weighted avg       0.88      0.90      0.88      7649\n",
      "\n"
     ]
    }
   ],
   "source": [
    "y_pred_ranfor_select = ranfor_select.predict(X_test)\n",
    "print(classification_report(y_test, y_pred_ranfor_select))"
   ]
  },
  {
   "cell_type": "markdown",
   "metadata": {},
   "source": [
    "### Decision Tree"
   ]
  },
  {
   "cell_type": "code",
   "execution_count": 293,
   "metadata": {},
   "outputs": [],
   "source": [
    "metric = 'precision'\n",
    "def model_evaluation_cv(dtree_select, metric):\n",
    "  skfold = StratifiedKFold(n_splits = 5)\n",
    "  model_cv = cross_val_score(dtree_select, X_train, y_train, cv = skfold, scoring = metric, n_jobs=-1, verbose=1)\n",
    "  return model_cv\n",
    "\n",
    "def print_result(model_cv):\n",
    "  print('DTree Select CV Precision score',model_cv)\n",
    "  print('DTree Select CV Precision score mean',model_cv.mean())\n",
    "  print('DTree Select CV Precision score std',model_cv.std())"
   ]
  },
  {
   "cell_type": "code",
   "execution_count": 294,
   "metadata": {},
   "outputs": [
    {
     "name": "stderr",
     "output_type": "stream",
     "text": [
      "[Parallel(n_jobs=-1)]: Using backend LokyBackend with 8 concurrent workers.\n"
     ]
    },
    {
     "name": "stdout",
     "output_type": "stream",
     "text": [
      "DTree Select CV Precision score [0.63586957 0.57142857 0.62427746 0.58371041 0.63133641]\n",
      "DTree Select CV Precision score mean 0.6093244812126268\n",
      "DTree Select CV Precision score std 0.02647617243927217\n"
     ]
    },
    {
     "name": "stderr",
     "output_type": "stream",
     "text": [
      "[Parallel(n_jobs=-1)]: Done   2 out of   5 | elapsed:    0.1s remaining:    0.3s\n",
      "[Parallel(n_jobs=-1)]: Done   5 out of   5 | elapsed:    0.2s finished\n"
     ]
    }
   ],
   "source": [
    "dtree_select_model_cv = model_evaluation_cv(dtree_select, metric)\n",
    "print_result(dtree_select_model_cv)"
   ]
  },
  {
   "cell_type": "code",
   "execution_count": 295,
   "metadata": {},
   "outputs": [
    {
     "data": {
      "text/plain": [
       "Pipeline(steps=[('preprocessor_2_select',\n",
       "                 ColumnTransformer(transformers=[('cat',\n",
       "                                                  Pipeline(steps=[('onehot',\n",
       "                                                                   OneHotEncoder(handle_unknown='ignore'))]),\n",
       "                                                  ['marital', 'housing', 'loan',\n",
       "                                                   'poutcome', 'job',\n",
       "                                                   'education', 'month'])])),\n",
       "                ('select', SelectPercentile(percentile=30)),\n",
       "                ('dtree', DecisionTreeClassifier(random_state=2020))])"
      ]
     },
     "execution_count": 295,
     "metadata": {},
     "output_type": "execute_result"
    }
   ],
   "source": [
    "dtree_select.fit(X_train, y_train)"
   ]
  },
  {
   "cell_type": "code",
   "execution_count": 296,
   "metadata": {},
   "outputs": [
    {
     "name": "stdout",
     "output_type": "stream",
     "text": [
      "              precision    recall  f1-score   support\n",
      "\n",
      "           0       0.91      0.99      0.95      6797\n",
      "           1       0.65      0.22      0.33       852\n",
      "\n",
      "    accuracy                           0.90      7649\n",
      "   macro avg       0.78      0.60      0.64      7649\n",
      "weighted avg       0.88      0.90      0.88      7649\n",
      "\n"
     ]
    }
   ],
   "source": [
    "y_pred_dtree_select = dtree_select.predict(X_test)\n",
    "print(classification_report(y_test, y_pred_dtree_select))"
   ]
  },
  {
   "cell_type": "code",
   "execution_count": null,
   "metadata": {},
   "outputs": [],
   "source": []
  },
  {
   "cell_type": "code",
   "execution_count": 297,
   "metadata": {},
   "outputs": [
    {
     "name": "stdout",
     "output_type": "stream",
     "text": [
      "Selected Feature Cross Val Precision Score\n"
     ]
    },
    {
     "data": {
      "text/html": [
       "<div>\n",
       "<style scoped>\n",
       "    .dataframe tbody tr th:only-of-type {\n",
       "        vertical-align: middle;\n",
       "    }\n",
       "\n",
       "    .dataframe tbody tr th {\n",
       "        vertical-align: top;\n",
       "    }\n",
       "\n",
       "    .dataframe thead th {\n",
       "        text-align: right;\n",
       "    }\n",
       "</style>\n",
       "<table border=\"1\" class=\"dataframe\">\n",
       "  <thead>\n",
       "    <tr style=\"text-align: right;\">\n",
       "      <th></th>\n",
       "      <th>Select Logistic Regression</th>\n",
       "      <th>Select KNN</th>\n",
       "      <th>Select Random Forest</th>\n",
       "      <th>Select Decision Tree</th>\n",
       "    </tr>\n",
       "  </thead>\n",
       "  <tbody>\n",
       "    <tr>\n",
       "      <th>0</th>\n",
       "      <td>0.685567</td>\n",
       "      <td>0.544160</td>\n",
       "      <td>0.632979</td>\n",
       "      <td>0.635870</td>\n",
       "    </tr>\n",
       "    <tr>\n",
       "      <th>1</th>\n",
       "      <td>0.636364</td>\n",
       "      <td>0.529412</td>\n",
       "      <td>0.568465</td>\n",
       "      <td>0.571429</td>\n",
       "    </tr>\n",
       "    <tr>\n",
       "      <th>2</th>\n",
       "      <td>0.631579</td>\n",
       "      <td>0.575163</td>\n",
       "      <td>0.613065</td>\n",
       "      <td>0.624277</td>\n",
       "    </tr>\n",
       "    <tr>\n",
       "      <th>3</th>\n",
       "      <td>0.605042</td>\n",
       "      <td>0.507740</td>\n",
       "      <td>0.573222</td>\n",
       "      <td>0.583710</td>\n",
       "    </tr>\n",
       "    <tr>\n",
       "      <th>4</th>\n",
       "      <td>0.744898</td>\n",
       "      <td>0.587692</td>\n",
       "      <td>0.629787</td>\n",
       "      <td>0.631336</td>\n",
       "    </tr>\n",
       "  </tbody>\n",
       "</table>\n",
       "</div>"
      ],
      "text/plain": [
       "   Select Logistic Regression  Select KNN  Select Random Forest  \\\n",
       "0                    0.685567    0.544160              0.632979   \n",
       "1                    0.636364    0.529412              0.568465   \n",
       "2                    0.631579    0.575163              0.613065   \n",
       "3                    0.605042    0.507740              0.573222   \n",
       "4                    0.744898    0.587692              0.629787   \n",
       "\n",
       "   Select Decision Tree  \n",
       "0              0.635870  \n",
       "1              0.571429  \n",
       "2              0.624277  \n",
       "3              0.583710  \n",
       "4              0.631336  "
      ]
     },
     "execution_count": 297,
     "metadata": {},
     "output_type": "execute_result"
    }
   ],
   "source": [
    "cv_select_df = pd.DataFrame(data=[logreg_select_model_cv, knn_select_model_cv, ranfor_select_model_cv, dtree_select_model_cv], index = ['Select Logistic Regression', 'Select KNN', 'Select Random Forest', 'Select Decision Tree'])\n",
    "cv_select_df = cv_select_df.transpose()\n",
    "print(\"Selected Feature Cross Val Precision Score\")\n",
    "cv_select_df"
   ]
  },
  {
   "cell_type": "code",
   "execution_count": 298,
   "metadata": {},
   "outputs": [
    {
     "name": "stdout",
     "output_type": "stream",
     "text": [
      "Select Cross Val Precision Score\n"
     ]
    },
    {
     "data": {
      "text/html": [
       "<div>\n",
       "<style scoped>\n",
       "    .dataframe tbody tr th:only-of-type {\n",
       "        vertical-align: middle;\n",
       "    }\n",
       "\n",
       "    .dataframe tbody tr th {\n",
       "        vertical-align: top;\n",
       "    }\n",
       "\n",
       "    .dataframe thead th {\n",
       "        text-align: right;\n",
       "    }\n",
       "</style>\n",
       "<table border=\"1\" class=\"dataframe\">\n",
       "  <thead>\n",
       "    <tr style=\"text-align: right;\">\n",
       "      <th></th>\n",
       "      <th>mean</th>\n",
       "      <th>std</th>\n",
       "    </tr>\n",
       "  </thead>\n",
       "  <tbody>\n",
       "    <tr>\n",
       "      <th>Select Logistic Regression</th>\n",
       "      <td>0.660690</td>\n",
       "      <td>0.055330</td>\n",
       "    </tr>\n",
       "    <tr>\n",
       "      <th>Select KNN</th>\n",
       "      <td>0.548833</td>\n",
       "      <td>0.032753</td>\n",
       "    </tr>\n",
       "    <tr>\n",
       "      <th>Select Random Forest</th>\n",
       "      <td>0.603504</td>\n",
       "      <td>0.030805</td>\n",
       "    </tr>\n",
       "    <tr>\n",
       "      <th>Select Decision Tree</th>\n",
       "      <td>0.609324</td>\n",
       "      <td>0.029601</td>\n",
       "    </tr>\n",
       "  </tbody>\n",
       "</table>\n",
       "</div>"
      ],
      "text/plain": [
       "                                mean       std\n",
       "Select Logistic Regression  0.660690  0.055330\n",
       "Select KNN                  0.548833  0.032753\n",
       "Select Random Forest        0.603504  0.030805\n",
       "Select Decision Tree        0.609324  0.029601"
      ]
     },
     "execution_count": 298,
     "metadata": {},
     "output_type": "execute_result"
    }
   ],
   "source": [
    "print(\"Select Cross Val Precision Score\")\n",
    "cv_select_df_t = cv_select_df.describe().loc[['mean','std']].transpose()\n",
    "cv_select_df_t"
   ]
  },
  {
   "cell_type": "code",
   "execution_count": 299,
   "metadata": {},
   "outputs": [
    {
     "data": {
      "image/png": "[encoded data removed]",
      "text/plain": [
       "<Figure size 1008x360 with 1 Axes>"
      ]
     },
     "metadata": {},
     "output_type": "display_data"
    }
   ],
   "source": [
    "# multiple line plots\n",
    "plt.figure(figsize=(14,5))\n",
    "plt.plot( cv_select_df['Select Logistic Regression'], marker='o', markerfacecolor='blue', markersize=8, color='blue', linewidth=2)\n",
    "plt.plot( cv_select_df['Select KNN'], marker='o', markerfacecolor='red', markersize=8, color='red', linewidth=2)\n",
    "plt.plot( cv_select_df['Select Random Forest'], marker='o', markerfacecolor='black', markersize=8, color='black', linewidth=2)\n",
    "plt.plot( cv_select_df['Select Decision Tree'], marker='o', markerfacecolor='green', markersize=8, color='green', linewidth=2)\n",
    "# show legend\n",
    "plt.title('Select Cross Val Precision Score', size=20)\n",
    "plt.legend(['Select Logistic Regression', 'Select KNN', 'Select Random Forest', 'Select Decision Tree'])\n",
    "plt.ylim(0,1)\n",
    "# show graph\n",
    "plt.show()"
   ]
  },
  {
   "cell_type": "code",
   "execution_count": 300,
   "metadata": {},
   "outputs": [],
   "source": [
    "metric_select = pd.DataFrame(index = ['Select Logistic Regression', 'Select KNN',\n",
    "                                             'Select Random Forest',\n",
    "                                             'Select Decision Tree']) \n",
    "f1 = []\n",
    "prec = []\n",
    "recall = []\n",
    "acc = []"
   ]
  },
  {
   "cell_type": "code",
   "execution_count": 301,
   "metadata": {},
   "outputs": [],
   "source": [
    "def evaluationMetrics(y_test, y_pred):\n",
    "    f1.append(f1_score(y_test,y_pred))\n",
    "    prec.append(precision_score(y_test, y_pred))\n",
    "    recall.append(recall_score(y_test, y_pred))\n",
    "    acc.append(accuracy_score(y_test, y_pred))"
   ]
  },
  {
   "cell_type": "code",
   "execution_count": 302,
   "metadata": {},
   "outputs": [],
   "source": [
    "evaluationMetrics(y_test, y_pred_logreg_select)\n",
    "evaluationMetrics(y_test, y_pred_knn_select)\n",
    "evaluationMetrics(y_test, y_pred_ranfor_select)\n",
    "evaluationMetrics(y_test, y_pred_dtree_select)"
   ]
  },
  {
   "cell_type": "code",
   "execution_count": 303,
   "metadata": {},
   "outputs": [],
   "source": [
    "metric_select['F1-Score'] = f1\n",
    "metric_select['Recall'] = recall\n",
    "metric_select['Precision'] = prec\n",
    "metric_select['Accuracy'] = acc"
   ]
  },
  {
   "cell_type": "code",
   "execution_count": 304,
   "metadata": {},
   "outputs": [
    {
     "data": {
      "text/html": [
       "<div>\n",
       "<style scoped>\n",
       "    .dataframe tbody tr th:only-of-type {\n",
       "        vertical-align: middle;\n",
       "    }\n",
       "\n",
       "    .dataframe tbody tr th {\n",
       "        vertical-align: top;\n",
       "    }\n",
       "\n",
       "    .dataframe thead th {\n",
       "        text-align: right;\n",
       "    }\n",
       "</style>\n",
       "<table border=\"1\" class=\"dataframe\">\n",
       "  <thead>\n",
       "    <tr style=\"text-align: right;\">\n",
       "      <th></th>\n",
       "      <th>F1-Score</th>\n",
       "      <th>Recall</th>\n",
       "      <th>Precision</th>\n",
       "      <th>Accuracy</th>\n",
       "    </tr>\n",
       "  </thead>\n",
       "  <tbody>\n",
       "    <tr>\n",
       "      <th>Select Logistic Regression</th>\n",
       "      <td>0.321900</td>\n",
       "      <td>0.214789</td>\n",
       "      <td>0.642105</td>\n",
       "      <td>0.899203</td>\n",
       "    </tr>\n",
       "    <tr>\n",
       "      <th>Select KNN</th>\n",
       "      <td>0.363917</td>\n",
       "      <td>0.276995</td>\n",
       "      <td>0.530337</td>\n",
       "      <td>0.892143</td>\n",
       "    </tr>\n",
       "    <tr>\n",
       "      <th>Select Random Forest</th>\n",
       "      <td>0.344178</td>\n",
       "      <td>0.235915</td>\n",
       "      <td>0.636076</td>\n",
       "      <td>0.899856</td>\n",
       "    </tr>\n",
       "    <tr>\n",
       "      <th>Select Decision Tree</th>\n",
       "      <td>0.330998</td>\n",
       "      <td>0.221831</td>\n",
       "      <td>0.651724</td>\n",
       "      <td>0.900118</td>\n",
       "    </tr>\n",
       "  </tbody>\n",
       "</table>\n",
       "</div>"
      ],
      "text/plain": [
       "                            F1-Score    Recall  Precision  Accuracy\n",
       "Select Logistic Regression  0.321900  0.214789   0.642105  0.899203\n",
       "Select KNN                  0.363917  0.276995   0.530337  0.892143\n",
       "Select Random Forest        0.344178  0.235915   0.636076  0.899856\n",
       "Select Decision Tree        0.330998  0.221831   0.651724  0.900118"
      ]
     },
     "execution_count": 304,
     "metadata": {},
     "output_type": "execute_result"
    }
   ],
   "source": [
    "metric_select"
   ]
  },
  {
   "cell_type": "code",
   "execution_count": 305,
   "metadata": {},
   "outputs": [
    {
     "data": {
      "text/html": [
       "<div>\n",
       "<style scoped>\n",
       "    .dataframe tbody tr th:only-of-type {\n",
       "        vertical-align: middle;\n",
       "    }\n",
       "\n",
       "    .dataframe tbody tr th {\n",
       "        vertical-align: top;\n",
       "    }\n",
       "\n",
       "    .dataframe thead th {\n",
       "        text-align: right;\n",
       "    }\n",
       "</style>\n",
       "<table border=\"1\" class=\"dataframe\">\n",
       "  <thead>\n",
       "    <tr style=\"text-align: right;\">\n",
       "      <th></th>\n",
       "      <th>F1-Score</th>\n",
       "      <th>Recall</th>\n",
       "      <th>Precision</th>\n",
       "      <th>Accuracy</th>\n",
       "    </tr>\n",
       "  </thead>\n",
       "  <tbody>\n",
       "    <tr>\n",
       "      <th>Logistic Regression</th>\n",
       "      <td>0.326389</td>\n",
       "      <td>0.220657</td>\n",
       "      <td>0.626667</td>\n",
       "      <td>0.898549</td>\n",
       "    </tr>\n",
       "    <tr>\n",
       "      <th>KNN</th>\n",
       "      <td>0.356358</td>\n",
       "      <td>0.266432</td>\n",
       "      <td>0.537915</td>\n",
       "      <td>0.892796</td>\n",
       "    </tr>\n",
       "    <tr>\n",
       "      <th>Random Forest</th>\n",
       "      <td>0.294020</td>\n",
       "      <td>0.207746</td>\n",
       "      <td>0.502841</td>\n",
       "      <td>0.888874</td>\n",
       "    </tr>\n",
       "    <tr>\n",
       "      <th>Decision Tree</th>\n",
       "      <td>0.271584</td>\n",
       "      <td>0.190141</td>\n",
       "      <td>0.475073</td>\n",
       "      <td>0.886390</td>\n",
       "    </tr>\n",
       "  </tbody>\n",
       "</table>\n",
       "</div>"
      ],
      "text/plain": [
       "                     F1-Score    Recall  Precision  Accuracy\n",
       "Logistic Regression  0.326389  0.220657   0.626667  0.898549\n",
       "KNN                  0.356358  0.266432   0.537915  0.892796\n",
       "Random Forest        0.294020  0.207746   0.502841  0.888874\n",
       "Decision Tree        0.271584  0.190141   0.475073  0.886390"
      ]
     },
     "execution_count": 305,
     "metadata": {},
     "output_type": "execute_result"
    }
   ],
   "source": [
    "metric_default"
   ]
  },
  {
   "cell_type": "markdown",
   "metadata": {},
   "source": [
    "### Insights\n",
    "1. Overall selection feature does increase the precision score in every model that we ran\n",
    "2. The highest score : Decision Tree > Random Forest > Logistic Regression > KNN\n",
    "3. Significant increased score : Decision Tree > Random Forest > Logistic Regression > KNN\n",
    "4. A selection feature does effectively increase a precision score in this data"
   ]
  },
  {
   "cell_type": "markdown",
   "metadata": {},
   "source": [
    "<a id=\"1\"></a>\n",
    "<h1 style=\"color:White; background-color:#0b6b6e; font-size:250%; text-align:left; border-radius: 10px; padding-top: 10px; padding-bottom: 10px\">8. All Model Evaluation</h1>"
   ]
  },
  {
   "cell_type": "code",
   "execution_count": 306,
   "metadata": {},
   "outputs": [],
   "source": [
    "all_model = pd.concat([metric_default, metric_poly, metric_smote, metric_rus, metric_select], axis=0)\n",
    "all_model = all_model.reset_index()"
   ]
  },
  {
   "cell_type": "code",
   "execution_count": 307,
   "metadata": {},
   "outputs": [],
   "source": [
    "type = ['Default', 'Default', 'Default', 'Default',\n",
    "        'Polynomial', 'Polynomial', 'Polynomial', 'Polynomial',\n",
    "        'SMOTE', 'SMOTE', 'SMOTE', 'SMOTE',\n",
    "        'RUS', 'RUS', 'RUS', 'RUS',\n",
    "        'Selected', 'Selected', 'Selected', 'Selected']"
   ]
  },
  {
   "cell_type": "code",
   "execution_count": 314,
   "metadata": {},
   "outputs": [
    {
     "data": {
      "text/html": [
       "<div>\n",
       "<style scoped>\n",
       "    .dataframe tbody tr th:only-of-type {\n",
       "        vertical-align: middle;\n",
       "    }\n",
       "\n",
       "    .dataframe tbody tr th {\n",
       "        vertical-align: top;\n",
       "    }\n",
       "\n",
       "    .dataframe thead th {\n",
       "        text-align: right;\n",
       "    }\n",
       "</style>\n",
       "<table border=\"1\" class=\"dataframe\">\n",
       "  <thead>\n",
       "    <tr style=\"text-align: right;\">\n",
       "      <th></th>\n",
       "      <th>index</th>\n",
       "      <th>F1-Score</th>\n",
       "      <th>Recall</th>\n",
       "      <th>Precision</th>\n",
       "      <th>Accuracy</th>\n",
       "      <th>type</th>\n",
       "    </tr>\n",
       "  </thead>\n",
       "  <tbody>\n",
       "    <tr>\n",
       "      <th>0</th>\n",
       "      <td>Logistic Regression</td>\n",
       "      <td>0.326389</td>\n",
       "      <td>0.220657</td>\n",
       "      <td>0.626667</td>\n",
       "      <td>0.898549</td>\n",
       "      <td>Default</td>\n",
       "    </tr>\n",
       "    <tr>\n",
       "      <th>1</th>\n",
       "      <td>KNN</td>\n",
       "      <td>0.356358</td>\n",
       "      <td>0.266432</td>\n",
       "      <td>0.537915</td>\n",
       "      <td>0.892796</td>\n",
       "      <td>Default</td>\n",
       "    </tr>\n",
       "    <tr>\n",
       "      <th>2</th>\n",
       "      <td>Random Forest</td>\n",
       "      <td>0.294020</td>\n",
       "      <td>0.207746</td>\n",
       "      <td>0.502841</td>\n",
       "      <td>0.888874</td>\n",
       "      <td>Default</td>\n",
       "    </tr>\n",
       "    <tr>\n",
       "      <th>3</th>\n",
       "      <td>Decision Tree</td>\n",
       "      <td>0.271584</td>\n",
       "      <td>0.190141</td>\n",
       "      <td>0.475073</td>\n",
       "      <td>0.886390</td>\n",
       "      <td>Default</td>\n",
       "    </tr>\n",
       "    <tr>\n",
       "      <th>4</th>\n",
       "      <td>Poly Logistic Regression</td>\n",
       "      <td>0.164948</td>\n",
       "      <td>0.093897</td>\n",
       "      <td>0.677966</td>\n",
       "      <td>0.894104</td>\n",
       "      <td>Polynomial</td>\n",
       "    </tr>\n",
       "    <tr>\n",
       "      <th>5</th>\n",
       "      <td>Poly KNN</td>\n",
       "      <td>0.347082</td>\n",
       "      <td>0.261737</td>\n",
       "      <td>0.515012</td>\n",
       "      <td>0.890312</td>\n",
       "      <td>Polynomial</td>\n",
       "    </tr>\n",
       "    <tr>\n",
       "      <th>6</th>\n",
       "      <td>Poly Random Forest</td>\n",
       "      <td>0.364029</td>\n",
       "      <td>0.296948</td>\n",
       "      <td>0.470260</td>\n",
       "      <td>0.884429</td>\n",
       "      <td>Polynomial</td>\n",
       "    </tr>\n",
       "    <tr>\n",
       "      <th>7</th>\n",
       "      <td>Poly Decision Tree</td>\n",
       "      <td>0.323032</td>\n",
       "      <td>0.325117</td>\n",
       "      <td>0.320973</td>\n",
       "      <td>0.848215</td>\n",
       "      <td>Polynomial</td>\n",
       "    </tr>\n",
       "    <tr>\n",
       "      <th>8</th>\n",
       "      <td>SMOTE Logistic Regression</td>\n",
       "      <td>0.452579</td>\n",
       "      <td>0.638498</td>\n",
       "      <td>0.350515</td>\n",
       "      <td>0.827951</td>\n",
       "      <td>SMOTE</td>\n",
       "    </tr>\n",
       "    <tr>\n",
       "      <th>9</th>\n",
       "      <td>SMOTE KNN</td>\n",
       "      <td>0.357143</td>\n",
       "      <td>0.563380</td>\n",
       "      <td>0.261438</td>\n",
       "      <td>0.774088</td>\n",
       "      <td>SMOTE</td>\n",
       "    </tr>\n",
       "    <tr>\n",
       "      <th>10</th>\n",
       "      <td>SMOTE Random Forest</td>\n",
       "      <td>0.330636</td>\n",
       "      <td>0.335681</td>\n",
       "      <td>0.325740</td>\n",
       "      <td>0.848608</td>\n",
       "      <td>SMOTE</td>\n",
       "    </tr>\n",
       "    <tr>\n",
       "      <th>11</th>\n",
       "      <td>SMOTE Decision Tree</td>\n",
       "      <td>0.281933</td>\n",
       "      <td>0.287559</td>\n",
       "      <td>0.276524</td>\n",
       "      <td>0.836841</td>\n",
       "      <td>SMOTE</td>\n",
       "    </tr>\n",
       "    <tr>\n",
       "      <th>12</th>\n",
       "      <td>RUS Logistic Regression</td>\n",
       "      <td>0.454855</td>\n",
       "      <td>0.626761</td>\n",
       "      <td>0.356952</td>\n",
       "      <td>0.832658</td>\n",
       "      <td>RUS</td>\n",
       "    </tr>\n",
       "    <tr>\n",
       "      <th>13</th>\n",
       "      <td>RUS KNN</td>\n",
       "      <td>0.338350</td>\n",
       "      <td>0.659624</td>\n",
       "      <td>0.227530</td>\n",
       "      <td>0.712642</td>\n",
       "      <td>RUS</td>\n",
       "    </tr>\n",
       "    <tr>\n",
       "      <th>14</th>\n",
       "      <td>RUS Random Forest</td>\n",
       "      <td>0.318405</td>\n",
       "      <td>0.571596</td>\n",
       "      <td>0.220662</td>\n",
       "      <td>0.727415</td>\n",
       "      <td>RUS</td>\n",
       "    </tr>\n",
       "    <tr>\n",
       "      <th>15</th>\n",
       "      <td>RUS Decision Tree</td>\n",
       "      <td>0.298819</td>\n",
       "      <td>0.504695</td>\n",
       "      <td>0.212241</td>\n",
       "      <td>0.736175</td>\n",
       "      <td>RUS</td>\n",
       "    </tr>\n",
       "    <tr>\n",
       "      <th>16</th>\n",
       "      <td>Select Logistic Regression</td>\n",
       "      <td>0.321900</td>\n",
       "      <td>0.214789</td>\n",
       "      <td>0.642105</td>\n",
       "      <td>0.899203</td>\n",
       "      <td>Selected</td>\n",
       "    </tr>\n",
       "    <tr>\n",
       "      <th>17</th>\n",
       "      <td>Select KNN</td>\n",
       "      <td>0.363917</td>\n",
       "      <td>0.276995</td>\n",
       "      <td>0.530337</td>\n",
       "      <td>0.892143</td>\n",
       "      <td>Selected</td>\n",
       "    </tr>\n",
       "    <tr>\n",
       "      <th>18</th>\n",
       "      <td>Select Random Forest</td>\n",
       "      <td>0.344178</td>\n",
       "      <td>0.235915</td>\n",
       "      <td>0.636076</td>\n",
       "      <td>0.899856</td>\n",
       "      <td>Selected</td>\n",
       "    </tr>\n",
       "    <tr>\n",
       "      <th>19</th>\n",
       "      <td>Select Decision Tree</td>\n",
       "      <td>0.330998</td>\n",
       "      <td>0.221831</td>\n",
       "      <td>0.651724</td>\n",
       "      <td>0.900118</td>\n",
       "      <td>Selected</td>\n",
       "    </tr>\n",
       "  </tbody>\n",
       "</table>\n",
       "</div>"
      ],
      "text/plain": [
       "                         index  F1-Score    Recall  Precision  Accuracy  \\\n",
       "0          Logistic Regression  0.326389  0.220657   0.626667  0.898549   \n",
       "1                          KNN  0.356358  0.266432   0.537915  0.892796   \n",
       "2                Random Forest  0.294020  0.207746   0.502841  0.888874   \n",
       "3                Decision Tree  0.271584  0.190141   0.475073  0.886390   \n",
       "4     Poly Logistic Regression  0.164948  0.093897   0.677966  0.894104   \n",
       "5                     Poly KNN  0.347082  0.261737   0.515012  0.890312   \n",
       "6           Poly Random Forest  0.364029  0.296948   0.470260  0.884429   \n",
       "7           Poly Decision Tree  0.323032  0.325117   0.320973  0.848215   \n",
       "8    SMOTE Logistic Regression  0.452579  0.638498   0.350515  0.827951   \n",
       "9                    SMOTE KNN  0.357143  0.563380   0.261438  0.774088   \n",
       "10         SMOTE Random Forest  0.330636  0.335681   0.325740  0.848608   \n",
       "11         SMOTE Decision Tree  0.281933  0.287559   0.276524  0.836841   \n",
       "12     RUS Logistic Regression  0.454855  0.626761   0.356952  0.832658   \n",
       "13                     RUS KNN  0.338350  0.659624   0.227530  0.712642   \n",
       "14           RUS Random Forest  0.318405  0.571596   0.220662  0.727415   \n",
       "15           RUS Decision Tree  0.298819  0.504695   0.212241  0.736175   \n",
       "16  Select Logistic Regression  0.321900  0.214789   0.642105  0.899203   \n",
       "17                  Select KNN  0.363917  0.276995   0.530337  0.892143   \n",
       "18        Select Random Forest  0.344178  0.235915   0.636076  0.899856   \n",
       "19        Select Decision Tree  0.330998  0.221831   0.651724  0.900118   \n",
       "\n",
       "          type  \n",
       "0      Default  \n",
       "1      Default  \n",
       "2      Default  \n",
       "3      Default  \n",
       "4   Polynomial  \n",
       "5   Polynomial  \n",
       "6   Polynomial  \n",
       "7   Polynomial  \n",
       "8        SMOTE  \n",
       "9        SMOTE  \n",
       "10       SMOTE  \n",
       "11       SMOTE  \n",
       "12         RUS  \n",
       "13         RUS  \n",
       "14         RUS  \n",
       "15         RUS  \n",
       "16    Selected  \n",
       "17    Selected  \n",
       "18    Selected  \n",
       "19    Selected  "
      ]
     },
     "execution_count": 314,
     "metadata": {},
     "output_type": "execute_result"
    }
   ],
   "source": [
    "all_model['type'] = type\n",
    "all_model"
   ]
  },
  {
   "cell_type": "code",
   "execution_count": 311,
   "metadata": {},
   "outputs": [],
   "source": [
    "all_cv = pd.concat([cv_df_t, poly_cv_df_t, cv_smote_df_t, cv_rus_df_t, cv_select_df_t], axis=0)\n",
    "all_cv = all_cv.reset_index()"
   ]
  },
  {
   "cell_type": "code",
   "execution_count": 312,
   "metadata": {},
   "outputs": [
    {
     "data": {
      "text/html": [
       "<div>\n",
       "<style scoped>\n",
       "    .dataframe tbody tr th:only-of-type {\n",
       "        vertical-align: middle;\n",
       "    }\n",
       "\n",
       "    .dataframe tbody tr th {\n",
       "        vertical-align: top;\n",
       "    }\n",
       "\n",
       "    .dataframe thead th {\n",
       "        text-align: right;\n",
       "    }\n",
       "</style>\n",
       "<table border=\"1\" class=\"dataframe\">\n",
       "  <thead>\n",
       "    <tr style=\"text-align: right;\">\n",
       "      <th></th>\n",
       "      <th>index</th>\n",
       "      <th>mean</th>\n",
       "      <th>std</th>\n",
       "      <th>type</th>\n",
       "    </tr>\n",
       "  </thead>\n",
       "  <tbody>\n",
       "    <tr>\n",
       "      <th>0</th>\n",
       "      <td>Logistic Regression</td>\n",
       "      <td>0.650409</td>\n",
       "      <td>0.051074</td>\n",
       "      <td>Default</td>\n",
       "    </tr>\n",
       "    <tr>\n",
       "      <th>1</th>\n",
       "      <td>KNN</td>\n",
       "      <td>0.520095</td>\n",
       "      <td>0.031450</td>\n",
       "      <td>Default</td>\n",
       "    </tr>\n",
       "    <tr>\n",
       "      <th>2</th>\n",
       "      <td>Random Forest</td>\n",
       "      <td>0.516981</td>\n",
       "      <td>0.032263</td>\n",
       "      <td>Default</td>\n",
       "    </tr>\n",
       "    <tr>\n",
       "      <th>3</th>\n",
       "      <td>Decision Tree</td>\n",
       "      <td>0.471958</td>\n",
       "      <td>0.022879</td>\n",
       "      <td>Default</td>\n",
       "    </tr>\n",
       "    <tr>\n",
       "      <th>4</th>\n",
       "      <td>Poly Logistic Regression</td>\n",
       "      <td>0.624398</td>\n",
       "      <td>0.038883</td>\n",
       "      <td>Polynomial</td>\n",
       "    </tr>\n",
       "    <tr>\n",
       "      <th>5</th>\n",
       "      <td>Poly KNN</td>\n",
       "      <td>0.489759</td>\n",
       "      <td>0.016492</td>\n",
       "      <td>Polynomial</td>\n",
       "    </tr>\n",
       "    <tr>\n",
       "      <th>6</th>\n",
       "      <td>Poly Random Forest</td>\n",
       "      <td>0.467248</td>\n",
       "      <td>0.038254</td>\n",
       "      <td>Polynomial</td>\n",
       "    </tr>\n",
       "    <tr>\n",
       "      <th>7</th>\n",
       "      <td>Poly Decision Tree</td>\n",
       "      <td>0.294485</td>\n",
       "      <td>0.003598</td>\n",
       "      <td>Polynomial</td>\n",
       "    </tr>\n",
       "    <tr>\n",
       "      <th>8</th>\n",
       "      <td>SMOTE Logistic Regression</td>\n",
       "      <td>0.325980</td>\n",
       "      <td>0.016425</td>\n",
       "      <td>SMOTE</td>\n",
       "    </tr>\n",
       "    <tr>\n",
       "      <th>9</th>\n",
       "      <td>SMOTE KNN</td>\n",
       "      <td>0.247818</td>\n",
       "      <td>0.002849</td>\n",
       "      <td>SMOTE</td>\n",
       "    </tr>\n",
       "    <tr>\n",
       "      <th>10</th>\n",
       "      <td>SMOTE Random Forest</td>\n",
       "      <td>0.296037</td>\n",
       "      <td>0.019880</td>\n",
       "      <td>SMOTE</td>\n",
       "    </tr>\n",
       "    <tr>\n",
       "      <th>11</th>\n",
       "      <td>SMOTE Decision Tree</td>\n",
       "      <td>0.286798</td>\n",
       "      <td>0.020466</td>\n",
       "      <td>SMOTE</td>\n",
       "    </tr>\n",
       "    <tr>\n",
       "      <th>12</th>\n",
       "      <td>RUS Logistic Regression</td>\n",
       "      <td>0.337389</td>\n",
       "      <td>0.016198</td>\n",
       "      <td>RUS</td>\n",
       "    </tr>\n",
       "    <tr>\n",
       "      <th>13</th>\n",
       "      <td>RUS KNN</td>\n",
       "      <td>0.228252</td>\n",
       "      <td>0.004583</td>\n",
       "      <td>RUS</td>\n",
       "    </tr>\n",
       "    <tr>\n",
       "      <th>14</th>\n",
       "      <td>RUS Random Forest</td>\n",
       "      <td>0.200012</td>\n",
       "      <td>0.008100</td>\n",
       "      <td>RUS</td>\n",
       "    </tr>\n",
       "    <tr>\n",
       "      <th>15</th>\n",
       "      <td>RUS Decision Tree</td>\n",
       "      <td>0.203121</td>\n",
       "      <td>0.012220</td>\n",
       "      <td>RUS</td>\n",
       "    </tr>\n",
       "    <tr>\n",
       "      <th>16</th>\n",
       "      <td>Select Logistic Regression</td>\n",
       "      <td>0.660690</td>\n",
       "      <td>0.055330</td>\n",
       "      <td>Selected</td>\n",
       "    </tr>\n",
       "    <tr>\n",
       "      <th>17</th>\n",
       "      <td>Select KNN</td>\n",
       "      <td>0.548833</td>\n",
       "      <td>0.032753</td>\n",
       "      <td>Selected</td>\n",
       "    </tr>\n",
       "    <tr>\n",
       "      <th>18</th>\n",
       "      <td>Select Random Forest</td>\n",
       "      <td>0.603504</td>\n",
       "      <td>0.030805</td>\n",
       "      <td>Selected</td>\n",
       "    </tr>\n",
       "    <tr>\n",
       "      <th>19</th>\n",
       "      <td>Select Decision Tree</td>\n",
       "      <td>0.609324</td>\n",
       "      <td>0.029601</td>\n",
       "      <td>Selected</td>\n",
       "    </tr>\n",
       "  </tbody>\n",
       "</table>\n",
       "</div>"
      ],
      "text/plain": [
       "                         index      mean       std        type\n",
       "0          Logistic Regression  0.650409  0.051074     Default\n",
       "1                          KNN  0.520095  0.031450     Default\n",
       "2                Random Forest  0.516981  0.032263     Default\n",
       "3                Decision Tree  0.471958  0.022879     Default\n",
       "4     Poly Logistic Regression  0.624398  0.038883  Polynomial\n",
       "5                     Poly KNN  0.489759  0.016492  Polynomial\n",
       "6           Poly Random Forest  0.467248  0.038254  Polynomial\n",
       "7           Poly Decision Tree  0.294485  0.003598  Polynomial\n",
       "8    SMOTE Logistic Regression  0.325980  0.016425       SMOTE\n",
       "9                    SMOTE KNN  0.247818  0.002849       SMOTE\n",
       "10         SMOTE Random Forest  0.296037  0.019880       SMOTE\n",
       "11         SMOTE Decision Tree  0.286798  0.020466       SMOTE\n",
       "12     RUS Logistic Regression  0.337389  0.016198         RUS\n",
       "13                     RUS KNN  0.228252  0.004583         RUS\n",
       "14           RUS Random Forest  0.200012  0.008100         RUS\n",
       "15           RUS Decision Tree  0.203121  0.012220         RUS\n",
       "16  Select Logistic Regression  0.660690  0.055330    Selected\n",
       "17                  Select KNN  0.548833  0.032753    Selected\n",
       "18        Select Random Forest  0.603504  0.030805    Selected\n",
       "19        Select Decision Tree  0.609324  0.029601    Selected"
      ]
     },
     "execution_count": 312,
     "metadata": {},
     "output_type": "execute_result"
    }
   ],
   "source": [
    "all_cv['type'] = type\n",
    "all_cv"
   ]
  },
  {
   "cell_type": "code",
   "execution_count": 315,
   "metadata": {},
   "outputs": [
    {
     "data": {
      "image/png": "[encoded data removed]",
      "text/plain": [
       "<Figure size 1152x432 with 1 Axes>"
      ]
     },
     "metadata": {},
     "output_type": "display_data"
    }
   ],
   "source": [
    "plt.figure(figsize=(16,6))\n",
    "sns.barplot(x=all_model['index'], y=all_model['Precision'], hue=all_model['type'])\n",
    "plt.xticks(rotation=90)\n",
    "plt.title(\"Data Test Metric Evaluation\", size=20)\n",
    "plt.legend()\n",
    "plt.show()"
   ]
  },
  {
   "cell_type": "code",
   "execution_count": 316,
   "metadata": {},
   "outputs": [
    {
     "data": {
      "image/png": "[encoded data removed]",
      "text/plain": [
       "<Figure size 1152x576 with 1 Axes>"
      ]
     },
     "metadata": {},
     "output_type": "display_data"
    }
   ],
   "source": [
    "plt.figure(figsize=(16,8))\n",
    "sns.barplot(x=all_cv['index'], y=all_cv['mean'], hue=all_model['type'])\n",
    "sns.scatterplot(x=all_cv['index'], y=all_cv['std'], hue=all_model['type'])\n",
    "plt.xticks(rotation=90)\n",
    "plt.title(\"CV Performance Evaluation\", size=20)\n",
    "plt.show()"
   ]
  },
  {
   "cell_type": "code",
   "execution_count": 318,
   "metadata": {},
   "outputs": [
    {
     "data": {
      "text/html": [
       "<div>\n",
       "<style scoped>\n",
       "    .dataframe tbody tr th:only-of-type {\n",
       "        vertical-align: middle;\n",
       "    }\n",
       "\n",
       "    .dataframe tbody tr th {\n",
       "        vertical-align: top;\n",
       "    }\n",
       "\n",
       "    .dataframe thead th {\n",
       "        text-align: right;\n",
       "    }\n",
       "</style>\n",
       "<table border=\"1\" class=\"dataframe\">\n",
       "  <thead>\n",
       "    <tr style=\"text-align: right;\">\n",
       "      <th></th>\n",
       "      <th>index</th>\n",
       "      <th>Precision</th>\n",
       "      <th>Recall</th>\n",
       "      <th>mean</th>\n",
       "      <th>std</th>\n",
       "      <th>type_y</th>\n",
       "    </tr>\n",
       "  </thead>\n",
       "  <tbody>\n",
       "    <tr>\n",
       "      <th>0</th>\n",
       "      <td>Poly Logistic Regression</td>\n",
       "      <td>0.677966</td>\n",
       "      <td>0.093897</td>\n",
       "      <td>0.624398</td>\n",
       "      <td>0.038883</td>\n",
       "      <td>Polynomial</td>\n",
       "    </tr>\n",
       "    <tr>\n",
       "      <th>1</th>\n",
       "      <td>Select Decision Tree</td>\n",
       "      <td>0.651724</td>\n",
       "      <td>0.221831</td>\n",
       "      <td>0.609324</td>\n",
       "      <td>0.029601</td>\n",
       "      <td>Selected</td>\n",
       "    </tr>\n",
       "    <tr>\n",
       "      <th>2</th>\n",
       "      <td>Select Logistic Regression</td>\n",
       "      <td>0.642105</td>\n",
       "      <td>0.214789</td>\n",
       "      <td>0.660690</td>\n",
       "      <td>0.055330</td>\n",
       "      <td>Selected</td>\n",
       "    </tr>\n",
       "    <tr>\n",
       "      <th>3</th>\n",
       "      <td>Select Random Forest</td>\n",
       "      <td>0.636076</td>\n",
       "      <td>0.235915</td>\n",
       "      <td>0.603504</td>\n",
       "      <td>0.030805</td>\n",
       "      <td>Selected</td>\n",
       "    </tr>\n",
       "    <tr>\n",
       "      <th>4</th>\n",
       "      <td>Logistic Regression</td>\n",
       "      <td>0.626667</td>\n",
       "      <td>0.220657</td>\n",
       "      <td>0.650409</td>\n",
       "      <td>0.051074</td>\n",
       "      <td>Default</td>\n",
       "    </tr>\n",
       "    <tr>\n",
       "      <th>5</th>\n",
       "      <td>KNN</td>\n",
       "      <td>0.537915</td>\n",
       "      <td>0.266432</td>\n",
       "      <td>0.520095</td>\n",
       "      <td>0.031450</td>\n",
       "      <td>Default</td>\n",
       "    </tr>\n",
       "    <tr>\n",
       "      <th>6</th>\n",
       "      <td>Select KNN</td>\n",
       "      <td>0.530337</td>\n",
       "      <td>0.276995</td>\n",
       "      <td>0.548833</td>\n",
       "      <td>0.032753</td>\n",
       "      <td>Selected</td>\n",
       "    </tr>\n",
       "    <tr>\n",
       "      <th>7</th>\n",
       "      <td>Poly KNN</td>\n",
       "      <td>0.515012</td>\n",
       "      <td>0.261737</td>\n",
       "      <td>0.489759</td>\n",
       "      <td>0.016492</td>\n",
       "      <td>Polynomial</td>\n",
       "    </tr>\n",
       "    <tr>\n",
       "      <th>8</th>\n",
       "      <td>Random Forest</td>\n",
       "      <td>0.502841</td>\n",
       "      <td>0.207746</td>\n",
       "      <td>0.516981</td>\n",
       "      <td>0.032263</td>\n",
       "      <td>Default</td>\n",
       "    </tr>\n",
       "    <tr>\n",
       "      <th>9</th>\n",
       "      <td>Decision Tree</td>\n",
       "      <td>0.475073</td>\n",
       "      <td>0.190141</td>\n",
       "      <td>0.471958</td>\n",
       "      <td>0.022879</td>\n",
       "      <td>Default</td>\n",
       "    </tr>\n",
       "    <tr>\n",
       "      <th>10</th>\n",
       "      <td>Poly Random Forest</td>\n",
       "      <td>0.470260</td>\n",
       "      <td>0.296948</td>\n",
       "      <td>0.467248</td>\n",
       "      <td>0.038254</td>\n",
       "      <td>Polynomial</td>\n",
       "    </tr>\n",
       "    <tr>\n",
       "      <th>11</th>\n",
       "      <td>RUS Logistic Regression</td>\n",
       "      <td>0.356952</td>\n",
       "      <td>0.626761</td>\n",
       "      <td>0.337389</td>\n",
       "      <td>0.016198</td>\n",
       "      <td>RUS</td>\n",
       "    </tr>\n",
       "    <tr>\n",
       "      <th>12</th>\n",
       "      <td>SMOTE Logistic Regression</td>\n",
       "      <td>0.350515</td>\n",
       "      <td>0.638498</td>\n",
       "      <td>0.325980</td>\n",
       "      <td>0.016425</td>\n",
       "      <td>SMOTE</td>\n",
       "    </tr>\n",
       "    <tr>\n",
       "      <th>13</th>\n",
       "      <td>SMOTE Random Forest</td>\n",
       "      <td>0.325740</td>\n",
       "      <td>0.335681</td>\n",
       "      <td>0.296037</td>\n",
       "      <td>0.019880</td>\n",
       "      <td>SMOTE</td>\n",
       "    </tr>\n",
       "    <tr>\n",
       "      <th>14</th>\n",
       "      <td>Poly Decision Tree</td>\n",
       "      <td>0.320973</td>\n",
       "      <td>0.325117</td>\n",
       "      <td>0.294485</td>\n",
       "      <td>0.003598</td>\n",
       "      <td>Polynomial</td>\n",
       "    </tr>\n",
       "    <tr>\n",
       "      <th>15</th>\n",
       "      <td>SMOTE Decision Tree</td>\n",
       "      <td>0.276524</td>\n",
       "      <td>0.287559</td>\n",
       "      <td>0.286798</td>\n",
       "      <td>0.020466</td>\n",
       "      <td>SMOTE</td>\n",
       "    </tr>\n",
       "    <tr>\n",
       "      <th>16</th>\n",
       "      <td>SMOTE KNN</td>\n",
       "      <td>0.261438</td>\n",
       "      <td>0.563380</td>\n",
       "      <td>0.247818</td>\n",
       "      <td>0.002849</td>\n",
       "      <td>SMOTE</td>\n",
       "    </tr>\n",
       "    <tr>\n",
       "      <th>17</th>\n",
       "      <td>RUS KNN</td>\n",
       "      <td>0.227530</td>\n",
       "      <td>0.659624</td>\n",
       "      <td>0.228252</td>\n",
       "      <td>0.004583</td>\n",
       "      <td>RUS</td>\n",
       "    </tr>\n",
       "    <tr>\n",
       "      <th>18</th>\n",
       "      <td>RUS Random Forest</td>\n",
       "      <td>0.220662</td>\n",
       "      <td>0.571596</td>\n",
       "      <td>0.200012</td>\n",
       "      <td>0.008100</td>\n",
       "      <td>RUS</td>\n",
       "    </tr>\n",
       "    <tr>\n",
       "      <th>19</th>\n",
       "      <td>RUS Decision Tree</td>\n",
       "      <td>0.212241</td>\n",
       "      <td>0.504695</td>\n",
       "      <td>0.203121</td>\n",
       "      <td>0.012220</td>\n",
       "      <td>RUS</td>\n",
       "    </tr>\n",
       "  </tbody>\n",
       "</table>\n",
       "</div>"
      ],
      "text/plain": [
       "                         index  Precision    Recall      mean       std  \\\n",
       "0     Poly Logistic Regression   0.677966  0.093897  0.624398  0.038883   \n",
       "1         Select Decision Tree   0.651724  0.221831  0.609324  0.029601   \n",
       "2   Select Logistic Regression   0.642105  0.214789  0.660690  0.055330   \n",
       "3         Select Random Forest   0.636076  0.235915  0.603504  0.030805   \n",
       "4          Logistic Regression   0.626667  0.220657  0.650409  0.051074   \n",
       "5                          KNN   0.537915  0.266432  0.520095  0.031450   \n",
       "6                   Select KNN   0.530337  0.276995  0.548833  0.032753   \n",
       "7                     Poly KNN   0.515012  0.261737  0.489759  0.016492   \n",
       "8                Random Forest   0.502841  0.207746  0.516981  0.032263   \n",
       "9                Decision Tree   0.475073  0.190141  0.471958  0.022879   \n",
       "10          Poly Random Forest   0.470260  0.296948  0.467248  0.038254   \n",
       "11     RUS Logistic Regression   0.356952  0.626761  0.337389  0.016198   \n",
       "12   SMOTE Logistic Regression   0.350515  0.638498  0.325980  0.016425   \n",
       "13         SMOTE Random Forest   0.325740  0.335681  0.296037  0.019880   \n",
       "14          Poly Decision Tree   0.320973  0.325117  0.294485  0.003598   \n",
       "15         SMOTE Decision Tree   0.276524  0.287559  0.286798  0.020466   \n",
       "16                   SMOTE KNN   0.261438  0.563380  0.247818  0.002849   \n",
       "17                     RUS KNN   0.227530  0.659624  0.228252  0.004583   \n",
       "18           RUS Random Forest   0.220662  0.571596  0.200012  0.008100   \n",
       "19           RUS Decision Tree   0.212241  0.504695  0.203121  0.012220   \n",
       "\n",
       "        type_y  \n",
       "0   Polynomial  \n",
       "1     Selected  \n",
       "2     Selected  \n",
       "3     Selected  \n",
       "4      Default  \n",
       "5      Default  \n",
       "6     Selected  \n",
       "7   Polynomial  \n",
       "8      Default  \n",
       "9      Default  \n",
       "10  Polynomial  \n",
       "11         RUS  \n",
       "12       SMOTE  \n",
       "13       SMOTE  \n",
       "14  Polynomial  \n",
       "15       SMOTE  \n",
       "16       SMOTE  \n",
       "17         RUS  \n",
       "18         RUS  \n",
       "19         RUS  "
      ]
     },
     "execution_count": 318,
     "metadata": {},
     "output_type": "execute_result"
    }
   ],
   "source": [
    "df_result = pd.merge(all_model, all_cv, on=\"index\")\n",
    "df_result = df_result.drop('type_x', axis=1)\n",
    "df_result[['index','Precision', 'Recall', 'mean','std', 'type_y']].sort_values(by=['Precision'], ascending=False, ignore_index=True)"
   ]
  },
  {
   "cell_type": "markdown",
   "metadata": {},
   "source": [
    "# Conclusions\n",
    "1. Poly Logistic Regression has highest Precision score and stable performance\n",
    "2. Select Decision Tree has second highest Precision score stable performance\n",
    "3. Logistic Regression > Decision Tree > Random Forest are the top 5 model that has a hisghest precision score\n",
    "4. For further modelling I only interested in Logistic, Decision Tree, and Random Forest with feature engineering that increase the score\n",
    "\n",
    "- Logistic Regression = Polynomial - Selection Feature\n",
    "- Decision Tree = Selection Feature\n",
    "- Random Forest = Selectiion Feature"
   ]
  },
  {
   "cell_type": "markdown",
   "metadata": {},
   "source": [
    "# "
   ]
  },
  {
   "cell_type": "markdown",
   "metadata": {},
   "source": [
    "# "
   ]
  },
  {
   "cell_type": "markdown",
   "metadata": {},
   "source": [
    "# "
   ]
  },
  {
   "cell_type": "code",
   "execution_count": null,
   "metadata": {},
   "outputs": [],
   "source": []
  },
  {
   "cell_type": "code",
   "execution_count": null,
   "metadata": {},
   "outputs": [],
   "source": []
  },
  {
   "cell_type": "code",
   "execution_count": null,
   "metadata": {},
   "outputs": [],
   "source": []
  },
  {
   "cell_type": "code",
   "execution_count": null,
   "metadata": {},
   "outputs": [],
   "source": []
  },
  {
   "cell_type": "markdown",
   "metadata": {},
   "source": [
    "# Behind the Scene"
   ]
  },
  {
   "cell_type": "markdown",
   "metadata": {},
   "source": [
    "## Imbalanced"
   ]
  },
  {
   "cell_type": "code",
   "execution_count": null,
   "metadata": {},
   "outputs": [],
   "source": [
    "logreg_nearmiss = Pipeline(steps=[('preprocessor_1_select', preprocessor_1),\n",
    "                                ('balancing', NearMiss()),\n",
    "                                ('logreg', LogisticRegression(random_state = 2020))])\n",
    "\n",
    "knn_nearmiss = Pipeline(steps=[('preprocessor_1_select', preprocessor_1),\n",
    "                             ('balancing', NearMiss()),\n",
    "                             ('knn', KNeighborsClassifier())])\n",
    "\n",
    "ranfor_nearmiss = Pipeline(steps=[('preprocessor_2_select', preprocessor_2),\n",
    "                                ('balancing', NearMiss()),\n",
    "                                ('ranfor', RandomForestClassifier(random_state = 2020))])\n",
    "\n",
    "dtree_nearmiss = Pipeline(steps=[('preprocessor_2_select', preprocessor_2),\n",
    "                               ('balancing', NearMiss()),\n",
    "                               ('dtree', DecisionTreeClassifier(random_state = 2020))])"
   ]
  },
  {
   "cell_type": "markdown",
   "metadata": {},
   "source": [
    "### Logistic Regression"
   ]
  },
  {
   "cell_type": "code",
   "execution_count": null,
   "metadata": {},
   "outputs": [],
   "source": [
    "metric = 'precision'\n",
    "def model_evaluation_cv(logreg_select, metric):\n",
    "  skfold = StratifiedKFold(n_splits = 5)\n",
    "  model_cv = cross_val_score(logreg_nearmiss, X_train, y_train, cv = skfold, scoring = metric)\n",
    "  return model_cv\n",
    "\n",
    "def print_result(model_cv):\n",
    "  print('Logreg NearMiss CV Precision score',model_cv)\n",
    "  print('Logreg NearMiss CV Precision score mean',model_cv.mean())\n",
    "  print('Logreg NearMiss CV Precision score std',model_cv.std())"
   ]
  },
  {
   "cell_type": "code",
   "execution_count": null,
   "metadata": {},
   "outputs": [],
   "source": [
    "logreg_nearmiss_model_cv = model_evaluation_cv(logreg_nearmiss, metric)\n",
    "print_result(logreg_nearmiss_model_cv)"
   ]
  },
  {
   "cell_type": "code",
   "execution_count": null,
   "metadata": {},
   "outputs": [],
   "source": [
    "logreg_nearmiss.fit(X_train, y_train)"
   ]
  },
  {
   "cell_type": "code",
   "execution_count": null,
   "metadata": {},
   "outputs": [],
   "source": [
    "y_pred_logreg_nearmiss = logreg_nearmiss.predict(X_test)\n",
    "print(classification_report(y_test, y_pred_logreg_nearmiss))"
   ]
  },
  {
   "cell_type": "code",
   "execution_count": null,
   "metadata": {},
   "outputs": [],
   "source": []
  },
  {
   "cell_type": "code",
   "execution_count": null,
   "metadata": {},
   "outputs": [],
   "source": []
  },
  {
   "cell_type": "markdown",
   "metadata": {},
   "source": [
    "## RFE"
   ]
  },
  {
   "cell_type": "code",
   "execution_count": null,
   "metadata": {},
   "outputs": [],
   "source": [
    "logreg_rfe = Pipeline(steps=[('preprocessor_1_select', preprocessor_1),\n",
    "                                ('balancing', NearMiss()),\n",
    "                                ('logreg', LogisticRegression(random_state = 2020))])\n",
    "\n",
    "knn_rfe = Pipeline(steps=[('preprocessor_1_select', preprocessor_1),\n",
    "                             ('rfe', RFE(estimator=KNeighborsClassifier(), n_features_to_select=5)),\n",
    "                             ('knn', KNeighborsClassifier())])\n",
    "\n",
    "ranfor_rfe = Pipeline(steps=[('preprocessor_2_select', preprocessor_2),\n",
    "                                ('rfe', RFE(estimator=RandomForestClassifier(), n_features_to_select=5)),\n",
    "                                ('ranfor', RandomForestClassifier())])\n",
    "\n",
    "dtree_rfe = Pipeline(steps=[('preprocessor_2_select', preprocessor_2),\n",
    "                            ('rfe', RFE(estimator=DecisionTreeClassifier(), n_features_to_select=20)),\n",
    "                            ('dtree', DecisionTreeClassifier(random_state = 2020))])"
   ]
  },
  {
   "cell_type": "code",
   "execution_count": null,
   "metadata": {},
   "outputs": [],
   "source": []
  },
  {
   "cell_type": "markdown",
   "metadata": {},
   "source": [
    "### Random Forest"
   ]
  },
  {
   "cell_type": "code",
   "execution_count": null,
   "metadata": {},
   "outputs": [],
   "source": [
    "metric = 'precision'\n",
    "def model_evaluation_cv(ranfor_rfe, metric):\n",
    "  skfold = StratifiedKFold(n_splits = 5)\n",
    "  model_cv = cross_val_score(ranfor_rfe, X_train, y_train, cv = skfold, scoring = metric)\n",
    "  return model_cv\n",
    "\n",
    "def print_result(model_cv):\n",
    "  print('Ranfor RFE CV Precision score',model_cv)\n",
    "  print('Ranfor RFE CV Precision score mean',model_cv.mean())\n",
    "  print('Ranfor RFE CV Precision score std',model_cv.std())"
   ]
  },
  {
   "cell_type": "code",
   "execution_count": null,
   "metadata": {},
   "outputs": [],
   "source": [
    "ranfor_rfe_model_cv = model_evaluation_cv(ranfor_rfe, metric)\n",
    "print_result(ranfor_rfe_model_cv)"
   ]
  },
  {
   "cell_type": "code",
   "execution_count": null,
   "metadata": {},
   "outputs": [],
   "source": [
    "ranfor_rfe.fit(X_train, y_train)"
   ]
  },
  {
   "cell_type": "code",
   "execution_count": null,
   "metadata": {},
   "outputs": [],
   "source": [
    "y_pred_ranfor_rfe = ranfor_rfe.predict(X_test)\n",
    "print(classification_report(y_test, y_pred_ranfor_rfe))"
   ]
  },
  {
   "cell_type": "markdown",
   "metadata": {},
   "source": [
    "### Decision Tree"
   ]
  },
  {
   "cell_type": "code",
   "execution_count": null,
   "metadata": {},
   "outputs": [],
   "source": [
    "metric = 'precision'\n",
    "def model_evaluation_cv(dtree_rfe, metric):\n",
    "  skfold = StratifiedKFold(n_splits = 5)\n",
    "  model_cv = cross_val_score(dtree_rfe, X_train, y_train, cv = skfold, scoring = metric)\n",
    "  return model_cv\n",
    "\n",
    "def print_result(model_cv):\n",
    "  print('DTree RFE CV Precision score',model_cv)\n",
    "  print('DTree RFE CV Precision score mean',model_cv.mean())\n",
    "  print('DTree RFE CV Precision score std',model_cv.std())"
   ]
  },
  {
   "cell_type": "code",
   "execution_count": null,
   "metadata": {},
   "outputs": [],
   "source": [
    "dtree_rfe_model_cv = model_evaluation_cv(dtree_rfe, metric)\n",
    "print_result(dtree_rfe_model_cv)"
   ]
  },
  {
   "cell_type": "code",
   "execution_count": null,
   "metadata": {},
   "outputs": [],
   "source": [
    "dtree_rfe.fit(X_train, y_train)"
   ]
  },
  {
   "cell_type": "code",
   "execution_count": null,
   "metadata": {},
   "outputs": [],
   "source": [
    "y_pred_dtree_rfe = dtree_rfe.predict(X_test)\n",
    "print(classification_report(y_test, y_pred_dtree_rfe))"
   ]
  },
  {
   "cell_type": "code",
   "execution_count": null,
   "metadata": {},
   "outputs": [],
   "source": []
  },
  {
   "cell_type": "code",
   "execution_count": null,
   "metadata": {},
   "outputs": [],
   "source": []
  },
  {
   "cell_type": "code",
   "execution_count": null,
   "metadata": {},
   "outputs": [],
   "source": []
  },
  {
   "cell_type": "code",
   "execution_count": null,
   "metadata": {},
   "outputs": [],
   "source": [
    "# Hyperparameter\n",
    "hyperparam_space = {\n",
    "    'dtree__criterion':['gini', 'entropy'],\n",
    "    'dtree__splitter':['best', 'random'],\n",
    "    'dtree__max_features':['auto', 'sqrt', 'log2', 'none'],\n",
    "    'dtree__class_weight':['balanced', 'none'],\n",
    "    'dtree__min_samples_split':[2,3,4,5],\n",
    "    'dtree__max_depth':[3,5,7]\n",
    "}\n",
    "\n",
    "# Cross Validation\n",
    "skfold = StratifiedKFold(n_splits=5)\n",
    "\n",
    "# Searching with GridSearch - Cross Validation\n",
    "dtree_rfe_grid_search = GridSearchCV(\n",
    "    dtree_rfe,\n",
    "    param_grid = hyperparam_space,\n",
    "    cv = skfold,\n",
    "    n_jobs=-1,\n",
    "    scoring='precision'\n",
    ")"
   ]
  },
  {
   "cell_type": "code",
   "execution_count": null,
   "metadata": {},
   "outputs": [],
   "source": [
    "dtree_rfe_grid_search.fit(X_train, y_train)\n",
    "print('DTree RFE Best Params:',dtree_rfe_grid_search.best_params_)\n",
    "print('DTree RFE Best Score:',dtree_rfe_grid_search.best_score_)"
   ]
  },
  {
   "cell_type": "code",
   "execution_count": null,
   "metadata": {},
   "outputs": [],
   "source": [
    "dtree_rfe_tuned = Pipeline(steps=[('preprocessor_2', preprocessor_2),\n",
    "                                ('rfe', RFE(estimator=DecisionTreeClassifier(), n_features_to_select=5)),\n",
    "                                ('dtree', DecisionTreeClassifier(class_weight='balanced', criterion='gini', max_features='auto', min_samples_split=2, splitter='random', max_depth=3))])\n",
    "\n",
    "dtree_rfe_tuned.fit(X_train, y_train)"
   ]
  },
  {
   "cell_type": "code",
   "execution_count": null,
   "metadata": {},
   "outputs": [],
   "source": [
    "y_pred_dtree_select_tuned = dtree_select_tuned.predict(X_test)\n",
    "print(classification_report(y_test, y_pred_dtree_select_tuned))"
   ]
  },
  {
   "cell_type": "code",
   "execution_count": null,
   "metadata": {},
   "outputs": [],
   "source": []
  }
 ],
 "metadata": {
  "kernelspec": {
   "display_name": "Python 3",
   "language": "python",
   "name": "python3"
  },
  "language_info": {
   "codemirror_mode": {
    "name": "ipython",
    "version": 3
   },
   "file_extension": ".py",
   "mimetype": "text/x-python",
   "name": "python",
   "nbconvert_exporter": "python",
   "pygments_lexer": "ipython3",
   "version": "3.8.5"
  }
 },
 "nbformat": 4,
 "nbformat_minor": 4
}
