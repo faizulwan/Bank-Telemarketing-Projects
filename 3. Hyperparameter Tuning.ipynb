{
 "cells": [
  {
   "cell_type": "code",
   "execution_count": 1,
   "metadata": {},
   "outputs": [],
   "source": [
    "import pandas as pd\n",
    "import matplotlib.pyplot as plt\n",
    "import seaborn as sns\n",
    "from scipy import stats\n",
    "import numpy as np\n",
    "\n",
    "from sklearn.preprocessing import MinMaxScaler\n",
    "from sklearn.preprocessing import StandardScaler\n",
    "from sklearn.preprocessing import RobustScaler\n",
    "from sklearn.preprocessing import PolynomialFeatures\n",
    "from sklearn.feature_selection import SelectPercentile\n",
    "from imblearn.over_sampling import SMOTE\n",
    "from imblearn.under_sampling import RandomUnderSampler, NearMiss\n",
    "\n",
    "from imblearn.pipeline import Pipeline\n",
    "\n",
    "from sklearn.model_selection import train_test_split, cross_validate\n",
    "\n",
    "from sklearn.linear_model import LogisticRegression\n",
    "from sklearn.ensemble import RandomForestClassifier\n",
    "from sklearn.tree import DecisionTreeClassifier\n",
    "from sklearn.neighbors import KNeighborsClassifier\n",
    "from sklearn.linear_model import LinearRegression\n",
    "\n",
    "from sklearn.model_selection import StratifiedKFold\n",
    "from sklearn.model_selection import cross_val_score\n",
    "from sklearn.model_selection import GridSearchCV\n",
    "\n",
    "from sklearn.preprocessing import OneHotEncoder\n",
    "from sklearn.compose import ColumnTransformer\n",
    "import category_encoders as ce\n",
    "\n",
    "from sklearn.model_selection import learning_curve\n",
    "\n",
    "from mlxtend.plotting import plot_learning_curves\n",
    "from yellowbrick.model_selection import LearningCurve\n",
    "\n",
    "from sklearn.metrics import balanced_accuracy_score, precision_score, recall_score, f1_score, roc_auc_score, accuracy_score\n",
    "from sklearn.metrics import confusion_matrix, classification_report\n",
    "\n",
    "\n",
    "import pickle\n",
    "\n",
    "import warnings\n",
    "\n",
    "\n",
    "warnings.filterwarnings('ignore')"
   ]
  },
  {
   "cell_type": "code",
   "execution_count": 11,
   "metadata": {},
   "outputs": [
    {
     "data": {
      "text/html": [
       "<div>\n",
       "<style scoped>\n",
       "    .dataframe tbody tr th:only-of-type {\n",
       "        vertical-align: middle;\n",
       "    }\n",
       "\n",
       "    .dataframe tbody tr th {\n",
       "        vertical-align: top;\n",
       "    }\n",
       "\n",
       "    .dataframe thead th {\n",
       "        text-align: right;\n",
       "    }\n",
       "</style>\n",
       "<table border=\"1\" class=\"dataframe\">\n",
       "  <thead>\n",
       "    <tr style=\"text-align: right;\">\n",
       "      <th></th>\n",
       "      <th>age</th>\n",
       "      <th>job</th>\n",
       "      <th>marital</th>\n",
       "      <th>education</th>\n",
       "      <th>housing</th>\n",
       "      <th>loan</th>\n",
       "      <th>month</th>\n",
       "      <th>campaign</th>\n",
       "      <th>pdays</th>\n",
       "      <th>previous</th>\n",
       "      <th>poutcome</th>\n",
       "      <th>emp.var.rate</th>\n",
       "      <th>cons.price.idx</th>\n",
       "      <th>cons.conf.idx</th>\n",
       "      <th>euribor3m</th>\n",
       "      <th>nr.employed</th>\n",
       "      <th>label</th>\n",
       "    </tr>\n",
       "  </thead>\n",
       "  <tbody>\n",
       "    <tr>\n",
       "      <th>0</th>\n",
       "      <td>56</td>\n",
       "      <td>housemaid</td>\n",
       "      <td>married</td>\n",
       "      <td>basic.4y</td>\n",
       "      <td>no</td>\n",
       "      <td>no</td>\n",
       "      <td>may</td>\n",
       "      <td>1</td>\n",
       "      <td>0</td>\n",
       "      <td>0</td>\n",
       "      <td>nonexistent</td>\n",
       "      <td>1.1</td>\n",
       "      <td>93.994</td>\n",
       "      <td>-36.4</td>\n",
       "      <td>4.857</td>\n",
       "      <td>5191.0</td>\n",
       "      <td>0</td>\n",
       "    </tr>\n",
       "    <tr>\n",
       "      <th>1</th>\n",
       "      <td>57</td>\n",
       "      <td>services</td>\n",
       "      <td>married</td>\n",
       "      <td>high.school</td>\n",
       "      <td>no</td>\n",
       "      <td>no</td>\n",
       "      <td>may</td>\n",
       "      <td>1</td>\n",
       "      <td>0</td>\n",
       "      <td>0</td>\n",
       "      <td>nonexistent</td>\n",
       "      <td>1.1</td>\n",
       "      <td>93.994</td>\n",
       "      <td>-36.4</td>\n",
       "      <td>4.857</td>\n",
       "      <td>5191.0</td>\n",
       "      <td>0</td>\n",
       "    </tr>\n",
       "    <tr>\n",
       "      <th>2</th>\n",
       "      <td>37</td>\n",
       "      <td>services</td>\n",
       "      <td>married</td>\n",
       "      <td>high.school</td>\n",
       "      <td>yes</td>\n",
       "      <td>no</td>\n",
       "      <td>may</td>\n",
       "      <td>1</td>\n",
       "      <td>0</td>\n",
       "      <td>0</td>\n",
       "      <td>nonexistent</td>\n",
       "      <td>1.1</td>\n",
       "      <td>93.994</td>\n",
       "      <td>-36.4</td>\n",
       "      <td>4.857</td>\n",
       "      <td>5191.0</td>\n",
       "      <td>0</td>\n",
       "    </tr>\n",
       "  </tbody>\n",
       "</table>\n",
       "</div>"
      ],
      "text/plain": [
       "   age        job  marital    education housing loan month  campaign  pdays  \\\n",
       "0   56  housemaid  married     basic.4y      no   no   may         1      0   \n",
       "1   57   services  married  high.school      no   no   may         1      0   \n",
       "2   37   services  married  high.school     yes   no   may         1      0   \n",
       "\n",
       "   previous     poutcome  emp.var.rate  cons.price.idx  cons.conf.idx  \\\n",
       "0         0  nonexistent           1.1          93.994          -36.4   \n",
       "1         0  nonexistent           1.1          93.994          -36.4   \n",
       "2         0  nonexistent           1.1          93.994          -36.4   \n",
       "\n",
       "   euribor3m  nr.employed  label  \n",
       "0      4.857       5191.0      0  \n",
       "1      4.857       5191.0      0  \n",
       "2      4.857       5191.0      0  "
      ]
     },
     "execution_count": 11,
     "metadata": {},
     "output_type": "execute_result"
    }
   ],
   "source": [
    "df = pd.read_csv('campaign_clean.csv').drop('Unnamed: 0', axis=1)\n",
    "df.head(3)"
   ]
  },
  {
   "cell_type": "markdown",
   "metadata": {},
   "source": [
    "# Hyperparameter Tuning"
   ]
  },
  {
   "cell_type": "markdown",
   "metadata": {},
   "source": [
    "- Logistic Regression = Polynomial - Selection Feature\n",
    "- Decision Tree = Selection Feature\n",
    "- Random Forest = Selectiion Feature"
   ]
  },
  {
   "cell_type": "markdown",
   "metadata": {},
   "source": [
    "## Data Splitting"
   ]
  },
  {
   "cell_type": "code",
   "execution_count": 12,
   "metadata": {},
   "outputs": [],
   "source": [
    "X = df.drop('label', axis=1)\n",
    "y = df['label']"
   ]
  },
  {
   "cell_type": "code",
   "execution_count": 13,
   "metadata": {},
   "outputs": [],
   "source": [
    "X_train, X_test, y_train, y_test = train_test_split(X,y, stratify=y, random_state=2020, test_size=.2)"
   ]
  },
  {
   "cell_type": "code",
   "execution_count": 157,
   "metadata": {},
   "outputs": [],
   "source": [
    "### Pipeline\n",
    "num_scale_trans = Pipeline(steps=[\n",
    "    ('scaler', MinMaxScaler()),\n",
    "])\n",
    "\n",
    "\n",
    "num_poly_trans = Pipeline(steps=[\n",
    "    ('poly', PolynomialFeatures(degree=3))])\n",
    "\n",
    "\n",
    "cat_trans = Pipeline(steps=[\n",
    "    ('onehot', OneHotEncoder(handle_unknown='ignore'))\n",
    "])\n",
    "\n",
    "\n",
    "\n",
    "\n",
    "### Transformer\n",
    "preprocessor_1 = ColumnTransformer([\n",
    "        ('num_scale_trans', num_scale_trans,['emp.var.rate','euribor3m','nr.employed','cons.price.idx','cons.conf.idx','age', 'campaign', 'pdays', 'previous']),\n",
    "        ('cat', cat_trans, ['marital','housing','loan', 'poutcome','job', 'education', 'month'])\n",
    "])\n",
    "     \n",
    "    \n",
    "preprocessor_2 = ColumnTransformer([\n",
    "        ('cat', cat_trans, ['marital','housing','loan', 'poutcome','job', 'education', 'month'])])\n",
    "\n",
    "\n",
    "preprocessor_1_poly = ColumnTransformer([\n",
    "        ('num_scale_trans', num_scale_trans,['emp.var.rate','euribor3m','nr.employed','cons.price.idx','cons.conf.idx','age', 'campaign', 'pdays', 'previous']),\n",
    "        ('num_poly_trans', num_poly_trans,['emp.var.rate','euribor3m','nr.employed','cons.price.idx','cons.conf.idx','age', 'campaign', 'pdays', 'previous']),\n",
    "        ('cat', cat_trans, ['marital','housing','loan', 'poutcome','job', 'education', 'month'])\n",
    "])\n",
    "     \n",
    "    \n"
   ]
  },
  {
   "cell_type": "code",
   "execution_count": 82,
   "metadata": {},
   "outputs": [],
   "source": [
    "logreg_poly = Pipeline(steps=[('preprocessor_1_poly', preprocessor_1_poly),\n",
    "                                ('logreg', LogisticRegression(random_state = 2020))])\n",
    "\n",
    "\n",
    "logreg_select = Pipeline(steps=[('preprocessor_1', preprocessor_1),\n",
    "                                ('select', SelectPercentile(percentile=30)),\n",
    "                                ('logreg', LogisticRegression(random_state = 2020))])\n",
    "\n",
    "\n",
    "logreg_poly_select = Pipeline(steps=[('preprocessor_1_poly', preprocessor_1_poly),\n",
    "                                ('select', SelectPercentile(percentile=30)),\n",
    "                                ('logreg', LogisticRegression(random_state = 2020))])\n",
    "\n",
    "\n",
    "logreg_select_poly = Pipeline(steps=[('preprocessor_1', preprocessor_1),\n",
    "                                ('select', SelectPercentile(percentile=30)),\n",
    "                                ('poly', PolynomialFeatures(degree=3)),\n",
    "                                ('logreg', LogisticRegression(random_state = 2020))])\n",
    "\n",
    "\n",
    "dtree_select = Pipeline(steps=[('preprocessor_2', preprocessor_2),\n",
    "                               ('select', SelectPercentile(percentile=30)),\n",
    "                               ('dtree', DecisionTreeClassifier(random_state = 2020))])\n",
    "\n",
    "\n",
    "ranfor_select = Pipeline(steps=[('preprocessor_2_select', preprocessor_2),\n",
    "                                ('select', SelectPercentile(percentile=30)),\n",
    "                                ('ranfor', RandomForestClassifier(random_state = 2020))])"
   ]
  },
  {
   "cell_type": "markdown",
   "metadata": {},
   "source": [
    "## Logistic Regression"
   ]
  },
  {
   "cell_type": "markdown",
   "metadata": {},
   "source": [
    "### Poly Logistic Regression"
   ]
  },
  {
   "cell_type": "code",
   "execution_count": 38,
   "metadata": {},
   "outputs": [],
   "source": [
    "## Logistic Regression\n",
    "\n",
    "# Hyperparameter\n",
    "hyperparam_space = {\n",
    "    'logreg__solver':['lbfgs', 'liblinear', 'sag', 'saga', 'newton-cg'],\n",
    "    'logreg__penalty':['l1', 'l2', 'elasticnet', 'none'],\n",
    "    'logreg__max_iter':[1, 10, 100, 1000, 10000]\n",
    "}\n",
    "\n",
    "# Cross Validation\n",
    "skfold = StratifiedKFold(n_splits=5)\n",
    "\n",
    "# Searching with GridSearch - Cross Validation\n",
    "logreg_poly_grid_search = GridSearchCV(\n",
    "    logreg_poly,\n",
    "    param_grid = hyperparam_space,\n",
    "    cv = skfold,\n",
    "    n_jobs=-1,\n",
    "    scoring='precision'\n",
    ")"
   ]
  },
  {
   "cell_type": "code",
   "execution_count": 28,
   "metadata": {},
   "outputs": [
    {
     "name": "stdout",
     "output_type": "stream",
     "text": [
      "Logreg Poly Best Params: {'logreg__max_iter': 100, 'logreg__penalty': 'l2', 'logreg__solver': 'newton-cg'}\n",
      "Logreg Poly Params: 0.6754362521352755\n"
     ]
    }
   ],
   "source": [
    "logreg_poly_grid_search.fit(X_train, y_train)\n",
    "print('Logreg Poly Best Params:',logreg_poly_grid_search.best_params_)\n",
    "print('Logreg Poly Params:',logreg_poly_grid_search.best_score_)"
   ]
  },
  {
   "cell_type": "code",
   "execution_count": 30,
   "metadata": {},
   "outputs": [
    {
     "data": {
      "text/plain": [
       "Pipeline(steps=[('preprocessor_1_poly',\n",
       "                 ColumnTransformer(transformers=[('num_scale_trans',\n",
       "                                                  Pipeline(steps=[('scaler',\n",
       "                                                                   MinMaxScaler())]),\n",
       "                                                  ['emp.var.rate', 'euribor3m',\n",
       "                                                   'nr.employed',\n",
       "                                                   'cons.price.idx',\n",
       "                                                   'cons.conf.idx', 'age',\n",
       "                                                   'campaign', 'pdays',\n",
       "                                                   'previous']),\n",
       "                                                 ('num_poly_trans',\n",
       "                                                  Pipeline(steps=[('poly',\n",
       "                                                                   PolynomialFeatures(degree=3))]),\n",
       "                                                  ['emp.var.rate', 'euribor3m',\n",
       "                                                   'nr.employed',\n",
       "                                                   'cons.price.idx',\n",
       "                                                   'cons.conf.idx', 'age',\n",
       "                                                   'campaign', 'pdays',\n",
       "                                                   'previous']),\n",
       "                                                 ('cat',\n",
       "                                                  Pipeline(steps=[('onehot',\n",
       "                                                                   OneHotEncoder(handle_unknown='ignore'))]),\n",
       "                                                  ['marital', 'housing', 'loan',\n",
       "                                                   'poutcome', 'job',\n",
       "                                                   'education', 'month'])])),\n",
       "                ('logreg',\n",
       "                 LogisticRegression(random_state=2020, solver='newton-cg'))])"
      ]
     },
     "execution_count": 30,
     "metadata": {},
     "output_type": "execute_result"
    }
   ],
   "source": [
    "logreg_poly_tuned =  Pipeline(steps=[('preprocessor_1_poly', preprocessor_1_poly),\n",
    "                                ('logreg', LogisticRegression(solver='newton-cg', penalty='l2', max_iter=100, random_state = 2020))])\n",
    "logreg_poly_tuned.fit(X_train, y_train)"
   ]
  },
  {
   "cell_type": "code",
   "execution_count": 31,
   "metadata": {},
   "outputs": [
    {
     "name": "stdout",
     "output_type": "stream",
     "text": [
      "              precision    recall  f1-score   support\n",
      "\n",
      "           0       0.91      0.99      0.95      6797\n",
      "           1       0.66      0.21      0.32       852\n",
      "\n",
      "    accuracy                           0.90      7649\n",
      "   macro avg       0.79      0.60      0.63      7649\n",
      "weighted avg       0.88      0.90      0.88      7649\n",
      "\n"
     ]
    }
   ],
   "source": [
    "y_pred_logreg_poly_tuned = logreg_poly_tuned.predict(X_test)\n",
    "print(classification_report(y_test, y_pred_logreg_poly_tuned))"
   ]
  },
  {
   "cell_type": "markdown",
   "metadata": {},
   "source": [
    "### Select Logistic Regression"
   ]
  },
  {
   "cell_type": "code",
   "execution_count": 33,
   "metadata": {},
   "outputs": [],
   "source": [
    "## Logistic Regression\n",
    "\n",
    "# Hyperparameter\n",
    "hyperparam_space = {\n",
    "    'logreg__solver':['lbfgs', 'liblinear', 'sag', 'saga', 'newton-cg'],\n",
    "    'logreg__penalty':['l1', 'l2', 'elasticnet', 'none'],\n",
    "    'logreg__max_iter':[1, 10, 100, 1000, 10000]\n",
    "}\n",
    "\n",
    "# Cross Validation\n",
    "skfold = StratifiedKFold(n_splits=5)\n",
    "\n",
    "# Searching with GridSearch - Cross Validation\n",
    "logreg_select_grid_search = GridSearchCV(\n",
    "    logreg_select,\n",
    "    param_grid = hyperparam_space,\n",
    "    cv = skfold,\n",
    "    n_jobs=-1,\n",
    "    scoring='precision'\n",
    ")"
   ]
  },
  {
   "cell_type": "code",
   "execution_count": 35,
   "metadata": {},
   "outputs": [
    {
     "name": "stdout",
     "output_type": "stream",
     "text": [
      "Logreg Select Best Params: {'logreg__max_iter': 1, 'logreg__penalty': 'l1', 'logreg__solver': 'saga'}\n",
      "Logreg Select Params: 0.7106076432185388\n"
     ]
    }
   ],
   "source": [
    "logreg_select_grid_search.fit(X_train, y_train)\n",
    "print('Logreg Select Best Params:',logreg_select_grid_search.best_params_)\n",
    "print('Logreg Select Params:',logreg_select_grid_search.best_score_)"
   ]
  },
  {
   "cell_type": "code",
   "execution_count": 36,
   "metadata": {},
   "outputs": [
    {
     "data": {
      "text/plain": [
       "Pipeline(steps=[('preprocessor_1',\n",
       "                 ColumnTransformer(transformers=[('num_scale_trans',\n",
       "                                                  Pipeline(steps=[('scaler',\n",
       "                                                                   MinMaxScaler())]),\n",
       "                                                  ['emp.var.rate', 'euribor3m',\n",
       "                                                   'nr.employed',\n",
       "                                                   'cons.price.idx',\n",
       "                                                   'cons.conf.idx', 'age',\n",
       "                                                   'campaign', 'pdays',\n",
       "                                                   'previous'])])),\n",
       "                ('select', SelectPercentile(percentile=30)),\n",
       "                ('logreg',\n",
       "                 LogisticRegression(random_state=2020, solver='newton-cg'))])"
      ]
     },
     "execution_count": 36,
     "metadata": {},
     "output_type": "execute_result"
    }
   ],
   "source": [
    "logreg_select_tuned = Pipeline(steps=[('preprocessor_1', preprocessor_1),\n",
    "                                ('select', SelectPercentile(percentile=30)),\n",
    "                                ('logreg', LogisticRegression(solver='newton-cg', penalty='l2', max_iter=100,random_state = 2020))])\n",
    "\n",
    "logreg_select_tuned.fit(X_train, y_train)"
   ]
  },
  {
   "cell_type": "code",
   "execution_count": 37,
   "metadata": {},
   "outputs": [
    {
     "name": "stdout",
     "output_type": "stream",
     "text": [
      "              precision    recall  f1-score   support\n",
      "\n",
      "           0       0.91      0.99      0.95      6797\n",
      "           1       0.70      0.19      0.30       852\n",
      "\n",
      "    accuracy                           0.90      7649\n",
      "   macro avg       0.80      0.59      0.62      7649\n",
      "weighted avg       0.88      0.90      0.87      7649\n",
      "\n"
     ]
    }
   ],
   "source": [
    "y_pred_logreg_select_tuned = logreg_select_tuned.predict(X_test)\n",
    "print(classification_report(y_test, y_pred_logreg_select_tuned))"
   ]
  },
  {
   "cell_type": "markdown",
   "metadata": {},
   "source": [
    "### Poly + Select Logistic Regression"
   ]
  },
  {
   "cell_type": "code",
   "execution_count": 39,
   "metadata": {},
   "outputs": [],
   "source": [
    "## Logistic Regression\n",
    "\n",
    "# Hyperparameter\n",
    "hyperparam_space = {\n",
    "    'logreg__solver':['lbfgs', 'liblinear', 'sag', 'saga', 'newton-cg'],\n",
    "    'logreg__penalty':['l1', 'l2', 'elasticnet', 'none'],\n",
    "    'logreg__max_iter':[1, 10, 100, 1000, 10000]\n",
    "}\n",
    "\n",
    "# Cross Validation\n",
    "skfold = StratifiedKFold(n_splits=5)\n",
    "\n",
    "# Searching with GridSearch - Cross Validation\n",
    "logreg_poly_select_grid_search = GridSearchCV(\n",
    "    logreg_poly_select,\n",
    "    param_grid = hyperparam_space,\n",
    "    cv = skfold,\n",
    "    n_jobs=-1,\n",
    "    scoring='precision'\n",
    ")"
   ]
  },
  {
   "cell_type": "code",
   "execution_count": 40,
   "metadata": {},
   "outputs": [
    {
     "name": "stdout",
     "output_type": "stream",
     "text": [
      "Logreg Select Best Params: {'logreg__max_iter': 100, 'logreg__penalty': 'l2', 'logreg__solver': 'newton-cg'}\n",
      "Logreg Select Params: 0.7088836213579087\n"
     ]
    }
   ],
   "source": [
    "logreg_poly_select_grid_search.fit(X_train, y_train)\n",
    "print('Logreg Select Best Params:',logreg_poly_select_grid_search.best_params_)\n",
    "print('Logreg Select Params:',logreg_poly_select_grid_search.best_score_)"
   ]
  },
  {
   "cell_type": "code",
   "execution_count": 41,
   "metadata": {},
   "outputs": [
    {
     "data": {
      "text/plain": [
       "Pipeline(steps=[('preprocessor_1_poly',\n",
       "                 ColumnTransformer(transformers=[('num_scale_trans',\n",
       "                                                  Pipeline(steps=[('scaler',\n",
       "                                                                   MinMaxScaler())]),\n",
       "                                                  ['emp.var.rate', 'euribor3m',\n",
       "                                                   'nr.employed',\n",
       "                                                   'cons.price.idx',\n",
       "                                                   'cons.conf.idx', 'age',\n",
       "                                                   'campaign', 'pdays',\n",
       "                                                   'previous']),\n",
       "                                                 ('num_poly_trans',\n",
       "                                                  Pipeline(steps=[('poly',\n",
       "                                                                   PolynomialFeatures(degree=3))]),\n",
       "                                                  ['emp.var.rate', 'euribor3m',\n",
       "                                                   'nr.employed',\n",
       "                                                   'cons.price.idx',\n",
       "                                                   'cons.conf.idx', 'age',\n",
       "                                                   'campaign', 'pdays',\n",
       "                                                   'previous']),\n",
       "                                                 ('cat',\n",
       "                                                  Pipeline(steps=[('onehot',\n",
       "                                                                   OneHotEncoder(handle_unknown='ignore'))]),\n",
       "                                                  ['marital', 'housing', 'loan',\n",
       "                                                   'poutcome', 'job',\n",
       "                                                   'education', 'month'])])),\n",
       "                ('select', SelectPercentile(percentile=30)),\n",
       "                ('logreg',\n",
       "                 LogisticRegression(random_state=2020, solver='newton-cg'))])"
      ]
     },
     "execution_count": 41,
     "metadata": {},
     "output_type": "execute_result"
    }
   ],
   "source": [
    "logreg_poly_select_tuned = Pipeline(steps=[('preprocessor_1_poly', preprocessor_1_poly),\n",
    "                                ('select', SelectPercentile(percentile=30)),\n",
    "                                ('logreg', LogisticRegression(solver='newton-cg', penalty='l2', max_iter=100,random_state = 2020))])\n",
    "\n",
    "logreg_poly_select_tuned.fit(X_train, y_train)"
   ]
  },
  {
   "cell_type": "code",
   "execution_count": 42,
   "metadata": {},
   "outputs": [
    {
     "name": "stdout",
     "output_type": "stream",
     "text": [
      "              precision    recall  f1-score   support\n",
      "\n",
      "           0       0.91      0.99      0.95      6797\n",
      "           1       0.71      0.18      0.29       852\n",
      "\n",
      "    accuracy                           0.90      7649\n",
      "   macro avg       0.81      0.59      0.62      7649\n",
      "weighted avg       0.88      0.90      0.87      7649\n",
      "\n"
     ]
    }
   ],
   "source": [
    "y_pred_logreg_poly_select_tuned = logreg_poly_select_tuned.predict(X_test)\n",
    "print(classification_report(y_test, y_pred_logreg_poly_select_tuned))"
   ]
  },
  {
   "cell_type": "code",
   "execution_count": null,
   "metadata": {},
   "outputs": [],
   "source": []
  },
  {
   "cell_type": "markdown",
   "metadata": {},
   "source": [
    "### Select + Poly Logistic Regression"
   ]
  },
  {
   "cell_type": "code",
   "execution_count": 46,
   "metadata": {},
   "outputs": [],
   "source": [
    "## Logistic Regression\n",
    "\n",
    "# Hyperparameter\n",
    "hyperparam_space = {\n",
    "    'logreg__solver':['lbfgs', 'liblinear', 'sag', 'saga', 'newton-cg'],\n",
    "    'logreg__penalty':['l1', 'l2', 'elasticnet', 'none'],\n",
    "    'logreg__max_iter':[1, 10, 100, 1000, 10000]\n",
    "}\n",
    "\n",
    "# Cross Validation\n",
    "skfold = StratifiedKFold(n_splits=5)\n",
    "\n",
    "# Searching with GridSearch - Cross Validation\n",
    "logreg_select_poly_grid_search = GridSearchCV(\n",
    "    logreg_select_poly,\n",
    "    param_grid = hyperparam_space,\n",
    "    cv = skfold,\n",
    "    n_jobs=-1,\n",
    "    scoring='precision'\n",
    ")"
   ]
  },
  {
   "cell_type": "code",
   "execution_count": 47,
   "metadata": {},
   "outputs": [
    {
     "name": "stdout",
     "output_type": "stream",
     "text": [
      "Logreg Select Best Params: {'logreg__max_iter': 100, 'logreg__penalty': 'none', 'logreg__solver': 'sag'}\n",
      "Logreg Select Params: 0.7242029175198936\n"
     ]
    }
   ],
   "source": [
    "logreg_select_poly_grid_search.fit(X_train, y_train)\n",
    "print('Logreg Select Poly Best Params:',logreg_select_poly_grid_search.best_params_)\n",
    "print('Logreg Select Poly Params:',logreg_select_poly_grid_search.best_score_)"
   ]
  },
  {
   "cell_type": "code",
   "execution_count": 158,
   "metadata": {},
   "outputs": [
    {
     "data": {
      "text/plain": [
       "Pipeline(steps=[('preprocessor_1',\n",
       "                 ColumnTransformer(transformers=[('num_scale_trans',\n",
       "                                                  Pipeline(steps=[('scaler',\n",
       "                                                                   MinMaxScaler())]),\n",
       "                                                  ['emp.var.rate', 'euribor3m',\n",
       "                                                   'nr.employed',\n",
       "                                                   'cons.price.idx',\n",
       "                                                   'cons.conf.idx', 'age',\n",
       "                                                   'campaign', 'pdays',\n",
       "                                                   'previous']),\n",
       "                                                 ('cat',\n",
       "                                                  Pipeline(steps=[('onehot',\n",
       "                                                                   OneHotEncoder(handle_unknown='ignore'))]),\n",
       "                                                  ['marital', 'housing', 'loan',\n",
       "                                                   'poutcome', 'job',\n",
       "                                                   'education', 'month'])])),\n",
       "                ('select', SelectPercentile(percentile=30)),\n",
       "                ('poly', PolynomialFeatures(degree=3)),\n",
       "                ('logreg',\n",
       "                 LogisticRegression(penalty='none', random_state=2020,\n",
       "                                    solver='sag'))])"
      ]
     },
     "execution_count": 158,
     "metadata": {},
     "output_type": "execute_result"
    }
   ],
   "source": [
    "logreg_select_poly_tuned = Pipeline(steps=[('preprocessor_1', preprocessor_1),\n",
    "                                ('select', SelectPercentile(percentile=30)),\n",
    "                                ('poly', PolynomialFeatures(degree=3)),\n",
    "                                ('logreg', LogisticRegression(solver='sag', penalty='none', max_iter=100,random_state = 2020))])\n",
    "\n",
    "logreg_select_poly_tuned.fit(X_train, y_train)"
   ]
  },
  {
   "cell_type": "code",
   "execution_count": 159,
   "metadata": {},
   "outputs": [
    {
     "name": "stdout",
     "output_type": "stream",
     "text": [
      "              precision    recall  f1-score   support\n",
      "\n",
      "           0       0.91      0.98      0.95      6797\n",
      "           1       0.64      0.23      0.34       852\n",
      "\n",
      "    accuracy                           0.90      7649\n",
      "   macro avg       0.78      0.61      0.64      7649\n",
      "weighted avg       0.88      0.90      0.88      7649\n",
      "\n"
     ]
    }
   ],
   "source": [
    "y_pred_logreg_select_poly_tuned = logreg_select_poly_tuned.predict(X_test)\n",
    "print(classification_report(y_test, y_pred_logreg_select_poly_tuned))"
   ]
  },
  {
   "cell_type": "code",
   "execution_count": null,
   "metadata": {},
   "outputs": [],
   "source": []
  },
  {
   "cell_type": "markdown",
   "metadata": {},
   "source": [
    "### Select Decision Tree Regression"
   ]
  },
  {
   "cell_type": "code",
   "execution_count": 104,
   "metadata": {},
   "outputs": [],
   "source": [
    "# Hyperparameter\n",
    "hyperparam_space = {\n",
    "    'dtree__criterion':['gini', 'entropy'],\n",
    "    'dtree__splitter':['best', 'random'],\n",
    "    'dtree__max_features':['auto', 'sqrt', 'log2', 'none'],\n",
    "    'dtree__class_weight':['balanced', 'none'],\n",
    "    'dtree__min_samples_split':[2,3,4,5],\n",
    "    'dtree__max_depth':[3,5,7]\n",
    "}\n",
    "\n",
    "# Cross Validation\n",
    "skfold = StratifiedKFold(n_splits=5)\n",
    "\n",
    "# Searching with GridSearch - Cross Validation\n",
    "dtree_select_grid_search = GridSearchCV(\n",
    "    dtree_select,\n",
    "    param_grid = hyperparam_space,\n",
    "    cv = skfold,\n",
    "    n_jobs=-1,\n",
    "    scoring='precision'\n",
    ")"
   ]
  },
  {
   "cell_type": "code",
   "execution_count": 105,
   "metadata": {},
   "outputs": [
    {
     "name": "stdout",
     "output_type": "stream",
     "text": [
      "DTree Select Best Params: {'dtree__class_weight': 'balanced', 'dtree__criterion': 'gini', 'dtree__max_depth': 3, 'dtree__max_features': 'auto', 'dtree__min_samples_split': 2, 'dtree__splitter': 'random'}\n",
      "DTree Select Best Score: 0.4820014518852641\n"
     ]
    }
   ],
   "source": [
    "dtree_select_grid_search.fit(X_train, y_train)\n",
    "print('DTree Select Best Params:',dtree_select_grid_search.best_params_)\n",
    "print('DTree Select Best Score:',dtree_select_grid_search.best_score_)"
   ]
  },
  {
   "cell_type": "code",
   "execution_count": 106,
   "metadata": {},
   "outputs": [
    {
     "data": {
      "text/plain": [
       "Pipeline(steps=[('preprocessor_2',\n",
       "                 ColumnTransformer(transformers=[('cat',\n",
       "                                                  Pipeline(steps=[('onehot',\n",
       "                                                                   OneHotEncoder(handle_unknown='ignore'))]),\n",
       "                                                  ['marital', 'housing', 'loan',\n",
       "                                                   'poutcome', 'job',\n",
       "                                                   'education', 'month'])])),\n",
       "                ('select', SelectPercentile(percentile=30)),\n",
       "                ('dtree',\n",
       "                 DecisionTreeClassifier(class_weight='balanced', max_depth=3,\n",
       "                                        max_features='auto',\n",
       "                                        splitter='random'))])"
      ]
     },
     "execution_count": 106,
     "metadata": {},
     "output_type": "execute_result"
    }
   ],
   "source": [
    "dtree_select_tuned = Pipeline(steps=[('preprocessor_2', preprocessor_2),\n",
    "                                ('select', SelectPercentile(percentile=30)),\n",
    "                                ('dtree', DecisionTreeClassifier(class_weight='balanced', criterion='gini', max_features='auto', min_samples_split=2, splitter='random', max_depth=3))])\n",
    "\n",
    "dtree_select_tuned.fit(X_train, y_train)"
   ]
  },
  {
   "cell_type": "code",
   "execution_count": 107,
   "metadata": {},
   "outputs": [
    {
     "name": "stdout",
     "output_type": "stream",
     "text": [
      "              precision    recall  f1-score   support\n",
      "\n",
      "           0       0.94      0.34      0.50      6797\n",
      "           1       0.13      0.81      0.23       852\n",
      "\n",
      "    accuracy                           0.39      7649\n",
      "   macro avg       0.53      0.58      0.36      7649\n",
      "weighted avg       0.85      0.39      0.47      7649\n",
      "\n"
     ]
    }
   ],
   "source": [
    "y_pred_dtree_select_tuned = dtree_select_tuned.predict(X_test)\n",
    "print(classification_report(y_test, y_pred_dtree_select_tuned))"
   ]
  },
  {
   "cell_type": "code",
   "execution_count": null,
   "metadata": {},
   "outputs": [],
   "source": []
  },
  {
   "cell_type": "markdown",
   "metadata": {},
   "source": [
    "### Select Ranfor Regression"
   ]
  },
  {
   "cell_type": "code",
   "execution_count": 108,
   "metadata": {},
   "outputs": [],
   "source": [
    "# Hyperparameter\n",
    "\n",
    "hyperparam_space = {\n",
    "    'ranfor__criterion':['gini', 'entropy'],\n",
    "    'ranfor__max_features':['auto', 'sqrt', 'log2'],\n",
    "    'ranfor__class_weight':['balance','balanced_subsample', 'none'],\n",
    "    'ranfor__min_samples_split':[2,3,4,5],\n",
    "    'ranfor__max_depth':[3,5,7]\n",
    "}\n",
    "\n",
    "# Cross Validation\n",
    "skfold = StratifiedKFold(n_splits=5)\n",
    "\n",
    "# Searching with GridSearch - Cross Validation\n",
    "ranfor_select_grid_search = GridSearchCV(\n",
    "    ranfor_select,\n",
    "    param_grid = hyperparam_space,\n",
    "    cv = skfold,\n",
    "    n_jobs=-1,\n",
    "    scoring='precision'\n",
    ")"
   ]
  },
  {
   "cell_type": "code",
   "execution_count": 109,
   "metadata": {},
   "outputs": [
    {
     "name": "stdout",
     "output_type": "stream",
     "text": [
      "DTree Select Best Params: {'ranfor__class_weight': 'balanced_subsample', 'ranfor__criterion': 'gini', 'ranfor__max_depth': 7, 'ranfor__max_features': 'auto', 'ranfor__min_samples_split': 2}\n",
      "DTree Select Best Score: 0.31409834881402476\n"
     ]
    }
   ],
   "source": [
    "ranfor_select_grid_search.fit(X_train, y_train)\n",
    "print('DTree Select Best Params:',ranfor_select_grid_search.best_params_)\n",
    "print('DTree Select Best Score:',ranfor_select_grid_search.best_score_)"
   ]
  },
  {
   "cell_type": "code",
   "execution_count": 110,
   "metadata": {},
   "outputs": [
    {
     "data": {
      "text/plain": [
       "Pipeline(steps=[('preprocessor_2',\n",
       "                 ColumnTransformer(transformers=[('cat',\n",
       "                                                  Pipeline(steps=[('onehot',\n",
       "                                                                   OneHotEncoder(handle_unknown='ignore'))]),\n",
       "                                                  ['marital', 'housing', 'loan',\n",
       "                                                   'poutcome', 'job',\n",
       "                                                   'education', 'month'])])),\n",
       "                ('select', SelectPercentile(percentile=30)),\n",
       "                ('ranfor',\n",
       "                 RandomForestClassifier(class_weight='balanced_subsample',\n",
       "                                        max_depth=7))])"
      ]
     },
     "execution_count": 110,
     "metadata": {},
     "output_type": "execute_result"
    }
   ],
   "source": [
    "ranfor_select_tuned = Pipeline(steps=[('preprocessor_2', preprocessor_2),\n",
    "                                ('select', SelectPercentile(percentile=30)),\n",
    "                                ('ranfor', RandomForestClassifier(class_weight='balanced_subsample', criterion='gini', max_features='auto', min_samples_split=2, max_depth=7))])\n",
    "\n",
    "ranfor_select_tuned.fit(X_train, y_train)"
   ]
  },
  {
   "cell_type": "code",
   "execution_count": 111,
   "metadata": {},
   "outputs": [
    {
     "name": "stdout",
     "output_type": "stream",
     "text": [
      "              precision    recall  f1-score   support\n",
      "\n",
      "           0       0.94      0.87      0.90      6797\n",
      "           1       0.33      0.52      0.40       852\n",
      "\n",
      "    accuracy                           0.83      7649\n",
      "   macro avg       0.63      0.70      0.65      7649\n",
      "weighted avg       0.87      0.83      0.84      7649\n",
      "\n"
     ]
    }
   ],
   "source": [
    "y_pred_ranfor_select_tuned = ranfor_select_tuned.predict(X_test)\n",
    "print(classification_report(y_test, y_pred_ranfor_select_tuned))"
   ]
  },
  {
   "cell_type": "code",
   "execution_count": null,
   "metadata": {},
   "outputs": [],
   "source": []
  },
  {
   "cell_type": "code",
   "execution_count": 160,
   "metadata": {},
   "outputs": [],
   "source": [
    "metric_tuned = pd.DataFrame(index = ['Poly Logistic Regression', 'Select Logistic Regression',\n",
    "                                      'Poly Select Logistic Regression', 'Select Poly Logistic Regression',\n",
    "                                      'Select Decision Tree', 'Select Ranfor']) \n",
    "\n",
    "f1 = []\n",
    "prec = []\n",
    "recall = []\n",
    "acc = []"
   ]
  },
  {
   "cell_type": "code",
   "execution_count": 161,
   "metadata": {},
   "outputs": [],
   "source": [
    "def evaluationMetrics(y_test, y_pred):\n",
    "    f1.append(f1_score(y_test,y_pred))\n",
    "    prec.append(precision_score(y_test, y_pred))\n",
    "    recall.append(recall_score(y_test, y_pred))\n",
    "    acc.append(accuracy_score(y_test, y_pred))"
   ]
  },
  {
   "cell_type": "code",
   "execution_count": 162,
   "metadata": {},
   "outputs": [],
   "source": [
    "evaluationMetrics(y_test, y_pred_logreg_poly_tuned)\n",
    "evaluationMetrics(y_test, y_pred_logreg_select_tuned)\n",
    "evaluationMetrics(y_test, y_pred_logreg_poly_select_tuned)\n",
    "evaluationMetrics(y_test, y_pred_logreg_select_poly_tuned)\n",
    "evaluationMetrics(y_test, y_pred_dtree_select_tuned)\n",
    "evaluationMetrics(y_test, y_pred_ranfor_select_tuned)"
   ]
  },
  {
   "cell_type": "code",
   "execution_count": 163,
   "metadata": {},
   "outputs": [],
   "source": [
    "metric_tuned['F1-Score'] = f1\n",
    "metric_tuned['Recall'] = recall\n",
    "metric_tuned['Precision'] = prec\n",
    "metric_tuned['Accuracy'] = acc"
   ]
  },
  {
   "cell_type": "code",
   "execution_count": 164,
   "metadata": {},
   "outputs": [],
   "source": [
    "metric_tuned = metric_tuned.sort_values(by='Precision', ascending=False).reset_index()"
   ]
  },
  {
   "cell_type": "code",
   "execution_count": 165,
   "metadata": {},
   "outputs": [
    {
     "data": {
      "text/html": [
       "<div>\n",
       "<style scoped>\n",
       "    .dataframe tbody tr th:only-of-type {\n",
       "        vertical-align: middle;\n",
       "    }\n",
       "\n",
       "    .dataframe tbody tr th {\n",
       "        vertical-align: top;\n",
       "    }\n",
       "\n",
       "    .dataframe thead th {\n",
       "        text-align: right;\n",
       "    }\n",
       "</style>\n",
       "<table border=\"1\" class=\"dataframe\">\n",
       "  <thead>\n",
       "    <tr style=\"text-align: right;\">\n",
       "      <th></th>\n",
       "      <th>index</th>\n",
       "      <th>F1-Score</th>\n",
       "      <th>Recall</th>\n",
       "      <th>Precision</th>\n",
       "      <th>Accuracy</th>\n",
       "    </tr>\n",
       "  </thead>\n",
       "  <tbody>\n",
       "    <tr>\n",
       "      <th>0</th>\n",
       "      <td>Poly Select Logistic Regression</td>\n",
       "      <td>0.291045</td>\n",
       "      <td>0.183099</td>\n",
       "      <td>0.709091</td>\n",
       "      <td>0.900641</td>\n",
       "    </tr>\n",
       "    <tr>\n",
       "      <th>1</th>\n",
       "      <td>Select Logistic Regression</td>\n",
       "      <td>0.301748</td>\n",
       "      <td>0.192488</td>\n",
       "      <td>0.697872</td>\n",
       "      <td>0.900771</td>\n",
       "    </tr>\n",
       "    <tr>\n",
       "      <th>2</th>\n",
       "      <td>Poly Logistic Regression</td>\n",
       "      <td>0.315130</td>\n",
       "      <td>0.206573</td>\n",
       "      <td>0.664151</td>\n",
       "      <td>0.899987</td>\n",
       "    </tr>\n",
       "    <tr>\n",
       "      <th>3</th>\n",
       "      <td>Select Poly Logistic Regression</td>\n",
       "      <td>0.340242</td>\n",
       "      <td>0.231221</td>\n",
       "      <td>0.643791</td>\n",
       "      <td>0.900118</td>\n",
       "    </tr>\n",
       "    <tr>\n",
       "      <th>4</th>\n",
       "      <td>Select Ranfor</td>\n",
       "      <td>0.403794</td>\n",
       "      <td>0.524648</td>\n",
       "      <td>0.328194</td>\n",
       "      <td>0.827428</td>\n",
       "    </tr>\n",
       "    <tr>\n",
       "      <th>5</th>\n",
       "      <td>Select Decision Tree</td>\n",
       "      <td>0.229698</td>\n",
       "      <td>0.813380</td>\n",
       "      <td>0.133732</td>\n",
       "      <td>0.392339</td>\n",
       "    </tr>\n",
       "  </tbody>\n",
       "</table>\n",
       "</div>"
      ],
      "text/plain": [
       "                             index  F1-Score    Recall  Precision  Accuracy\n",
       "0  Poly Select Logistic Regression  0.291045  0.183099   0.709091  0.900641\n",
       "1       Select Logistic Regression  0.301748  0.192488   0.697872  0.900771\n",
       "2         Poly Logistic Regression  0.315130  0.206573   0.664151  0.899987\n",
       "3  Select Poly Logistic Regression  0.340242  0.231221   0.643791  0.900118\n",
       "4                    Select Ranfor  0.403794  0.524648   0.328194  0.827428\n",
       "5             Select Decision Tree  0.229698  0.813380   0.133732  0.392339"
      ]
     },
     "execution_count": 165,
     "metadata": {},
     "output_type": "execute_result"
    }
   ],
   "source": [
    "metric_tuned"
   ]
  },
  {
   "cell_type": "code",
   "execution_count": 166,
   "metadata": {},
   "outputs": [
    {
     "data": {
      "image/png": "[encoded data removed]",
      "text/plain": [
       "<Figure size 1152x432 with 1 Axes>"
      ]
     },
     "metadata": {},
     "output_type": "display_data"
    }
   ],
   "source": [
    "plt.figure(figsize=(16,6))\n",
    "sns.barplot(x=metric_tuned['index'], y=metric_tuned['Precision'])\n",
    "plt.xticks(rotation=90)\n",
    "plt.title(\"Hyperparameter Tuning Data Test Metric Evaluation\", size=20)\n",
    "plt.ylim(0,1,4)\n",
    "plt.show()"
   ]
  },
  {
   "cell_type": "code",
   "execution_count": null,
   "metadata": {},
   "outputs": [],
   "source": []
  },
  {
   "cell_type": "code",
   "execution_count": null,
   "metadata": {},
   "outputs": [],
   "source": []
  }
 ],
 "metadata": {
  "kernelspec": {
   "display_name": "Python 3",
   "language": "python",
   "name": "python3"
  },
  "language_info": {
   "codemirror_mode": {
    "name": "ipython",
    "version": 3
   },
   "file_extension": ".py",
   "mimetype": "text/x-python",
   "name": "python",
   "nbconvert_exporter": "python",
   "pygments_lexer": "ipython3",
   "version": "3.8.5"
  }
 },
 "nbformat": 4,
 "nbformat_minor": 4
}
